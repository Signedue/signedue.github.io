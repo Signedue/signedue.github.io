{
 "cells": [
  {
   "cell_type": "markdown",
   "id": "956cfd5e",
   "metadata": {},
   "source": [
    "In this explainer i have tried to structure the notebook as instructed, but this also mean that the reader have to skroll a lot, since some parts fit best at the bottom of the eaxplainer."
   ]
  },
  {
   "cell_type": "markdown",
   "id": "ad5594f4",
   "metadata": {},
   "source": [
    "## Motivation\n",
    "\n",
    "This project analyzes crime data across Danish municipalities using two datasets from Statistics Denmark:\n",
    "\n",
    "* **STRAF47**: \"Unsuspended sentence by region, sex, age, type of offence, type of decision and length of sentence\"\n",
    "* **FOLK1A**: \"Population at the first day of the quarter by region, sex, age and marital status\"\n",
    "\n",
    "The primary goal is to explore spatial, demographic, and temporal patterns in crime — and to build visual narratives that highlight meaningful differences and trends.\n",
    "\n",
    "We chose to focus specifically on the **municipality level** to make the analysis more actionable and relevant for local decision-making. Within the crime dataset, we filtered for overall offence totals per gender to focus on broader trends rather than the complexities of legal categories. Our time frame spans from **2008 to 2024**, chosen as the overlapping period between the crime and population data. Gender disaggregation allowed us to explore one of the most consistent findings in criminology: the gender gap in crime involvement.\n",
    "\n",
    "Using data from Statistics Denmark ensures high quality and national representativeness. While the datasets lack individual-level resolution, their breadth and consistency over time offer strong potential for uncovering structural patterns in crime.\n",
    "\n",
    "The intended user experience is exploratory and visual. We aimed to make the differences in crime across municipalities, over time, and between genders more tangible. Later, we extend the analysis using machine learning to evaluate whether crime rates — especially for men — can be predicted based on population size, year, and location.\n"
   ]
  },
  {
   "cell_type": "markdown",
   "id": "672b9c52",
   "metadata": {},
   "source": [
    "## Load and clean crime data and basic stastics"
   ]
  },
  {
   "cell_type": "code",
   "execution_count": 177,
   "id": "5c260112",
   "metadata": {},
   "outputs": [
    {
     "name": "stdout",
     "output_type": "stream",
     "text": [
      " Basic Statistics Overview\n",
      "- Number of unique municipalities: 100\n",
      "- Number of years: 17 (from 2008 to 2024)\n",
      "- Gender distribution:\n",
      "All      1700\n",
      "Men      1700\n",
      "Women    1700\n",
      "Name: Gender, dtype: int64\n",
      "\n",
      " Summary statistics for offence counts:\n",
      "count    5100.000000\n",
      "mean       61.923529\n",
      "std       161.230350\n",
      "min         0.000000\n",
      "25%         4.000000\n",
      "50%        30.000000\n",
      "75%        67.000000\n",
      "max      2373.000000\n",
      "Name: Count, dtype: float64\n"
     ]
    }
   ],
   "source": [
    "import pandas as pd\n",
    "import plotly.express as px\n",
    "\n",
    "# Load clean Excel file\n",
    "file_path = r\"C:/Users/Baxe/Documents/SocialDataanalyseVisulisation/sentenceWithPopulation5.xlsx\"\n",
    "df = pd.read_excel(file_path, sheet_name='STRAF47')\n",
    "\n",
    "# Melt to long format\n",
    "df_melted = df.melt(id_vars=[\"Offence\", \"Gender\", \"Municipality\"],\n",
    "                    var_name=\"Year\",\n",
    "                    value_name=\"Count\")\n",
    "\n",
    "# Convert year and count\n",
    "df_melted[\"Year\"] = df_melted[\"Year\"].astype(int)\n",
    "df_melted[\"Count\"] = pd.to_numeric(df_melted[\"Count\"], errors=\"coerce\")\n",
    "\n",
    "# Remove 2007\n",
    "df_melted = df_melted[df_melted[\"Year\"] > 2007]\n",
    "\n",
    "# Optional: Keep only total offences, all genders\n",
    "df_melted = df_melted[df_melted[\"Offence\"] == \"Nature of the offence, total\"]\n",
    "\n",
    "\n",
    "# Standardize municipality names\n",
    "df_melted[\"Municipality\"] = df_melted[\"Municipality\"].str.lower().str.strip()\n",
    "\n",
    "# --- Basic Stats ---\n",
    "\n",
    "# Number of unique municipalities, years, and gender groups\n",
    "num_municipalities = df_melted[\"Municipality\"].nunique()\n",
    "num_years = df_melted[\"Year\"].nunique()\n",
    "year_range = (df_melted[\"Year\"].min(), df_melted[\"Year\"].max())\n",
    "gender_counts = df_melted[\"Gender\"].value_counts()\n",
    "\n",
    "# Summary stats for Count (offences)\n",
    "count_stats = df_melted[\"Count\"].describe()\n",
    "\n",
    "print(\" Basic Statistics Overview\")\n",
    "print(f\"- Number of unique municipalities: {num_municipalities}\")\n",
    "print(f\"- Number of years: {num_years} (from {year_range[0]} to {year_range[1]})\")\n",
    "print(f\"- Gender distribution:\\n{gender_counts}\")\n",
    "print(\"\\n Summary statistics for offence counts:\")\n",
    "print(count_stats)\n",
    "\n"
   ]
  },
  {
   "cell_type": "markdown",
   "id": "9f0711ec",
   "metadata": {},
   "source": [
    "## Load and Prepare Population Data"
   ]
  },
  {
   "cell_type": "code",
   "execution_count": 176,
   "id": "35000992",
   "metadata": {},
   "outputs": [
    {
     "name": "stdout",
     "output_type": "stream",
     "text": [
      " Population Data Overview\n",
      "- Number of unique municipalities: 99\n",
      "- Number of years: 17 (from 2008 to 2024)\n",
      "\n",
      " Summary statistics for population:\n",
      "count      1683.000000\n",
      "mean      57650.697564\n",
      "std       69105.388867\n",
      "min          78.000000\n",
      "25%       29624.000000\n",
      "50%       42989.000000\n",
      "75%       59923.000000\n",
      "max      659350.000000\n",
      "Name: Population, dtype: float64\n"
     ]
    }
   ],
   "source": [
    "# Load the full sheet\n",
    "df_raw = pd.read_excel(file_path, sheet_name=\"Residents\")\n",
    "\n",
    "# Only keep rows where the first column is 'I alt' (total population per municipality)\n",
    "df_raw = df_raw[df_raw.iloc[:, 0].str.lower().str.strip() == \"i alt\"].copy()\n",
    "\n",
    "# Rename the second column (index 1) to 'Municipality'\n",
    "df_raw.rename(columns={df_raw.columns[1]: \"Municipality\"}, inplace=True)\n",
    "\n",
    "# Clean municipality names\n",
    "df_raw[\"Municipality\"] = df_raw[\"Municipality\"].str.lower().str.strip()\n",
    "\n",
    "# Melt to long format\n",
    "df_pop = df_raw.melt(id_vars=\"Municipality\", var_name=\"Year\", value_name=\"Population\")\n",
    "\n",
    "# Keep only valid 4-digit years\n",
    "df_pop = df_pop[df_pop[\"Year\"].astype(str).str.match(r\"^\\d{4}$\")]\n",
    "\n",
    "# Convert types\n",
    "df_pop[\"Year\"] = df_pop[\"Year\"].astype(int)\n",
    "df_pop[\"Population\"] = pd.to_numeric(df_pop[\"Population\"], errors=\"coerce\")\n",
    "\n",
    "\n",
    "# --- Basic Stats for Population Data ---\n",
    "\n",
    "# Number of unique municipalities and years\n",
    "num_munis_pop = df_pop[\"Municipality\"].nunique()\n",
    "num_years_pop = df_pop[\"Year\"].nunique()\n",
    "year_range_pop = (df_pop[\"Year\"].min(), df_pop[\"Year\"].max())\n",
    "\n",
    "# Summary stats for population\n",
    "pop_stats = df_pop[\"Population\"].describe()\n",
    "\n",
    "print(\" Population Data Overview\")\n",
    "print(f\"- Number of unique municipalities: {num_munis_pop}\")\n",
    "print(f\"- Number of years: {num_years_pop} (from {year_range_pop[0]} to {year_range_pop[1]})\")\n",
    "\n",
    "print(\"\\n Summary statistics for population:\")\n",
    "print(pop_stats)\n",
    "\n"
   ]
  },
  {
   "cell_type": "markdown",
   "id": "a41696b8",
   "metadata": {},
   "source": [
    "## Basic Statistics\n",
    "\n",
    "To begin our analysis, we explored the structure and content of our two core datasets: **unsuspended sentence data (STRAF47)** and **population data (FOLK1A)** from Statistics Denmark. These datasets form the foundation for our crime rate calculations across Danish municipalities from 2008 to 2024.\n",
    "\n",
    "#### Crime Data\n",
    "\n",
    "The dataset contains information on unsuspended sentences for 100 municipalities over 17 years (2008–2024), split by gender. The gender distribution is well balanced across the three groups — *All*, *Men*, and *Women* — with 1,700 observations each.\n",
    "\n",
    "A summary of offence counts reveals a highly skewed distribution:\n",
    "\n",
    "* The **mean number of offences** is around 62, while the **maximum reaches 2,373**.\n",
    "* 25% of values are **below 4**, and 75% are **below 67**, indicating that most municipalities record relatively low offence volumes in most years.\n",
    "* The **standard deviation** is large (≈161), reflecting a high variance between small rural municipalities and larger urban areas.\n",
    "\n",
    "This variability underlines the importance of **population-standardized measures** when comparing crime rates geographically.\n",
    "\n",
    "#### Population Data\n",
    "\n",
    "The population dataset covers 99 municipalities across the same 17-year period. Key observations include:\n",
    "\n",
    "* Populations range from **just 78** residents (e.g., Christiansø) to **over 659,000** (Copenhagen).\n",
    "* The **median municipality size** is approximately **43,000 residents**.\n",
    "* As expected, the **population distribution is right-skewed**, with a small number of large municipalities driving the upper end of the range.\n",
    "\n",
    "These basic statistics validate that municipalities differ drastically in size and crime volume, and reinforce the decision to use *crime per 10,000 residents* as our core metric for fair comparison.\n"
   ]
  },
  {
   "cell_type": "markdown",
   "id": "77db3fa9",
   "metadata": {},
   "source": [
    "# Merging datasets"
   ]
  },
  {
   "cell_type": "code",
   "execution_count": 149,
   "id": "904589d2",
   "metadata": {},
   "outputs": [],
   "source": [
    "# Ensret formatering\n",
    "df_melted[\"Municipality\"] = df_melted[\"Municipality\"].str.lower().str.strip()\n",
    "df_pop[\"Municipality\"] = df_pop[\"Municipality\"].str.lower().str.strip()\n",
    "\n",
    "# Merge directly without groupby, since df_pop is already clean\n",
    "df_merged = df_melted.merge(df_pop, on=[\"Municipality\", \"Year\"], how=\"left\")\n"
   ]
  },
  {
   "cell_type": "code",
   "execution_count": 150,
   "id": "0adbf56f",
   "metadata": {},
   "outputs": [
    {
     "name": "stdout",
     "output_type": "stream",
     "text": [
      "Top 5 kommuner med højeste gennemsnitlige kriminalitetsrate (2008–2024):\n",
      "    Municipality  Crime_rate_per_10000\n",
      "56       lolland             17.071714\n",
      "9        brøndby             15.559059\n",
      "30  guldborgsund             14.515389\n",
      "46         ishøj             13.760686\n",
      "67        odense             13.107419\n",
      "\n",
      "Bund 5 kommuner med laveste gennemsnitlige kriminalitetsrate (2008–2024):\n",
      "   Municipality  Crime_rate_per_10000\n",
      "66        odder              3.195563\n",
      "78  skanderborg              3.191563\n",
      "44     hørsholm              2.904524\n",
      "16         fanø              2.854445\n",
      "11  christiansø              0.000000\n"
     ]
    }
   ],
   "source": [
    "# Filtrér til ønsket periode\n",
    "df_period = df_merged[(df_merged[\"Year\"] >= 2008) & (df_merged[\"Year\"] <= 2024)].copy()\n",
    "\n",
    "# Fjern rækker med manglende tal\n",
    "df_period = df_period.dropna(subset=[\"Population\", \"Count\"])\n",
    "\n",
    "# Beregn kriminalitetsrate per 10.000\n",
    "df_period[\"Crime_rate_per_10000\"] = df_period[\"Count\"] / df_period[\"Population\"] * 10000\n",
    "\n",
    "# Beregn gennemsnitlig kriminalitetsrate per kommune\n",
    "df_avg = df_period.groupby(\"Municipality\", as_index=False)[\"Crime_rate_per_10000\"].mean()\n",
    "\n",
    "# Sortér for top og bund\n",
    "df_avg_sorted = df_avg.sort_values(by=\"Crime_rate_per_10000\", ascending=False)\n",
    "\n",
    "top5 = df_avg_sorted.head(5)\n",
    "bottom5 = df_avg_sorted.tail(5)\n",
    "\n",
    "# Udskriv resultater\n",
    "print(\"Top 5 kommuner med højeste gennemsnitlige kriminalitetsrate (2008–2024):\")\n",
    "print(top5)\n",
    "\n",
    "print(\"\\nBund 5 kommuner med laveste gennemsnitlige kriminalitetsrate (2008–2024):\")\n",
    "print(bottom5)\n"
   ]
  },
  {
   "cell_type": "markdown",
   "id": "cee45af5",
   "metadata": {},
   "source": [
    "# Begining of Analysis\n",
    "\n",
    "Our analysis focused on understanding the spatial, temporal, and demographic patterns of crime in Danish municipalities. We began by calculating the **crime rate per 10,000 residents** using two official datasets: one detailing unsuspended criminal sentences and the other showing population size. This allowed us to normalize crime counts across municipalities of vastly different sizes, enabling fair comparisons.\n",
    "\n",
    "#### Key Findings\n",
    "\n",
    "1. **Geographic Differences**:\n",
    "   We identified significant disparities between municipalities. For instance, **Lolland, Brøndby, Guldborgsund, Ishøj, and Odense** consistently had the highest average crime rates, while **Odder, Skanderborg, Hørsholm, Fanø, and Christiansø** had the lowest. These patterns persisted across multiple years.\n",
    "\n",
    "2. **Temporal Trends**:\n",
    "   Several municipalities showed peaks around 2012–2013, followed by declining or stabilizing trends. For example, Odense’s crime rate dropped significantly after 2015, unlike the others in the Top 5 group, which remained volatile.\n",
    "\n",
    "3. **Gender Differences**:\n",
    "   A major takeaway was the **gender gap in crime**. Men were responsible for the vast majority of offences across all municipalities and offence types. Female crime rates were consistently low — often under 1 per 10,000 residents — with slightly higher involvement in property-related crimes and special acts.\n",
    "\n",
    "4. **Offence Types**:\n",
    "   In high-crime municipalities, **violent crimes** dominated the offence types, particularly in Lolland and Guldborgsund. In contrast, the Bottom 5 municipalities showed very low offence counts across all categories, with **traffic violations** and **sexual offences** being slightly more prominent.\n",
    "\n",
    "5. **Volatility**:\n",
    "   Municipalities with high average crime rates also exhibited greater **year-to-year volatility**, measured via the standard deviation of their crime rates. This suggests more unstable social or enforcement dynamics.\n",
    "\n",
    "---\n",
    "\n",
    "### Machine Learning Component\n",
    "\n",
    "To further explore predictability, we developed a **Random Forest Regression model** using features such as municipality, year, gender, and population size. Our target variable was the **crime rate per 10,000 residents**. After training and evaluating the model, we found:\n",
    "\n",
    "* **R² Score**: 0.78\n",
    "* **RMSE**: 2.55\n",
    "\n",
    "This indicates **good predictive performance**. The model captured much of the variance in crime rates, particularly for **male offenders**, who dominate the dataset. We chose to focus on male crime rates in the model to reduce noise and bias introduced by low female crime counts.\n",
    "\n",
    "### Ekstra thoughts\n",
    "\n",
    "One key insight we gained during the analysis is the **limitation of aggregate data**. While we worked with large datasets covering crime, education, and income, the only common link between them was the **municipality**. This significantly restricts the types of relationships and patterns we can explore. For instance, we are unable to analyze whether individuals with lower educational attainment are more likely to commit crimes or how income correlates with sentencing — because we **lack individual-level data**. If access to microdata were possible (e.g. anonymized personal records), we could have applied more advanced techniques such as clustering, causal inference, or classification to uncover **deeper, person-level patterns** behind criminal behavior.\n",
    "\n"
   ]
  },
  {
   "cell_type": "markdown",
   "id": "3a5f8b02",
   "metadata": {},
   "source": [
    "## Plotting top and bottom 5 municipalities"
   ]
  },
  {
   "cell_type": "code",
   "execution_count": null,
   "id": "6178af0c",
   "metadata": {},
   "outputs": [
    {
     "data": {
      "application/vnd.plotly.v1+json": {
       "config": {
        "plotlyServerURL": "https://plot.ly"
       },
       "data": [
        {
         "alignmentgroup": "True",
         "hovertemplate": "Group=Top 5<br>Municipality=%{x}<br>Crime_rate_per_10000=%{text}<extra></extra>",
         "legendgroup": "Top 5",
         "marker": {
          "color": "#D62728",
          "pattern": {
           "shape": ""
          }
         },
         "name": "Top 5",
         "offsetgroup": "Top 5",
         "orientation": "v",
         "showlegend": true,
         "text": [
          17.07171427665502,
          15.559058734819606,
          14.5153886025864,
          13.76068579047396,
          13.107418746768786
         ],
         "textposition": "outside",
         "texttemplate": "%{text:.1f}",
         "type": "bar",
         "x": [
          "Lolland",
          "Brøndby",
          "Guldborgsund",
          "Ishøj",
          "Odense"
         ],
         "xaxis": "x",
         "y": [
          17.07171427665502,
          15.559058734819606,
          14.5153886025864,
          13.76068579047396,
          13.107418746768786
         ],
         "yaxis": "y"
        },
        {
         "alignmentgroup": "True",
         "hovertemplate": "Group=Bottom 5<br>Municipality=%{x}<br>Crime_rate_per_10000=%{text}<extra></extra>",
         "legendgroup": "Bottom 5",
         "marker": {
          "color": "#2CA02C",
          "pattern": {
           "shape": ""
          }
         },
         "name": "Bottom 5",
         "offsetgroup": "Bottom 5",
         "orientation": "v",
         "showlegend": true,
         "text": [
          3.1955625806760724,
          3.191562846294877,
          2.9045241731588587,
          2.854445247277556,
          0
         ],
         "textposition": "outside",
         "texttemplate": "%{text:.1f}",
         "type": "bar",
         "x": [
          "Odder",
          "Skanderborg",
          "Hørsholm",
          "Fanø",
          "Christiansø"
         ],
         "xaxis": "x",
         "y": [
          3.1955625806760724,
          3.191562846294877,
          2.9045241731588587,
          2.854445247277556,
          0
         ],
         "yaxis": "y"
        }
       ],
       "layout": {
        "bargap": 0.3,
        "barmode": "relative",
        "font": {
         "family": "Arial",
         "size": 14
        },
        "height": 500,
        "legend": {
         "title": {
          "text": "Group"
         },
         "tracegroupgap": 0
        },
        "plot_bgcolor": "white",
        "template": {
         "data": {
          "bar": [
           {
            "error_x": {
             "color": "#2a3f5f"
            },
            "error_y": {
             "color": "#2a3f5f"
            },
            "marker": {
             "line": {
              "color": "#E5ECF6",
              "width": 0.5
             },
             "pattern": {
              "fillmode": "overlay",
              "size": 10,
              "solidity": 0.2
             }
            },
            "type": "bar"
           }
          ],
          "barpolar": [
           {
            "marker": {
             "line": {
              "color": "#E5ECF6",
              "width": 0.5
             },
             "pattern": {
              "fillmode": "overlay",
              "size": 10,
              "solidity": 0.2
             }
            },
            "type": "barpolar"
           }
          ],
          "carpet": [
           {
            "aaxis": {
             "endlinecolor": "#2a3f5f",
             "gridcolor": "white",
             "linecolor": "white",
             "minorgridcolor": "white",
             "startlinecolor": "#2a3f5f"
            },
            "baxis": {
             "endlinecolor": "#2a3f5f",
             "gridcolor": "white",
             "linecolor": "white",
             "minorgridcolor": "white",
             "startlinecolor": "#2a3f5f"
            },
            "type": "carpet"
           }
          ],
          "choropleth": [
           {
            "colorbar": {
             "outlinewidth": 0,
             "ticks": ""
            },
            "type": "choropleth"
           }
          ],
          "contour": [
           {
            "colorbar": {
             "outlinewidth": 0,
             "ticks": ""
            },
            "colorscale": [
             [
              0,
              "#0d0887"
             ],
             [
              0.1111111111111111,
              "#46039f"
             ],
             [
              0.2222222222222222,
              "#7201a8"
             ],
             [
              0.3333333333333333,
              "#9c179e"
             ],
             [
              0.4444444444444444,
              "#bd3786"
             ],
             [
              0.5555555555555556,
              "#d8576b"
             ],
             [
              0.6666666666666666,
              "#ed7953"
             ],
             [
              0.7777777777777778,
              "#fb9f3a"
             ],
             [
              0.8888888888888888,
              "#fdca26"
             ],
             [
              1,
              "#f0f921"
             ]
            ],
            "type": "contour"
           }
          ],
          "contourcarpet": [
           {
            "colorbar": {
             "outlinewidth": 0,
             "ticks": ""
            },
            "type": "contourcarpet"
           }
          ],
          "heatmap": [
           {
            "colorbar": {
             "outlinewidth": 0,
             "ticks": ""
            },
            "colorscale": [
             [
              0,
              "#0d0887"
             ],
             [
              0.1111111111111111,
              "#46039f"
             ],
             [
              0.2222222222222222,
              "#7201a8"
             ],
             [
              0.3333333333333333,
              "#9c179e"
             ],
             [
              0.4444444444444444,
              "#bd3786"
             ],
             [
              0.5555555555555556,
              "#d8576b"
             ],
             [
              0.6666666666666666,
              "#ed7953"
             ],
             [
              0.7777777777777778,
              "#fb9f3a"
             ],
             [
              0.8888888888888888,
              "#fdca26"
             ],
             [
              1,
              "#f0f921"
             ]
            ],
            "type": "heatmap"
           }
          ],
          "heatmapgl": [
           {
            "colorbar": {
             "outlinewidth": 0,
             "ticks": ""
            },
            "colorscale": [
             [
              0,
              "#0d0887"
             ],
             [
              0.1111111111111111,
              "#46039f"
             ],
             [
              0.2222222222222222,
              "#7201a8"
             ],
             [
              0.3333333333333333,
              "#9c179e"
             ],
             [
              0.4444444444444444,
              "#bd3786"
             ],
             [
              0.5555555555555556,
              "#d8576b"
             ],
             [
              0.6666666666666666,
              "#ed7953"
             ],
             [
              0.7777777777777778,
              "#fb9f3a"
             ],
             [
              0.8888888888888888,
              "#fdca26"
             ],
             [
              1,
              "#f0f921"
             ]
            ],
            "type": "heatmapgl"
           }
          ],
          "histogram": [
           {
            "marker": {
             "pattern": {
              "fillmode": "overlay",
              "size": 10,
              "solidity": 0.2
             }
            },
            "type": "histogram"
           }
          ],
          "histogram2d": [
           {
            "colorbar": {
             "outlinewidth": 0,
             "ticks": ""
            },
            "colorscale": [
             [
              0,
              "#0d0887"
             ],
             [
              0.1111111111111111,
              "#46039f"
             ],
             [
              0.2222222222222222,
              "#7201a8"
             ],
             [
              0.3333333333333333,
              "#9c179e"
             ],
             [
              0.4444444444444444,
              "#bd3786"
             ],
             [
              0.5555555555555556,
              "#d8576b"
             ],
             [
              0.6666666666666666,
              "#ed7953"
             ],
             [
              0.7777777777777778,
              "#fb9f3a"
             ],
             [
              0.8888888888888888,
              "#fdca26"
             ],
             [
              1,
              "#f0f921"
             ]
            ],
            "type": "histogram2d"
           }
          ],
          "histogram2dcontour": [
           {
            "colorbar": {
             "outlinewidth": 0,
             "ticks": ""
            },
            "colorscale": [
             [
              0,
              "#0d0887"
             ],
             [
              0.1111111111111111,
              "#46039f"
             ],
             [
              0.2222222222222222,
              "#7201a8"
             ],
             [
              0.3333333333333333,
              "#9c179e"
             ],
             [
              0.4444444444444444,
              "#bd3786"
             ],
             [
              0.5555555555555556,
              "#d8576b"
             ],
             [
              0.6666666666666666,
              "#ed7953"
             ],
             [
              0.7777777777777778,
              "#fb9f3a"
             ],
             [
              0.8888888888888888,
              "#fdca26"
             ],
             [
              1,
              "#f0f921"
             ]
            ],
            "type": "histogram2dcontour"
           }
          ],
          "mesh3d": [
           {
            "colorbar": {
             "outlinewidth": 0,
             "ticks": ""
            },
            "type": "mesh3d"
           }
          ],
          "parcoords": [
           {
            "line": {
             "colorbar": {
              "outlinewidth": 0,
              "ticks": ""
             }
            },
            "type": "parcoords"
           }
          ],
          "pie": [
           {
            "automargin": true,
            "type": "pie"
           }
          ],
          "scatter": [
           {
            "fillpattern": {
             "fillmode": "overlay",
             "size": 10,
             "solidity": 0.2
            },
            "type": "scatter"
           }
          ],
          "scatter3d": [
           {
            "line": {
             "colorbar": {
              "outlinewidth": 0,
              "ticks": ""
             }
            },
            "marker": {
             "colorbar": {
              "outlinewidth": 0,
              "ticks": ""
             }
            },
            "type": "scatter3d"
           }
          ],
          "scattercarpet": [
           {
            "marker": {
             "colorbar": {
              "outlinewidth": 0,
              "ticks": ""
             }
            },
            "type": "scattercarpet"
           }
          ],
          "scattergeo": [
           {
            "marker": {
             "colorbar": {
              "outlinewidth": 0,
              "ticks": ""
             }
            },
            "type": "scattergeo"
           }
          ],
          "scattergl": [
           {
            "marker": {
             "colorbar": {
              "outlinewidth": 0,
              "ticks": ""
             }
            },
            "type": "scattergl"
           }
          ],
          "scattermapbox": [
           {
            "marker": {
             "colorbar": {
              "outlinewidth": 0,
              "ticks": ""
             }
            },
            "type": "scattermapbox"
           }
          ],
          "scatterpolar": [
           {
            "marker": {
             "colorbar": {
              "outlinewidth": 0,
              "ticks": ""
             }
            },
            "type": "scatterpolar"
           }
          ],
          "scatterpolargl": [
           {
            "marker": {
             "colorbar": {
              "outlinewidth": 0,
              "ticks": ""
             }
            },
            "type": "scatterpolargl"
           }
          ],
          "scatterternary": [
           {
            "marker": {
             "colorbar": {
              "outlinewidth": 0,
              "ticks": ""
             }
            },
            "type": "scatterternary"
           }
          ],
          "surface": [
           {
            "colorbar": {
             "outlinewidth": 0,
             "ticks": ""
            },
            "colorscale": [
             [
              0,
              "#0d0887"
             ],
             [
              0.1111111111111111,
              "#46039f"
             ],
             [
              0.2222222222222222,
              "#7201a8"
             ],
             [
              0.3333333333333333,
              "#9c179e"
             ],
             [
              0.4444444444444444,
              "#bd3786"
             ],
             [
              0.5555555555555556,
              "#d8576b"
             ],
             [
              0.6666666666666666,
              "#ed7953"
             ],
             [
              0.7777777777777778,
              "#fb9f3a"
             ],
             [
              0.8888888888888888,
              "#fdca26"
             ],
             [
              1,
              "#f0f921"
             ]
            ],
            "type": "surface"
           }
          ],
          "table": [
           {
            "cells": {
             "fill": {
              "color": "#EBF0F8"
             },
             "line": {
              "color": "white"
             }
            },
            "header": {
             "fill": {
              "color": "#C8D4E3"
             },
             "line": {
              "color": "white"
             }
            },
            "type": "table"
           }
          ]
         },
         "layout": {
          "annotationdefaults": {
           "arrowcolor": "#2a3f5f",
           "arrowhead": 0,
           "arrowwidth": 1
          },
          "autotypenumbers": "strict",
          "coloraxis": {
           "colorbar": {
            "outlinewidth": 0,
            "ticks": ""
           }
          },
          "colorscale": {
           "diverging": [
            [
             0,
             "#8e0152"
            ],
            [
             0.1,
             "#c51b7d"
            ],
            [
             0.2,
             "#de77ae"
            ],
            [
             0.3,
             "#f1b6da"
            ],
            [
             0.4,
             "#fde0ef"
            ],
            [
             0.5,
             "#f7f7f7"
            ],
            [
             0.6,
             "#e6f5d0"
            ],
            [
             0.7,
             "#b8e186"
            ],
            [
             0.8,
             "#7fbc41"
            ],
            [
             0.9,
             "#4d9221"
            ],
            [
             1,
             "#276419"
            ]
           ],
           "sequential": [
            [
             0,
             "#0d0887"
            ],
            [
             0.1111111111111111,
             "#46039f"
            ],
            [
             0.2222222222222222,
             "#7201a8"
            ],
            [
             0.3333333333333333,
             "#9c179e"
            ],
            [
             0.4444444444444444,
             "#bd3786"
            ],
            [
             0.5555555555555556,
             "#d8576b"
            ],
            [
             0.6666666666666666,
             "#ed7953"
            ],
            [
             0.7777777777777778,
             "#fb9f3a"
            ],
            [
             0.8888888888888888,
             "#fdca26"
            ],
            [
             1,
             "#f0f921"
            ]
           ],
           "sequentialminus": [
            [
             0,
             "#0d0887"
            ],
            [
             0.1111111111111111,
             "#46039f"
            ],
            [
             0.2222222222222222,
             "#7201a8"
            ],
            [
             0.3333333333333333,
             "#9c179e"
            ],
            [
             0.4444444444444444,
             "#bd3786"
            ],
            [
             0.5555555555555556,
             "#d8576b"
            ],
            [
             0.6666666666666666,
             "#ed7953"
            ],
            [
             0.7777777777777778,
             "#fb9f3a"
            ],
            [
             0.8888888888888888,
             "#fdca26"
            ],
            [
             1,
             "#f0f921"
            ]
           ]
          },
          "colorway": [
           "#636efa",
           "#EF553B",
           "#00cc96",
           "#ab63fa",
           "#FFA15A",
           "#19d3f3",
           "#FF6692",
           "#B6E880",
           "#FF97FF",
           "#FECB52"
          ],
          "font": {
           "color": "#2a3f5f"
          },
          "geo": {
           "bgcolor": "white",
           "lakecolor": "white",
           "landcolor": "#E5ECF6",
           "showlakes": true,
           "showland": true,
           "subunitcolor": "white"
          },
          "hoverlabel": {
           "align": "left"
          },
          "hovermode": "closest",
          "mapbox": {
           "style": "light"
          },
          "paper_bgcolor": "white",
          "plot_bgcolor": "#E5ECF6",
          "polar": {
           "angularaxis": {
            "gridcolor": "white",
            "linecolor": "white",
            "ticks": ""
           },
           "bgcolor": "#E5ECF6",
           "radialaxis": {
            "gridcolor": "white",
            "linecolor": "white",
            "ticks": ""
           }
          },
          "scene": {
           "xaxis": {
            "backgroundcolor": "#E5ECF6",
            "gridcolor": "white",
            "gridwidth": 2,
            "linecolor": "white",
            "showbackground": true,
            "ticks": "",
            "zerolinecolor": "white"
           },
           "yaxis": {
            "backgroundcolor": "#E5ECF6",
            "gridcolor": "white",
            "gridwidth": 2,
            "linecolor": "white",
            "showbackground": true,
            "ticks": "",
            "zerolinecolor": "white"
           },
           "zaxis": {
            "backgroundcolor": "#E5ECF6",
            "gridcolor": "white",
            "gridwidth": 2,
            "linecolor": "white",
            "showbackground": true,
            "ticks": "",
            "zerolinecolor": "white"
           }
          },
          "shapedefaults": {
           "line": {
            "color": "#2a3f5f"
           }
          },
          "ternary": {
           "aaxis": {
            "gridcolor": "white",
            "linecolor": "white",
            "ticks": ""
           },
           "baxis": {
            "gridcolor": "white",
            "linecolor": "white",
            "ticks": ""
           },
           "bgcolor": "#E5ECF6",
           "caxis": {
            "gridcolor": "white",
            "linecolor": "white",
            "ticks": ""
           }
          },
          "title": {
           "x": 0.05
          },
          "xaxis": {
           "automargin": true,
           "gridcolor": "white",
           "linecolor": "white",
           "ticks": "",
           "title": {
            "standoff": 15
           },
           "zerolinecolor": "white",
           "zerolinewidth": 2
          },
          "yaxis": {
           "automargin": true,
           "gridcolor": "white",
           "linecolor": "white",
           "ticks": "",
           "title": {
            "standoff": 15
           },
           "zerolinecolor": "white",
           "zerolinewidth": 2
          }
         }
        },
        "title": {
         "font": {
          "size": 20
         },
         "text": "Average Crime Rate per 10,000 Residents<br><sup>Top 5 vs Bottom 5 Municipalities (2008–2024)</sup>",
         "x": 0.5
        },
        "xaxis": {
         "anchor": "y",
         "domain": [
          0,
          1
         ],
         "tickangle": -30,
         "title": {}
        },
        "yaxis": {
         "anchor": "x",
         "domain": [
          0,
          1
         ],
         "title": {
          "text": "Crime Rate per 10,000"
         }
        }
       }
      }
     },
     "metadata": {},
     "output_type": "display_data"
    }
   ],
   "source": [
    "# Capitalize and sort\n",
    "combined = pd.concat([top5, bottom5])\n",
    "combined[\"Municipality\"] = combined[\"Municipality\"].str.title()\n",
    "combined_sorted = combined.sort_values(\"Crime_rate_per_10000\", ascending=False)\n",
    "\n",
    "# Label top/bottom group\n",
    "combined_sorted[\"Group\"] = [\"Top 5\"] * 5 + [\"Bottom 5\"] * 5\n",
    "\n",
    "color_map = {\n",
    "    \"Top 5\": \"#D62728\",   # refined green\n",
    "    \"Bottom 5\": \"#2CA02C\" # refined red\n",
    "}\n",
    "\n",
    "\n",
    "\n",
    "# Create Plotly bar chart\n",
    "fig = px.bar(\n",
    "    combined_sorted,\n",
    "    x=\"Municipality\",\n",
    "    y=\"Crime_rate_per_10000\",\n",
    "    color=\"Group\",\n",
    "    color_discrete_map=color_map,\n",
    "    text=\"Crime_rate_per_10000\",\n",
    "    title=\"Average Crime Rate per 10,000 Residents<br><sup>Top 5 vs Bottom 5 Municipalities (2008–2024)</sup>\"\n",
    ")\n",
    "\n",
    "# Style text and layout\n",
    "fig.update_traces(texttemplate='%{text:.1f}', textposition='outside')\n",
    "fig.update_layout(\n",
    "    title_font_size=20,\n",
    "    title_x=0.5,\n",
    "    yaxis_title=\"Crime Rate per 10,000\",\n",
    "    xaxis_title=None,\n",
    "    xaxis_tickangle=-30,\n",
    "    font=dict(family=\"Arial\", size=14),\n",
    "    plot_bgcolor=\"white\",\n",
    "    bargap=0.3,\n",
    "    height=500\n",
    ")\n",
    "fig.write_html(r\"C:\\Users\\Baxe\\Documents\\SocialDataanalyseVisulisation\\signedue.github.io\\crime_rates_plotly.html\")\n",
    "fig.show()\n",
    "\n"
   ]
  },
  {
   "cell_type": "markdown",
   "id": "130796ed",
   "metadata": {},
   "source": [
    "## For male and female\n"
   ]
  },
  {
   "cell_type": "markdown",
   "id": "5233b106",
   "metadata": {},
   "source": [
    "### Data preperation"
   ]
  },
  {
   "cell_type": "code",
   "execution_count": 156,
   "id": "593c2863",
   "metadata": {},
   "outputs": [
    {
     "name": "stdout",
     "output_type": "stream",
     "text": [
      "                           Offence Gender             Municipality  Year  \\\n",
      "200   Nature of the offence, total  Women                københavn  2008   \n",
      "201   Nature of the offence, total  Women            frederiksberg  2008   \n",
      "202   Nature of the offence, total  Women                   dragør  2008   \n",
      "203   Nature of the offence, total  Women                   tårnby  2008   \n",
      "204   Nature of the offence, total  Women              albertslund  2008   \n",
      "...                            ...    ...                      ...   ...   \n",
      "5095  Nature of the offence, total  Women                   rebild  2024   \n",
      "5096  Nature of the offence, total  Women                  thisted  2024   \n",
      "5097  Nature of the offence, total  Women          vesthimmerlands  2024   \n",
      "5098  Nature of the offence, total  Women                  aalborg  2024   \n",
      "5099  Nature of the offence, total  Women  not stated municipality  2024   \n",
      "\n",
      "      Count  Population  \n",
      "200    55.0    509861.0  \n",
      "201     5.0     93444.0  \n",
      "202     0.0     13261.0  \n",
      "203     2.0     40016.0  \n",
      "204     2.0     27602.0  \n",
      "...     ...         ...  \n",
      "5095    0.0     30937.0  \n",
      "5096    4.0     42989.0  \n",
      "5097    3.0     36012.0  \n",
      "5098   19.0    223174.0  \n",
      "5099  106.0         NaN  \n",
      "\n",
      "[1700 rows x 6 columns]\n"
     ]
    }
   ],
   "source": [
    "# Filter for Men and Women separately (keeping only rows with total offence category)\n",
    "df_men = df_merged[\n",
    "    (df_merged[\"Gender\"].str.lower() == \"men\") &\n",
    "    (df_merged[\"Offence\"].str.lower().str.strip() == \"nature of the offence, total\")\n",
    "].copy()\n",
    "\n",
    "df_women = df_merged[\n",
    "    (df_merged[\"Gender\"].str.lower() == \"women\") &\n",
    "    (df_merged[\"Offence\"].str.lower().str.strip() == \"nature of the offence, total\")\n",
    "].copy()\n",
    "\n",
    "print(df_women)\n",
    "# Compute crime rate per 10,000 residents\n",
    "for df_sex in [df_men, df_women]:\n",
    "    df_sex[\"Crime_rate_per_10000\"] = df_sex[\"Count\"] / df_sex[\"Population\"] * 10000\n",
    "\n",
    "# Calculate average crime rate per municipality (2008–2024)\n",
    "men_avg = (\n",
    "    df_men[df_men[\"Year\"].between(2008, 2024)]\n",
    "    .groupby(\"Municipality\", as_index=False)[\"Crime_rate_per_10000\"]\n",
    "    .mean()\n",
    "    .assign(Gender=\"Men\")\n",
    ")\n",
    "\n",
    "women_avg = (\n",
    "    df_women[df_women[\"Year\"].between(2008, 2024)]\n",
    "    .groupby(\"Municipality\", as_index=False)[\"Crime_rate_per_10000\"]\n",
    "    .mean()\n",
    "    .assign(Gender=\"Women\")\n",
    ")\n",
    "\n",
    "# Combine both genders\n",
    "df_avg_gender = pd.concat([men_avg, women_avg], ignore_index=True)\n",
    "\n",
    "# Clean municipality names for plot\n",
    "df_avg_gender[\"Municipality\"] = df_avg_gender[\"Municipality\"].str.title()\n"
   ]
  },
  {
   "cell_type": "markdown",
   "id": "a3a0e5a1",
   "metadata": {},
   "source": [
    "## Plotting"
   ]
  },
  {
   "cell_type": "code",
   "execution_count": null,
   "id": "4ff8de0c",
   "metadata": {},
   "outputs": [
    {
     "data": {
      "application/vnd.plotly.v1+json": {
       "config": {
        "plotlyServerURL": "https://plot.ly"
       },
       "data": [
        {
         "alignmentgroup": "True",
         "hovertemplate": "Gender=Men<br>Municipality=%{x}<br>Crime_rate_per_10000=%{y}<extra></extra>",
         "legendgroup": "Men",
         "marker": {
          "color": "#1f77b4",
          "pattern": {
           "shape": ""
          }
         },
         "name": "Men",
         "offsetgroup": "Men",
         "orientation": "v",
         "showlegend": true,
         "textposition": "auto",
         "type": "bar",
         "x": [
          "Brøndby",
          "Guldborgsund",
          "Ishøj",
          "Lolland",
          "Odense"
         ],
         "xaxis": "x",
         "y": [
          22.725265463139657,
          20.399019938425745,
          19.948985535315433,
          24.149892354302544,
          18.558485665338043
         ],
         "yaxis": "y"
        },
        {
         "alignmentgroup": "True",
         "hovertemplate": "Gender=Women<br>Municipality=%{x}<br>Crime_rate_per_10000=%{y}<extra></extra>",
         "legendgroup": "Women",
         "marker": {
          "color": "#ff7f0e",
          "pattern": {
           "shape": ""
          }
         },
         "name": "Women",
         "offsetgroup": "Women",
         "orientation": "v",
         "showlegend": true,
         "textposition": "auto",
         "type": "bar",
         "x": [
          "Brøndby",
          "Guldborgsund",
          "Ishøj",
          "Lolland",
          "Odense"
         ],
         "xaxis": "x",
         "y": [
          0.6133226390897549,
          1.3740629654538576,
          0.6920431503955058,
          1.4576790606799883,
          1.1026424548151386
         ],
         "yaxis": "y"
        }
       ],
       "layout": {
        "bargap": 0.3,
        "barmode": "group",
        "font": {
         "family": "Arial",
         "size": 13
        },
        "height": 500,
        "legend": {
         "title": {
          "text": "Gender"
         },
         "tracegroupgap": 0
        },
        "plot_bgcolor": "white",
        "template": {
         "data": {
          "bar": [
           {
            "error_x": {
             "color": "#2a3f5f"
            },
            "error_y": {
             "color": "#2a3f5f"
            },
            "marker": {
             "line": {
              "color": "#E5ECF6",
              "width": 0.5
             },
             "pattern": {
              "fillmode": "overlay",
              "size": 10,
              "solidity": 0.2
             }
            },
            "type": "bar"
           }
          ],
          "barpolar": [
           {
            "marker": {
             "line": {
              "color": "#E5ECF6",
              "width": 0.5
             },
             "pattern": {
              "fillmode": "overlay",
              "size": 10,
              "solidity": 0.2
             }
            },
            "type": "barpolar"
           }
          ],
          "carpet": [
           {
            "aaxis": {
             "endlinecolor": "#2a3f5f",
             "gridcolor": "white",
             "linecolor": "white",
             "minorgridcolor": "white",
             "startlinecolor": "#2a3f5f"
            },
            "baxis": {
             "endlinecolor": "#2a3f5f",
             "gridcolor": "white",
             "linecolor": "white",
             "minorgridcolor": "white",
             "startlinecolor": "#2a3f5f"
            },
            "type": "carpet"
           }
          ],
          "choropleth": [
           {
            "colorbar": {
             "outlinewidth": 0,
             "ticks": ""
            },
            "type": "choropleth"
           }
          ],
          "contour": [
           {
            "colorbar": {
             "outlinewidth": 0,
             "ticks": ""
            },
            "colorscale": [
             [
              0,
              "#0d0887"
             ],
             [
              0.1111111111111111,
              "#46039f"
             ],
             [
              0.2222222222222222,
              "#7201a8"
             ],
             [
              0.3333333333333333,
              "#9c179e"
             ],
             [
              0.4444444444444444,
              "#bd3786"
             ],
             [
              0.5555555555555556,
              "#d8576b"
             ],
             [
              0.6666666666666666,
              "#ed7953"
             ],
             [
              0.7777777777777778,
              "#fb9f3a"
             ],
             [
              0.8888888888888888,
              "#fdca26"
             ],
             [
              1,
              "#f0f921"
             ]
            ],
            "type": "contour"
           }
          ],
          "contourcarpet": [
           {
            "colorbar": {
             "outlinewidth": 0,
             "ticks": ""
            },
            "type": "contourcarpet"
           }
          ],
          "heatmap": [
           {
            "colorbar": {
             "outlinewidth": 0,
             "ticks": ""
            },
            "colorscale": [
             [
              0,
              "#0d0887"
             ],
             [
              0.1111111111111111,
              "#46039f"
             ],
             [
              0.2222222222222222,
              "#7201a8"
             ],
             [
              0.3333333333333333,
              "#9c179e"
             ],
             [
              0.4444444444444444,
              "#bd3786"
             ],
             [
              0.5555555555555556,
              "#d8576b"
             ],
             [
              0.6666666666666666,
              "#ed7953"
             ],
             [
              0.7777777777777778,
              "#fb9f3a"
             ],
             [
              0.8888888888888888,
              "#fdca26"
             ],
             [
              1,
              "#f0f921"
             ]
            ],
            "type": "heatmap"
           }
          ],
          "heatmapgl": [
           {
            "colorbar": {
             "outlinewidth": 0,
             "ticks": ""
            },
            "colorscale": [
             [
              0,
              "#0d0887"
             ],
             [
              0.1111111111111111,
              "#46039f"
             ],
             [
              0.2222222222222222,
              "#7201a8"
             ],
             [
              0.3333333333333333,
              "#9c179e"
             ],
             [
              0.4444444444444444,
              "#bd3786"
             ],
             [
              0.5555555555555556,
              "#d8576b"
             ],
             [
              0.6666666666666666,
              "#ed7953"
             ],
             [
              0.7777777777777778,
              "#fb9f3a"
             ],
             [
              0.8888888888888888,
              "#fdca26"
             ],
             [
              1,
              "#f0f921"
             ]
            ],
            "type": "heatmapgl"
           }
          ],
          "histogram": [
           {
            "marker": {
             "pattern": {
              "fillmode": "overlay",
              "size": 10,
              "solidity": 0.2
             }
            },
            "type": "histogram"
           }
          ],
          "histogram2d": [
           {
            "colorbar": {
             "outlinewidth": 0,
             "ticks": ""
            },
            "colorscale": [
             [
              0,
              "#0d0887"
             ],
             [
              0.1111111111111111,
              "#46039f"
             ],
             [
              0.2222222222222222,
              "#7201a8"
             ],
             [
              0.3333333333333333,
              "#9c179e"
             ],
             [
              0.4444444444444444,
              "#bd3786"
             ],
             [
              0.5555555555555556,
              "#d8576b"
             ],
             [
              0.6666666666666666,
              "#ed7953"
             ],
             [
              0.7777777777777778,
              "#fb9f3a"
             ],
             [
              0.8888888888888888,
              "#fdca26"
             ],
             [
              1,
              "#f0f921"
             ]
            ],
            "type": "histogram2d"
           }
          ],
          "histogram2dcontour": [
           {
            "colorbar": {
             "outlinewidth": 0,
             "ticks": ""
            },
            "colorscale": [
             [
              0,
              "#0d0887"
             ],
             [
              0.1111111111111111,
              "#46039f"
             ],
             [
              0.2222222222222222,
              "#7201a8"
             ],
             [
              0.3333333333333333,
              "#9c179e"
             ],
             [
              0.4444444444444444,
              "#bd3786"
             ],
             [
              0.5555555555555556,
              "#d8576b"
             ],
             [
              0.6666666666666666,
              "#ed7953"
             ],
             [
              0.7777777777777778,
              "#fb9f3a"
             ],
             [
              0.8888888888888888,
              "#fdca26"
             ],
             [
              1,
              "#f0f921"
             ]
            ],
            "type": "histogram2dcontour"
           }
          ],
          "mesh3d": [
           {
            "colorbar": {
             "outlinewidth": 0,
             "ticks": ""
            },
            "type": "mesh3d"
           }
          ],
          "parcoords": [
           {
            "line": {
             "colorbar": {
              "outlinewidth": 0,
              "ticks": ""
             }
            },
            "type": "parcoords"
           }
          ],
          "pie": [
           {
            "automargin": true,
            "type": "pie"
           }
          ],
          "scatter": [
           {
            "fillpattern": {
             "fillmode": "overlay",
             "size": 10,
             "solidity": 0.2
            },
            "type": "scatter"
           }
          ],
          "scatter3d": [
           {
            "line": {
             "colorbar": {
              "outlinewidth": 0,
              "ticks": ""
             }
            },
            "marker": {
             "colorbar": {
              "outlinewidth": 0,
              "ticks": ""
             }
            },
            "type": "scatter3d"
           }
          ],
          "scattercarpet": [
           {
            "marker": {
             "colorbar": {
              "outlinewidth": 0,
              "ticks": ""
             }
            },
            "type": "scattercarpet"
           }
          ],
          "scattergeo": [
           {
            "marker": {
             "colorbar": {
              "outlinewidth": 0,
              "ticks": ""
             }
            },
            "type": "scattergeo"
           }
          ],
          "scattergl": [
           {
            "marker": {
             "colorbar": {
              "outlinewidth": 0,
              "ticks": ""
             }
            },
            "type": "scattergl"
           }
          ],
          "scattermapbox": [
           {
            "marker": {
             "colorbar": {
              "outlinewidth": 0,
              "ticks": ""
             }
            },
            "type": "scattermapbox"
           }
          ],
          "scatterpolar": [
           {
            "marker": {
             "colorbar": {
              "outlinewidth": 0,
              "ticks": ""
             }
            },
            "type": "scatterpolar"
           }
          ],
          "scatterpolargl": [
           {
            "marker": {
             "colorbar": {
              "outlinewidth": 0,
              "ticks": ""
             }
            },
            "type": "scatterpolargl"
           }
          ],
          "scatterternary": [
           {
            "marker": {
             "colorbar": {
              "outlinewidth": 0,
              "ticks": ""
             }
            },
            "type": "scatterternary"
           }
          ],
          "surface": [
           {
            "colorbar": {
             "outlinewidth": 0,
             "ticks": ""
            },
            "colorscale": [
             [
              0,
              "#0d0887"
             ],
             [
              0.1111111111111111,
              "#46039f"
             ],
             [
              0.2222222222222222,
              "#7201a8"
             ],
             [
              0.3333333333333333,
              "#9c179e"
             ],
             [
              0.4444444444444444,
              "#bd3786"
             ],
             [
              0.5555555555555556,
              "#d8576b"
             ],
             [
              0.6666666666666666,
              "#ed7953"
             ],
             [
              0.7777777777777778,
              "#fb9f3a"
             ],
             [
              0.8888888888888888,
              "#fdca26"
             ],
             [
              1,
              "#f0f921"
             ]
            ],
            "type": "surface"
           }
          ],
          "table": [
           {
            "cells": {
             "fill": {
              "color": "#EBF0F8"
             },
             "line": {
              "color": "white"
             }
            },
            "header": {
             "fill": {
              "color": "#C8D4E3"
             },
             "line": {
              "color": "white"
             }
            },
            "type": "table"
           }
          ]
         },
         "layout": {
          "annotationdefaults": {
           "arrowcolor": "#2a3f5f",
           "arrowhead": 0,
           "arrowwidth": 1
          },
          "autotypenumbers": "strict",
          "coloraxis": {
           "colorbar": {
            "outlinewidth": 0,
            "ticks": ""
           }
          },
          "colorscale": {
           "diverging": [
            [
             0,
             "#8e0152"
            ],
            [
             0.1,
             "#c51b7d"
            ],
            [
             0.2,
             "#de77ae"
            ],
            [
             0.3,
             "#f1b6da"
            ],
            [
             0.4,
             "#fde0ef"
            ],
            [
             0.5,
             "#f7f7f7"
            ],
            [
             0.6,
             "#e6f5d0"
            ],
            [
             0.7,
             "#b8e186"
            ],
            [
             0.8,
             "#7fbc41"
            ],
            [
             0.9,
             "#4d9221"
            ],
            [
             1,
             "#276419"
            ]
           ],
           "sequential": [
            [
             0,
             "#0d0887"
            ],
            [
             0.1111111111111111,
             "#46039f"
            ],
            [
             0.2222222222222222,
             "#7201a8"
            ],
            [
             0.3333333333333333,
             "#9c179e"
            ],
            [
             0.4444444444444444,
             "#bd3786"
            ],
            [
             0.5555555555555556,
             "#d8576b"
            ],
            [
             0.6666666666666666,
             "#ed7953"
            ],
            [
             0.7777777777777778,
             "#fb9f3a"
            ],
            [
             0.8888888888888888,
             "#fdca26"
            ],
            [
             1,
             "#f0f921"
            ]
           ],
           "sequentialminus": [
            [
             0,
             "#0d0887"
            ],
            [
             0.1111111111111111,
             "#46039f"
            ],
            [
             0.2222222222222222,
             "#7201a8"
            ],
            [
             0.3333333333333333,
             "#9c179e"
            ],
            [
             0.4444444444444444,
             "#bd3786"
            ],
            [
             0.5555555555555556,
             "#d8576b"
            ],
            [
             0.6666666666666666,
             "#ed7953"
            ],
            [
             0.7777777777777778,
             "#fb9f3a"
            ],
            [
             0.8888888888888888,
             "#fdca26"
            ],
            [
             1,
             "#f0f921"
            ]
           ]
          },
          "colorway": [
           "#636efa",
           "#EF553B",
           "#00cc96",
           "#ab63fa",
           "#FFA15A",
           "#19d3f3",
           "#FF6692",
           "#B6E880",
           "#FF97FF",
           "#FECB52"
          ],
          "font": {
           "color": "#2a3f5f"
          },
          "geo": {
           "bgcolor": "white",
           "lakecolor": "white",
           "landcolor": "#E5ECF6",
           "showlakes": true,
           "showland": true,
           "subunitcolor": "white"
          },
          "hoverlabel": {
           "align": "left"
          },
          "hovermode": "closest",
          "mapbox": {
           "style": "light"
          },
          "paper_bgcolor": "white",
          "plot_bgcolor": "#E5ECF6",
          "polar": {
           "angularaxis": {
            "gridcolor": "white",
            "linecolor": "white",
            "ticks": ""
           },
           "bgcolor": "#E5ECF6",
           "radialaxis": {
            "gridcolor": "white",
            "linecolor": "white",
            "ticks": ""
           }
          },
          "scene": {
           "xaxis": {
            "backgroundcolor": "#E5ECF6",
            "gridcolor": "white",
            "gridwidth": 2,
            "linecolor": "white",
            "showbackground": true,
            "ticks": "",
            "zerolinecolor": "white"
           },
           "yaxis": {
            "backgroundcolor": "#E5ECF6",
            "gridcolor": "white",
            "gridwidth": 2,
            "linecolor": "white",
            "showbackground": true,
            "ticks": "",
            "zerolinecolor": "white"
           },
           "zaxis": {
            "backgroundcolor": "#E5ECF6",
            "gridcolor": "white",
            "gridwidth": 2,
            "linecolor": "white",
            "showbackground": true,
            "ticks": "",
            "zerolinecolor": "white"
           }
          },
          "shapedefaults": {
           "line": {
            "color": "#2a3f5f"
           }
          },
          "ternary": {
           "aaxis": {
            "gridcolor": "white",
            "linecolor": "white",
            "ticks": ""
           },
           "baxis": {
            "gridcolor": "white",
            "linecolor": "white",
            "ticks": ""
           },
           "bgcolor": "#E5ECF6",
           "caxis": {
            "gridcolor": "white",
            "linecolor": "white",
            "ticks": ""
           }
          },
          "title": {
           "x": 0.05
          },
          "xaxis": {
           "automargin": true,
           "gridcolor": "white",
           "linecolor": "white",
           "ticks": "",
           "title": {
            "standoff": 15
           },
           "zerolinecolor": "white",
           "zerolinewidth": 2
          },
          "yaxis": {
           "automargin": true,
           "gridcolor": "white",
           "linecolor": "white",
           "ticks": "",
           "title": {
            "standoff": 15
           },
           "zerolinecolor": "white",
           "zerolinewidth": 2
          }
         }
        },
        "title": {
         "font": {
          "size": 20
         },
         "text": "Crime Rate per 10,000 Residents by Gender – Top 5 Municipalities",
         "x": 0.5
        },
        "xaxis": {
         "anchor": "y",
         "domain": [
          0,
          1
         ],
         "title": {
          "text": "Municipality"
         }
        },
        "yaxis": {
         "anchor": "x",
         "domain": [
          0,
          1
         ],
         "title": {
          "text": "Crime Rate per 10,000 Residents"
         }
        }
       }
      }
     },
     "metadata": {},
     "output_type": "display_data"
    },
    {
     "data": {
      "application/vnd.plotly.v1+json": {
       "config": {
        "plotlyServerURL": "https://plot.ly"
       },
       "data": [
        {
         "alignmentgroup": "True",
         "hovertemplate": "Gender=Men<br>Municipality=%{x}<br>Crime_rate_per_10000=%{y}<extra></extra>",
         "legendgroup": "Men",
         "marker": {
          "color": "#1f77b4",
          "pattern": {
           "shape": ""
          }
         },
         "name": "Men",
         "offsetgroup": "Men",
         "orientation": "v",
         "showlegend": true,
         "textposition": "auto",
         "type": "bar",
         "x": [
          "Christiansø",
          "Fanø",
          "Hørsholm",
          "Odder",
          "Skanderborg"
         ],
         "xaxis": "x",
         "y": [
          0,
          4.098588103061479,
          4.214171681847661,
          4.583192190514088,
          4.6716778003874255
         ],
         "yaxis": "y"
        },
        {
         "alignmentgroup": "True",
         "hovertemplate": "Gender=Women<br>Municipality=%{x}<br>Crime_rate_per_10000=%{y}<extra></extra>",
         "legendgroup": "Women",
         "marker": {
          "color": "#ff7f0e",
          "pattern": {
           "shape": ""
          }
         },
         "name": "Women",
         "offsetgroup": "Women",
         "orientation": "v",
         "showlegend": true,
         "textposition": "auto",
         "type": "bar",
         "x": [
          "Christiansø",
          "Fanø",
          "Hørsholm",
          "Odder",
          "Skanderborg"
         ],
         "xaxis": "x",
         "y": [
          0,
          0.18307976785485436,
          0.1426145778906265,
          0.2101516805000201,
          0.11566646905489
         ],
         "yaxis": "y"
        }
       ],
       "layout": {
        "bargap": 0.3,
        "barmode": "group",
        "font": {
         "family": "Arial",
         "size": 13
        },
        "height": 500,
        "legend": {
         "title": {
          "text": "Gender"
         },
         "tracegroupgap": 0
        },
        "plot_bgcolor": "white",
        "template": {
         "data": {
          "bar": [
           {
            "error_x": {
             "color": "#2a3f5f"
            },
            "error_y": {
             "color": "#2a3f5f"
            },
            "marker": {
             "line": {
              "color": "#E5ECF6",
              "width": 0.5
             },
             "pattern": {
              "fillmode": "overlay",
              "size": 10,
              "solidity": 0.2
             }
            },
            "type": "bar"
           }
          ],
          "barpolar": [
           {
            "marker": {
             "line": {
              "color": "#E5ECF6",
              "width": 0.5
             },
             "pattern": {
              "fillmode": "overlay",
              "size": 10,
              "solidity": 0.2
             }
            },
            "type": "barpolar"
           }
          ],
          "carpet": [
           {
            "aaxis": {
             "endlinecolor": "#2a3f5f",
             "gridcolor": "white",
             "linecolor": "white",
             "minorgridcolor": "white",
             "startlinecolor": "#2a3f5f"
            },
            "baxis": {
             "endlinecolor": "#2a3f5f",
             "gridcolor": "white",
             "linecolor": "white",
             "minorgridcolor": "white",
             "startlinecolor": "#2a3f5f"
            },
            "type": "carpet"
           }
          ],
          "choropleth": [
           {
            "colorbar": {
             "outlinewidth": 0,
             "ticks": ""
            },
            "type": "choropleth"
           }
          ],
          "contour": [
           {
            "colorbar": {
             "outlinewidth": 0,
             "ticks": ""
            },
            "colorscale": [
             [
              0,
              "#0d0887"
             ],
             [
              0.1111111111111111,
              "#46039f"
             ],
             [
              0.2222222222222222,
              "#7201a8"
             ],
             [
              0.3333333333333333,
              "#9c179e"
             ],
             [
              0.4444444444444444,
              "#bd3786"
             ],
             [
              0.5555555555555556,
              "#d8576b"
             ],
             [
              0.6666666666666666,
              "#ed7953"
             ],
             [
              0.7777777777777778,
              "#fb9f3a"
             ],
             [
              0.8888888888888888,
              "#fdca26"
             ],
             [
              1,
              "#f0f921"
             ]
            ],
            "type": "contour"
           }
          ],
          "contourcarpet": [
           {
            "colorbar": {
             "outlinewidth": 0,
             "ticks": ""
            },
            "type": "contourcarpet"
           }
          ],
          "heatmap": [
           {
            "colorbar": {
             "outlinewidth": 0,
             "ticks": ""
            },
            "colorscale": [
             [
              0,
              "#0d0887"
             ],
             [
              0.1111111111111111,
              "#46039f"
             ],
             [
              0.2222222222222222,
              "#7201a8"
             ],
             [
              0.3333333333333333,
              "#9c179e"
             ],
             [
              0.4444444444444444,
              "#bd3786"
             ],
             [
              0.5555555555555556,
              "#d8576b"
             ],
             [
              0.6666666666666666,
              "#ed7953"
             ],
             [
              0.7777777777777778,
              "#fb9f3a"
             ],
             [
              0.8888888888888888,
              "#fdca26"
             ],
             [
              1,
              "#f0f921"
             ]
            ],
            "type": "heatmap"
           }
          ],
          "heatmapgl": [
           {
            "colorbar": {
             "outlinewidth": 0,
             "ticks": ""
            },
            "colorscale": [
             [
              0,
              "#0d0887"
             ],
             [
              0.1111111111111111,
              "#46039f"
             ],
             [
              0.2222222222222222,
              "#7201a8"
             ],
             [
              0.3333333333333333,
              "#9c179e"
             ],
             [
              0.4444444444444444,
              "#bd3786"
             ],
             [
              0.5555555555555556,
              "#d8576b"
             ],
             [
              0.6666666666666666,
              "#ed7953"
             ],
             [
              0.7777777777777778,
              "#fb9f3a"
             ],
             [
              0.8888888888888888,
              "#fdca26"
             ],
             [
              1,
              "#f0f921"
             ]
            ],
            "type": "heatmapgl"
           }
          ],
          "histogram": [
           {
            "marker": {
             "pattern": {
              "fillmode": "overlay",
              "size": 10,
              "solidity": 0.2
             }
            },
            "type": "histogram"
           }
          ],
          "histogram2d": [
           {
            "colorbar": {
             "outlinewidth": 0,
             "ticks": ""
            },
            "colorscale": [
             [
              0,
              "#0d0887"
             ],
             [
              0.1111111111111111,
              "#46039f"
             ],
             [
              0.2222222222222222,
              "#7201a8"
             ],
             [
              0.3333333333333333,
              "#9c179e"
             ],
             [
              0.4444444444444444,
              "#bd3786"
             ],
             [
              0.5555555555555556,
              "#d8576b"
             ],
             [
              0.6666666666666666,
              "#ed7953"
             ],
             [
              0.7777777777777778,
              "#fb9f3a"
             ],
             [
              0.8888888888888888,
              "#fdca26"
             ],
             [
              1,
              "#f0f921"
             ]
            ],
            "type": "histogram2d"
           }
          ],
          "histogram2dcontour": [
           {
            "colorbar": {
             "outlinewidth": 0,
             "ticks": ""
            },
            "colorscale": [
             [
              0,
              "#0d0887"
             ],
             [
              0.1111111111111111,
              "#46039f"
             ],
             [
              0.2222222222222222,
              "#7201a8"
             ],
             [
              0.3333333333333333,
              "#9c179e"
             ],
             [
              0.4444444444444444,
              "#bd3786"
             ],
             [
              0.5555555555555556,
              "#d8576b"
             ],
             [
              0.6666666666666666,
              "#ed7953"
             ],
             [
              0.7777777777777778,
              "#fb9f3a"
             ],
             [
              0.8888888888888888,
              "#fdca26"
             ],
             [
              1,
              "#f0f921"
             ]
            ],
            "type": "histogram2dcontour"
           }
          ],
          "mesh3d": [
           {
            "colorbar": {
             "outlinewidth": 0,
             "ticks": ""
            },
            "type": "mesh3d"
           }
          ],
          "parcoords": [
           {
            "line": {
             "colorbar": {
              "outlinewidth": 0,
              "ticks": ""
             }
            },
            "type": "parcoords"
           }
          ],
          "pie": [
           {
            "automargin": true,
            "type": "pie"
           }
          ],
          "scatter": [
           {
            "fillpattern": {
             "fillmode": "overlay",
             "size": 10,
             "solidity": 0.2
            },
            "type": "scatter"
           }
          ],
          "scatter3d": [
           {
            "line": {
             "colorbar": {
              "outlinewidth": 0,
              "ticks": ""
             }
            },
            "marker": {
             "colorbar": {
              "outlinewidth": 0,
              "ticks": ""
             }
            },
            "type": "scatter3d"
           }
          ],
          "scattercarpet": [
           {
            "marker": {
             "colorbar": {
              "outlinewidth": 0,
              "ticks": ""
             }
            },
            "type": "scattercarpet"
           }
          ],
          "scattergeo": [
           {
            "marker": {
             "colorbar": {
              "outlinewidth": 0,
              "ticks": ""
             }
            },
            "type": "scattergeo"
           }
          ],
          "scattergl": [
           {
            "marker": {
             "colorbar": {
              "outlinewidth": 0,
              "ticks": ""
             }
            },
            "type": "scattergl"
           }
          ],
          "scattermapbox": [
           {
            "marker": {
             "colorbar": {
              "outlinewidth": 0,
              "ticks": ""
             }
            },
            "type": "scattermapbox"
           }
          ],
          "scatterpolar": [
           {
            "marker": {
             "colorbar": {
              "outlinewidth": 0,
              "ticks": ""
             }
            },
            "type": "scatterpolar"
           }
          ],
          "scatterpolargl": [
           {
            "marker": {
             "colorbar": {
              "outlinewidth": 0,
              "ticks": ""
             }
            },
            "type": "scatterpolargl"
           }
          ],
          "scatterternary": [
           {
            "marker": {
             "colorbar": {
              "outlinewidth": 0,
              "ticks": ""
             }
            },
            "type": "scatterternary"
           }
          ],
          "surface": [
           {
            "colorbar": {
             "outlinewidth": 0,
             "ticks": ""
            },
            "colorscale": [
             [
              0,
              "#0d0887"
             ],
             [
              0.1111111111111111,
              "#46039f"
             ],
             [
              0.2222222222222222,
              "#7201a8"
             ],
             [
              0.3333333333333333,
              "#9c179e"
             ],
             [
              0.4444444444444444,
              "#bd3786"
             ],
             [
              0.5555555555555556,
              "#d8576b"
             ],
             [
              0.6666666666666666,
              "#ed7953"
             ],
             [
              0.7777777777777778,
              "#fb9f3a"
             ],
             [
              0.8888888888888888,
              "#fdca26"
             ],
             [
              1,
              "#f0f921"
             ]
            ],
            "type": "surface"
           }
          ],
          "table": [
           {
            "cells": {
             "fill": {
              "color": "#EBF0F8"
             },
             "line": {
              "color": "white"
             }
            },
            "header": {
             "fill": {
              "color": "#C8D4E3"
             },
             "line": {
              "color": "white"
             }
            },
            "type": "table"
           }
          ]
         },
         "layout": {
          "annotationdefaults": {
           "arrowcolor": "#2a3f5f",
           "arrowhead": 0,
           "arrowwidth": 1
          },
          "autotypenumbers": "strict",
          "coloraxis": {
           "colorbar": {
            "outlinewidth": 0,
            "ticks": ""
           }
          },
          "colorscale": {
           "diverging": [
            [
             0,
             "#8e0152"
            ],
            [
             0.1,
             "#c51b7d"
            ],
            [
             0.2,
             "#de77ae"
            ],
            [
             0.3,
             "#f1b6da"
            ],
            [
             0.4,
             "#fde0ef"
            ],
            [
             0.5,
             "#f7f7f7"
            ],
            [
             0.6,
             "#e6f5d0"
            ],
            [
             0.7,
             "#b8e186"
            ],
            [
             0.8,
             "#7fbc41"
            ],
            [
             0.9,
             "#4d9221"
            ],
            [
             1,
             "#276419"
            ]
           ],
           "sequential": [
            [
             0,
             "#0d0887"
            ],
            [
             0.1111111111111111,
             "#46039f"
            ],
            [
             0.2222222222222222,
             "#7201a8"
            ],
            [
             0.3333333333333333,
             "#9c179e"
            ],
            [
             0.4444444444444444,
             "#bd3786"
            ],
            [
             0.5555555555555556,
             "#d8576b"
            ],
            [
             0.6666666666666666,
             "#ed7953"
            ],
            [
             0.7777777777777778,
             "#fb9f3a"
            ],
            [
             0.8888888888888888,
             "#fdca26"
            ],
            [
             1,
             "#f0f921"
            ]
           ],
           "sequentialminus": [
            [
             0,
             "#0d0887"
            ],
            [
             0.1111111111111111,
             "#46039f"
            ],
            [
             0.2222222222222222,
             "#7201a8"
            ],
            [
             0.3333333333333333,
             "#9c179e"
            ],
            [
             0.4444444444444444,
             "#bd3786"
            ],
            [
             0.5555555555555556,
             "#d8576b"
            ],
            [
             0.6666666666666666,
             "#ed7953"
            ],
            [
             0.7777777777777778,
             "#fb9f3a"
            ],
            [
             0.8888888888888888,
             "#fdca26"
            ],
            [
             1,
             "#f0f921"
            ]
           ]
          },
          "colorway": [
           "#636efa",
           "#EF553B",
           "#00cc96",
           "#ab63fa",
           "#FFA15A",
           "#19d3f3",
           "#FF6692",
           "#B6E880",
           "#FF97FF",
           "#FECB52"
          ],
          "font": {
           "color": "#2a3f5f"
          },
          "geo": {
           "bgcolor": "white",
           "lakecolor": "white",
           "landcolor": "#E5ECF6",
           "showlakes": true,
           "showland": true,
           "subunitcolor": "white"
          },
          "hoverlabel": {
           "align": "left"
          },
          "hovermode": "closest",
          "mapbox": {
           "style": "light"
          },
          "paper_bgcolor": "white",
          "plot_bgcolor": "#E5ECF6",
          "polar": {
           "angularaxis": {
            "gridcolor": "white",
            "linecolor": "white",
            "ticks": ""
           },
           "bgcolor": "#E5ECF6",
           "radialaxis": {
            "gridcolor": "white",
            "linecolor": "white",
            "ticks": ""
           }
          },
          "scene": {
           "xaxis": {
            "backgroundcolor": "#E5ECF6",
            "gridcolor": "white",
            "gridwidth": 2,
            "linecolor": "white",
            "showbackground": true,
            "ticks": "",
            "zerolinecolor": "white"
           },
           "yaxis": {
            "backgroundcolor": "#E5ECF6",
            "gridcolor": "white",
            "gridwidth": 2,
            "linecolor": "white",
            "showbackground": true,
            "ticks": "",
            "zerolinecolor": "white"
           },
           "zaxis": {
            "backgroundcolor": "#E5ECF6",
            "gridcolor": "white",
            "gridwidth": 2,
            "linecolor": "white",
            "showbackground": true,
            "ticks": "",
            "zerolinecolor": "white"
           }
          },
          "shapedefaults": {
           "line": {
            "color": "#2a3f5f"
           }
          },
          "ternary": {
           "aaxis": {
            "gridcolor": "white",
            "linecolor": "white",
            "ticks": ""
           },
           "baxis": {
            "gridcolor": "white",
            "linecolor": "white",
            "ticks": ""
           },
           "bgcolor": "#E5ECF6",
           "caxis": {
            "gridcolor": "white",
            "linecolor": "white",
            "ticks": ""
           }
          },
          "title": {
           "x": 0.05
          },
          "xaxis": {
           "automargin": true,
           "gridcolor": "white",
           "linecolor": "white",
           "ticks": "",
           "title": {
            "standoff": 15
           },
           "zerolinecolor": "white",
           "zerolinewidth": 2
          },
          "yaxis": {
           "automargin": true,
           "gridcolor": "white",
           "linecolor": "white",
           "ticks": "",
           "title": {
            "standoff": 15
           },
           "zerolinecolor": "white",
           "zerolinewidth": 2
          }
         }
        },
        "title": {
         "font": {
          "size": 20
         },
         "text": "Crime Rate per 10,000 Residents by Gender – Bottom 5 Municipalities",
         "x": 0.5
        },
        "xaxis": {
         "anchor": "y",
         "domain": [
          0,
          1
         ],
         "title": {
          "text": "Municipality"
         }
        },
        "yaxis": {
         "anchor": "x",
         "domain": [
          0,
          1
         ],
         "title": {
          "text": "Crime Rate per 10,000 Residents"
         }
        }
       }
      }
     },
     "metadata": {},
     "output_type": "display_data"
    }
   ],
   "source": [
    "# Based on All\n",
    "top5 = df_avg_sorted.head(5)[\"Municipality\"].tolist()\n",
    "bottom5 = df_avg_sorted.tail(5)[\"Municipality\"].tolist()\n",
    "\n",
    "# Filter for only top 5 and bottom 5 municipalities\n",
    "df_top_bottom_gender = df_avg_gender[\n",
    "    df_avg_gender[\"Municipality\"].str.lower().isin(top5 + bottom5)\n",
    "].copy()\n",
    "\n",
    "# Assign group labels\n",
    "df_top_bottom_gender[\"Group\"] = df_top_bottom_gender[\"Municipality\"].str.lower().apply(\n",
    "    lambda m: \"Top 5\" if m in top5 else \"Bottom 5\"\n",
    ")\n",
    "\n",
    "# Sort for consistent display\n",
    "df_top_bottom_gender_sorted = df_top_bottom_gender.sort_values(\n",
    "    by=[\"Group\", \"Municipality\", \"Gender\"]\n",
    ")\n",
    "\n",
    "# --- PLOTLY ---\n",
    "import plotly.express as px\n",
    "\n",
    "# Split the data\n",
    "top_df = df_top_bottom_gender_sorted[df_top_bottom_gender_sorted[\"Group\"] == \"Top 5\"]\n",
    "bottom_df = df_top_bottom_gender_sorted[df_top_bottom_gender_sorted[\"Group\"] == \"Bottom 5\"]\n",
    "\n",
    "# --- TOP 5 ---\n",
    "fig_top = px.bar(\n",
    "    top_df,\n",
    "    x=\"Municipality\",\n",
    "    y=\"Crime_rate_per_10000\",\n",
    "    color=\"Gender\",\n",
    "    barmode=\"group\",\n",
    "    title=\"Crime Rate per 10,000 Residents by Gender – Top 5 Municipalities\",\n",
    "    color_discrete_map={\"Men\": \"#1f77b4\", \"Women\": \"#ff7f0e\"},\n",
    "    height=500\n",
    ")\n",
    "fig_top.update_layout(\n",
    "    yaxis_title=\"Crime Rate per 10,000 Residents\",\n",
    "    font=dict(family=\"Arial\", size=13),\n",
    "    title_font_size=20,\n",
    "    title_x=0.5,\n",
    "    plot_bgcolor=\"white\",\n",
    "    bargap=0.3\n",
    ")\n",
    "fig_top.write_html(r\"C:\\Users\\Baxe\\Documents\\SocialDataanalyseVisulisation\\signedue.github.io\\crime_gender_top.html\")\n",
    "fig_top.show()\n",
    "\n",
    "# --- BOTTOM 5 ---\n",
    "fig_bottom = px.bar(\n",
    "    bottom_df,\n",
    "    x=\"Municipality\",\n",
    "    y=\"Crime_rate_per_10000\",\n",
    "    color=\"Gender\",\n",
    "    barmode=\"group\",\n",
    "    title=\"Crime Rate per 10,000 Residents by Gender – Bottom 5 Municipalities\",\n",
    "    color_discrete_map={\"Men\": \"#1f77b4\", \"Women\": \"#ff7f0e\"},\n",
    "    height=500\n",
    ")\n",
    "fig_bottom.update_layout(\n",
    "    yaxis_title=\"Crime Rate per 10,000 Residents\",\n",
    "    font=dict(family=\"Arial\", size=13),\n",
    "    title_font_size=20,\n",
    "    title_x=0.5,\n",
    "    plot_bgcolor=\"white\",\n",
    "    bargap=0.3\n",
    ")\n",
    "fig_top.write_html(r\"C:\\Users\\Baxe\\Documents\\SocialDataanalyseVisulisation\\signedue.github.io\\crime_gender_bottom.html\")\n",
    "fig_bottom.show()\n"
   ]
  },
  {
   "cell_type": "markdown",
   "id": "19e81a0c",
   "metadata": {},
   "source": [
    "## Time series for top and bottom 5"
   ]
  },
  {
   "cell_type": "code",
   "execution_count": null,
   "id": "f2e7605c",
   "metadata": {},
   "outputs": [
    {
     "data": {
      "application/vnd.plotly.v1+json": {
       "config": {
        "plotlyServerURL": "https://plot.ly"
       },
       "data": [
        {
         "mode": "lines+markers",
         "name": "Lolland",
         "type": "scatter",
         "x": [
          2008,
          2009,
          2010,
          2011,
          2012,
          2013,
          2014,
          2015,
          2016,
          2017,
          2018,
          2019,
          2020,
          2021,
          2022,
          2023,
          2024
         ],
         "y": [
          21.568261473692946,
          27.221140356387544,
          31.71292354844202,
          27.759103033983216,
          30.503304524656837,
          29.03051579800162,
          25.041352692519755,
          23.24284120490889,
          18.7626061259909,
          25.540971975877973,
          26.678100138154445,
          22.588009131322842,
          28.463690548595064,
          21.46081551098942,
          20.445308798962774,
          27.554419979459432,
          27.755349212757366
         ]
        },
        {
         "mode": "lines+markers",
         "name": "Brøndby",
         "type": "scatter",
         "x": [
          2008,
          2009,
          2010,
          2011,
          2012,
          2013,
          2014,
          2015,
          2016,
          2017,
          2018,
          2019,
          2020,
          2021,
          2022,
          2023,
          2024
         ],
         "y": [
          16.25727882711123,
          22.21432379598365,
          29.590176061547567,
          31.745098615560977,
          29.339279427297267,
          26.01578485822859,
          24.86986697513013,
          22.82453637660485,
          20.100787044901196,
          20.228128336236445,
          22.792503798750634,
          16.10305958132045,
          23.938444001139928,
          26.112624886466847,
          17.95181060839808,
          22.355095884507648,
          24.317198658714513
         ]
        },
        {
         "mode": "lines+markers",
         "name": "Guldborgsund",
         "type": "scatter",
         "x": [
          2008,
          2009,
          2010,
          2011,
          2012,
          2013,
          2014,
          2015,
          2016,
          2017,
          2018,
          2019,
          2020,
          2021,
          2022,
          2023,
          2024
         ],
         "y": [
          22.048632984754942,
          24.52104855167613,
          23.20701932858596,
          27.0041385040666,
          27.942435352833815,
          25.602556994227193,
          19.66987394889111,
          15.617550839237863,
          21.318814673904132,
          15.99817163752714,
          18.621669743053626,
          24.946660101756112,
          26.51427818583051,
          16.410290412412145,
          20.06300779306914,
          22.081652305291293,
          18.57460800883549
         ]
        },
        {
         "mode": "lines+markers",
         "name": "Ishøj",
         "type": "scatter",
         "x": [
          2008,
          2009,
          2010,
          2011,
          2012,
          2013,
          2014,
          2015,
          2016,
          2017,
          2018,
          2019,
          2020,
          2021,
          2022,
          2023,
          2024
         ],
         "y": [
          19.819210131966933,
          26.016573520909617,
          24.26477724934485,
          28.850314949271528,
          31.77313036467966,
          27.921063839856135,
          19.95637443727665,
          15.891032917139615,
          15.654351909830932,
          19.367049606056604,
          10.875239255263617,
          13.945785757866295,
          12.61472878333116,
          28.10081708529679,
          17.65339074273412,
          18.33141492944537,
          19.86223217681613
         ]
        },
        {
         "mode": "lines+markers",
         "name": "Odense",
         "type": "scatter",
         "x": [
          2008,
          2009,
          2010,
          2011,
          2012,
          2013,
          2014,
          2015,
          2016,
          2017,
          2018,
          2019,
          2020,
          2021,
          2022,
          2023,
          2024
         ],
         "y": [
          25.838272740889735,
          27.936082243826128,
          31.942450616335677,
          29.435727614391965,
          26.929700955064973,
          27.563737911775352,
          18.131023457969224,
          15.343325906420903,
          17.741189715135796,
          17.35115649446807,
          14.480004744301896,
          12.292954325062935,
          13.616730520510506,
          11.678320657489452,
          13.8364291332084,
          13.573223207323764,
          16.548847798429296
         ]
        }
       ],
       "layout": {
        "font": {
         "family": "Arial",
         "size": 14
        },
        "height": 500,
        "legend": {
         "title": {
          "text": "Municipality"
         }
        },
        "template": {
         "data": {
          "bar": [
           {
            "error_x": {
             "color": "#2a3f5f"
            },
            "error_y": {
             "color": "#2a3f5f"
            },
            "marker": {
             "line": {
              "color": "white",
              "width": 0.5
             },
             "pattern": {
              "fillmode": "overlay",
              "size": 10,
              "solidity": 0.2
             }
            },
            "type": "bar"
           }
          ],
          "barpolar": [
           {
            "marker": {
             "line": {
              "color": "white",
              "width": 0.5
             },
             "pattern": {
              "fillmode": "overlay",
              "size": 10,
              "solidity": 0.2
             }
            },
            "type": "barpolar"
           }
          ],
          "carpet": [
           {
            "aaxis": {
             "endlinecolor": "#2a3f5f",
             "gridcolor": "#C8D4E3",
             "linecolor": "#C8D4E3",
             "minorgridcolor": "#C8D4E3",
             "startlinecolor": "#2a3f5f"
            },
            "baxis": {
             "endlinecolor": "#2a3f5f",
             "gridcolor": "#C8D4E3",
             "linecolor": "#C8D4E3",
             "minorgridcolor": "#C8D4E3",
             "startlinecolor": "#2a3f5f"
            },
            "type": "carpet"
           }
          ],
          "choropleth": [
           {
            "colorbar": {
             "outlinewidth": 0,
             "ticks": ""
            },
            "type": "choropleth"
           }
          ],
          "contour": [
           {
            "colorbar": {
             "outlinewidth": 0,
             "ticks": ""
            },
            "colorscale": [
             [
              0,
              "#0d0887"
             ],
             [
              0.1111111111111111,
              "#46039f"
             ],
             [
              0.2222222222222222,
              "#7201a8"
             ],
             [
              0.3333333333333333,
              "#9c179e"
             ],
             [
              0.4444444444444444,
              "#bd3786"
             ],
             [
              0.5555555555555556,
              "#d8576b"
             ],
             [
              0.6666666666666666,
              "#ed7953"
             ],
             [
              0.7777777777777778,
              "#fb9f3a"
             ],
             [
              0.8888888888888888,
              "#fdca26"
             ],
             [
              1,
              "#f0f921"
             ]
            ],
            "type": "contour"
           }
          ],
          "contourcarpet": [
           {
            "colorbar": {
             "outlinewidth": 0,
             "ticks": ""
            },
            "type": "contourcarpet"
           }
          ],
          "heatmap": [
           {
            "colorbar": {
             "outlinewidth": 0,
             "ticks": ""
            },
            "colorscale": [
             [
              0,
              "#0d0887"
             ],
             [
              0.1111111111111111,
              "#46039f"
             ],
             [
              0.2222222222222222,
              "#7201a8"
             ],
             [
              0.3333333333333333,
              "#9c179e"
             ],
             [
              0.4444444444444444,
              "#bd3786"
             ],
             [
              0.5555555555555556,
              "#d8576b"
             ],
             [
              0.6666666666666666,
              "#ed7953"
             ],
             [
              0.7777777777777778,
              "#fb9f3a"
             ],
             [
              0.8888888888888888,
              "#fdca26"
             ],
             [
              1,
              "#f0f921"
             ]
            ],
            "type": "heatmap"
           }
          ],
          "heatmapgl": [
           {
            "colorbar": {
             "outlinewidth": 0,
             "ticks": ""
            },
            "colorscale": [
             [
              0,
              "#0d0887"
             ],
             [
              0.1111111111111111,
              "#46039f"
             ],
             [
              0.2222222222222222,
              "#7201a8"
             ],
             [
              0.3333333333333333,
              "#9c179e"
             ],
             [
              0.4444444444444444,
              "#bd3786"
             ],
             [
              0.5555555555555556,
              "#d8576b"
             ],
             [
              0.6666666666666666,
              "#ed7953"
             ],
             [
              0.7777777777777778,
              "#fb9f3a"
             ],
             [
              0.8888888888888888,
              "#fdca26"
             ],
             [
              1,
              "#f0f921"
             ]
            ],
            "type": "heatmapgl"
           }
          ],
          "histogram": [
           {
            "marker": {
             "pattern": {
              "fillmode": "overlay",
              "size": 10,
              "solidity": 0.2
             }
            },
            "type": "histogram"
           }
          ],
          "histogram2d": [
           {
            "colorbar": {
             "outlinewidth": 0,
             "ticks": ""
            },
            "colorscale": [
             [
              0,
              "#0d0887"
             ],
             [
              0.1111111111111111,
              "#46039f"
             ],
             [
              0.2222222222222222,
              "#7201a8"
             ],
             [
              0.3333333333333333,
              "#9c179e"
             ],
             [
              0.4444444444444444,
              "#bd3786"
             ],
             [
              0.5555555555555556,
              "#d8576b"
             ],
             [
              0.6666666666666666,
              "#ed7953"
             ],
             [
              0.7777777777777778,
              "#fb9f3a"
             ],
             [
              0.8888888888888888,
              "#fdca26"
             ],
             [
              1,
              "#f0f921"
             ]
            ],
            "type": "histogram2d"
           }
          ],
          "histogram2dcontour": [
           {
            "colorbar": {
             "outlinewidth": 0,
             "ticks": ""
            },
            "colorscale": [
             [
              0,
              "#0d0887"
             ],
             [
              0.1111111111111111,
              "#46039f"
             ],
             [
              0.2222222222222222,
              "#7201a8"
             ],
             [
              0.3333333333333333,
              "#9c179e"
             ],
             [
              0.4444444444444444,
              "#bd3786"
             ],
             [
              0.5555555555555556,
              "#d8576b"
             ],
             [
              0.6666666666666666,
              "#ed7953"
             ],
             [
              0.7777777777777778,
              "#fb9f3a"
             ],
             [
              0.8888888888888888,
              "#fdca26"
             ],
             [
              1,
              "#f0f921"
             ]
            ],
            "type": "histogram2dcontour"
           }
          ],
          "mesh3d": [
           {
            "colorbar": {
             "outlinewidth": 0,
             "ticks": ""
            },
            "type": "mesh3d"
           }
          ],
          "parcoords": [
           {
            "line": {
             "colorbar": {
              "outlinewidth": 0,
              "ticks": ""
             }
            },
            "type": "parcoords"
           }
          ],
          "pie": [
           {
            "automargin": true,
            "type": "pie"
           }
          ],
          "scatter": [
           {
            "fillpattern": {
             "fillmode": "overlay",
             "size": 10,
             "solidity": 0.2
            },
            "type": "scatter"
           }
          ],
          "scatter3d": [
           {
            "line": {
             "colorbar": {
              "outlinewidth": 0,
              "ticks": ""
             }
            },
            "marker": {
             "colorbar": {
              "outlinewidth": 0,
              "ticks": ""
             }
            },
            "type": "scatter3d"
           }
          ],
          "scattercarpet": [
           {
            "marker": {
             "colorbar": {
              "outlinewidth": 0,
              "ticks": ""
             }
            },
            "type": "scattercarpet"
           }
          ],
          "scattergeo": [
           {
            "marker": {
             "colorbar": {
              "outlinewidth": 0,
              "ticks": ""
             }
            },
            "type": "scattergeo"
           }
          ],
          "scattergl": [
           {
            "marker": {
             "colorbar": {
              "outlinewidth": 0,
              "ticks": ""
             }
            },
            "type": "scattergl"
           }
          ],
          "scattermapbox": [
           {
            "marker": {
             "colorbar": {
              "outlinewidth": 0,
              "ticks": ""
             }
            },
            "type": "scattermapbox"
           }
          ],
          "scatterpolar": [
           {
            "marker": {
             "colorbar": {
              "outlinewidth": 0,
              "ticks": ""
             }
            },
            "type": "scatterpolar"
           }
          ],
          "scatterpolargl": [
           {
            "marker": {
             "colorbar": {
              "outlinewidth": 0,
              "ticks": ""
             }
            },
            "type": "scatterpolargl"
           }
          ],
          "scatterternary": [
           {
            "marker": {
             "colorbar": {
              "outlinewidth": 0,
              "ticks": ""
             }
            },
            "type": "scatterternary"
           }
          ],
          "surface": [
           {
            "colorbar": {
             "outlinewidth": 0,
             "ticks": ""
            },
            "colorscale": [
             [
              0,
              "#0d0887"
             ],
             [
              0.1111111111111111,
              "#46039f"
             ],
             [
              0.2222222222222222,
              "#7201a8"
             ],
             [
              0.3333333333333333,
              "#9c179e"
             ],
             [
              0.4444444444444444,
              "#bd3786"
             ],
             [
              0.5555555555555556,
              "#d8576b"
             ],
             [
              0.6666666666666666,
              "#ed7953"
             ],
             [
              0.7777777777777778,
              "#fb9f3a"
             ],
             [
              0.8888888888888888,
              "#fdca26"
             ],
             [
              1,
              "#f0f921"
             ]
            ],
            "type": "surface"
           }
          ],
          "table": [
           {
            "cells": {
             "fill": {
              "color": "#EBF0F8"
             },
             "line": {
              "color": "white"
             }
            },
            "header": {
             "fill": {
              "color": "#C8D4E3"
             },
             "line": {
              "color": "white"
             }
            },
            "type": "table"
           }
          ]
         },
         "layout": {
          "annotationdefaults": {
           "arrowcolor": "#2a3f5f",
           "arrowhead": 0,
           "arrowwidth": 1
          },
          "autotypenumbers": "strict",
          "coloraxis": {
           "colorbar": {
            "outlinewidth": 0,
            "ticks": ""
           }
          },
          "colorscale": {
           "diverging": [
            [
             0,
             "#8e0152"
            ],
            [
             0.1,
             "#c51b7d"
            ],
            [
             0.2,
             "#de77ae"
            ],
            [
             0.3,
             "#f1b6da"
            ],
            [
             0.4,
             "#fde0ef"
            ],
            [
             0.5,
             "#f7f7f7"
            ],
            [
             0.6,
             "#e6f5d0"
            ],
            [
             0.7,
             "#b8e186"
            ],
            [
             0.8,
             "#7fbc41"
            ],
            [
             0.9,
             "#4d9221"
            ],
            [
             1,
             "#276419"
            ]
           ],
           "sequential": [
            [
             0,
             "#0d0887"
            ],
            [
             0.1111111111111111,
             "#46039f"
            ],
            [
             0.2222222222222222,
             "#7201a8"
            ],
            [
             0.3333333333333333,
             "#9c179e"
            ],
            [
             0.4444444444444444,
             "#bd3786"
            ],
            [
             0.5555555555555556,
             "#d8576b"
            ],
            [
             0.6666666666666666,
             "#ed7953"
            ],
            [
             0.7777777777777778,
             "#fb9f3a"
            ],
            [
             0.8888888888888888,
             "#fdca26"
            ],
            [
             1,
             "#f0f921"
            ]
           ],
           "sequentialminus": [
            [
             0,
             "#0d0887"
            ],
            [
             0.1111111111111111,
             "#46039f"
            ],
            [
             0.2222222222222222,
             "#7201a8"
            ],
            [
             0.3333333333333333,
             "#9c179e"
            ],
            [
             0.4444444444444444,
             "#bd3786"
            ],
            [
             0.5555555555555556,
             "#d8576b"
            ],
            [
             0.6666666666666666,
             "#ed7953"
            ],
            [
             0.7777777777777778,
             "#fb9f3a"
            ],
            [
             0.8888888888888888,
             "#fdca26"
            ],
            [
             1,
             "#f0f921"
            ]
           ]
          },
          "colorway": [
           "#636efa",
           "#EF553B",
           "#00cc96",
           "#ab63fa",
           "#FFA15A",
           "#19d3f3",
           "#FF6692",
           "#B6E880",
           "#FF97FF",
           "#FECB52"
          ],
          "font": {
           "color": "#2a3f5f"
          },
          "geo": {
           "bgcolor": "white",
           "lakecolor": "white",
           "landcolor": "white",
           "showlakes": true,
           "showland": true,
           "subunitcolor": "#C8D4E3"
          },
          "hoverlabel": {
           "align": "left"
          },
          "hovermode": "closest",
          "mapbox": {
           "style": "light"
          },
          "paper_bgcolor": "white",
          "plot_bgcolor": "white",
          "polar": {
           "angularaxis": {
            "gridcolor": "#EBF0F8",
            "linecolor": "#EBF0F8",
            "ticks": ""
           },
           "bgcolor": "white",
           "radialaxis": {
            "gridcolor": "#EBF0F8",
            "linecolor": "#EBF0F8",
            "ticks": ""
           }
          },
          "scene": {
           "xaxis": {
            "backgroundcolor": "white",
            "gridcolor": "#DFE8F3",
            "gridwidth": 2,
            "linecolor": "#EBF0F8",
            "showbackground": true,
            "ticks": "",
            "zerolinecolor": "#EBF0F8"
           },
           "yaxis": {
            "backgroundcolor": "white",
            "gridcolor": "#DFE8F3",
            "gridwidth": 2,
            "linecolor": "#EBF0F8",
            "showbackground": true,
            "ticks": "",
            "zerolinecolor": "#EBF0F8"
           },
           "zaxis": {
            "backgroundcolor": "white",
            "gridcolor": "#DFE8F3",
            "gridwidth": 2,
            "linecolor": "#EBF0F8",
            "showbackground": true,
            "ticks": "",
            "zerolinecolor": "#EBF0F8"
           }
          },
          "shapedefaults": {
           "line": {
            "color": "#2a3f5f"
           }
          },
          "ternary": {
           "aaxis": {
            "gridcolor": "#DFE8F3",
            "linecolor": "#A2B1C6",
            "ticks": ""
           },
           "baxis": {
            "gridcolor": "#DFE8F3",
            "linecolor": "#A2B1C6",
            "ticks": ""
           },
           "bgcolor": "white",
           "caxis": {
            "gridcolor": "#DFE8F3",
            "linecolor": "#A2B1C6",
            "ticks": ""
           }
          },
          "title": {
           "x": 0.05
          },
          "xaxis": {
           "automargin": true,
           "gridcolor": "#EBF0F8",
           "linecolor": "#EBF0F8",
           "ticks": "",
           "title": {
            "standoff": 15
           },
           "zerolinecolor": "#EBF0F8",
           "zerolinewidth": 2
          },
          "yaxis": {
           "automargin": true,
           "gridcolor": "#EBF0F8",
           "linecolor": "#EBF0F8",
           "ticks": "",
           "title": {
            "standoff": 15
           },
           "zerolinecolor": "#EBF0F8",
           "zerolinewidth": 2
          }
         }
        },
        "title": {
         "font": {
          "size": 20
         },
         "text": "Crime Rate Over Time – Top 5 Municipalities (2008–2024)",
         "x": 0.5
        },
        "xaxis": {
         "title": {
          "text": "Year"
         }
        },
        "yaxis": {
         "title": {
          "text": "Crime Rate per 10,000"
         }
        }
       }
      }
     },
     "metadata": {},
     "output_type": "display_data"
    },
    {
     "data": {
      "application/vnd.plotly.v1+json": {
       "config": {
        "plotlyServerURL": "https://plot.ly"
       },
       "data": [
        {
         "mode": "lines+markers",
         "name": "Odder",
         "type": "scatter",
         "x": [
          2008,
          2009,
          2010,
          2011,
          2012,
          2013,
          2014,
          2015,
          2016,
          2017,
          2018,
          2019,
          2020,
          2021,
          2022,
          2023,
          2024
         ],
         "y": [
          4.174009832112049,
          3.704904367156023,
          8.74729524423369,
          10.982976386600768,
          6.43707756678468,
          5.5045871559633035,
          4.592844348505029,
          4.104341481211237,
          6.3259680990465865,
          4.478079799382025,
          3.535755325731459,
          3.08710033076075,
          1.751006828926633,
          3.4814395752643716,
          3.0037761757638175,
          3.809362566663845,
          3.766320723133579
         ]
        },
        {
         "mode": "lines+markers",
         "name": "Skanderborg",
         "type": "scatter",
         "x": [
          2008,
          2009,
          2010,
          2011,
          2012,
          2013,
          2014,
          2015,
          2016,
          2017,
          2018,
          2019,
          2020,
          2021,
          2022,
          2023,
          2024
         ],
         "y": [
          5.709799443294554,
          7.062645667066883,
          6.980437324398374,
          5.890812065769184,
          7.75755068266446,
          6.368988191551623,
          5.5005500550055,
          5.273723248613521,
          4.034901901447521,
          4.139004321120511,
          3.924261748258609,
          2.7430858101784623,
          2.0740929831838923,
          2.6818110112005047,
          3.2650268976025374,
          3.2239245908686174,
          4.75423663829461
         ]
        },
        {
         "mode": "lines+markers",
         "name": "Hørsholm",
         "type": "scatter",
         "x": [
          2008,
          2009,
          2010,
          2011,
          2012,
          2013,
          2014,
          2015,
          2016,
          2017,
          2018,
          2019,
          2020,
          2021,
          2022,
          2023,
          2024
         ],
         "y": [
          1.6530974914245569,
          4.524886877828054,
          4.512265157108868,
          5.734179807495392,
          4.104247896572953,
          6.111722283339446,
          2.4282650046541745,
          5.230125523012552,
          1.6022431403965551,
          4.4040517275893825,
          4.395077513185233,
          5.998320470268325,
          5.228442728442729,
          4.013324236465064,
          6.057913654537377,
          1.6184503338053815,
          6.448752569424852
         ]
        },
        {
         "mode": "lines+markers",
         "name": "Fanø",
         "type": "scatter",
         "x": [
          2008,
          2009,
          2010,
          2011,
          2012,
          2013,
          2014,
          2015,
          2016,
          2017,
          2018,
          2019,
          2020,
          2021,
          2022,
          2023,
          2024
         ],
         "y": [
          0,
          0,
          9.319664492078285,
          6.224712107065049,
          6.151953245155338,
          3.089280197713933,
          9.191176470588236,
          12.25865767698437,
          6.079027355623101,
          2.9895366218236177,
          2.9403116730373418,
          2.937720329024677,
          5.73394495412844,
          2.893518518518518,
          0,
          0,
          2.978850163836759
         ]
        },
        {
         "mode": "lines+markers",
         "name": "Christiansø",
         "type": "scatter",
         "x": [
          2008,
          2009,
          2010,
          2011,
          2012,
          2013,
          2014,
          2015,
          2016,
          2017,
          2018,
          2019,
          2020,
          2021,
          2022,
          2023,
          2024
         ],
         "y": [
          0,
          0,
          0,
          0,
          0,
          0,
          0,
          0,
          0,
          0,
          0,
          0,
          0,
          0,
          0,
          0,
          0
         ]
        }
       ],
       "layout": {
        "font": {
         "family": "Arial",
         "size": 14
        },
        "height": 500,
        "legend": {
         "title": {
          "text": "Municipality"
         }
        },
        "template": {
         "data": {
          "bar": [
           {
            "error_x": {
             "color": "#2a3f5f"
            },
            "error_y": {
             "color": "#2a3f5f"
            },
            "marker": {
             "line": {
              "color": "white",
              "width": 0.5
             },
             "pattern": {
              "fillmode": "overlay",
              "size": 10,
              "solidity": 0.2
             }
            },
            "type": "bar"
           }
          ],
          "barpolar": [
           {
            "marker": {
             "line": {
              "color": "white",
              "width": 0.5
             },
             "pattern": {
              "fillmode": "overlay",
              "size": 10,
              "solidity": 0.2
             }
            },
            "type": "barpolar"
           }
          ],
          "carpet": [
           {
            "aaxis": {
             "endlinecolor": "#2a3f5f",
             "gridcolor": "#C8D4E3",
             "linecolor": "#C8D4E3",
             "minorgridcolor": "#C8D4E3",
             "startlinecolor": "#2a3f5f"
            },
            "baxis": {
             "endlinecolor": "#2a3f5f",
             "gridcolor": "#C8D4E3",
             "linecolor": "#C8D4E3",
             "minorgridcolor": "#C8D4E3",
             "startlinecolor": "#2a3f5f"
            },
            "type": "carpet"
           }
          ],
          "choropleth": [
           {
            "colorbar": {
             "outlinewidth": 0,
             "ticks": ""
            },
            "type": "choropleth"
           }
          ],
          "contour": [
           {
            "colorbar": {
             "outlinewidth": 0,
             "ticks": ""
            },
            "colorscale": [
             [
              0,
              "#0d0887"
             ],
             [
              0.1111111111111111,
              "#46039f"
             ],
             [
              0.2222222222222222,
              "#7201a8"
             ],
             [
              0.3333333333333333,
              "#9c179e"
             ],
             [
              0.4444444444444444,
              "#bd3786"
             ],
             [
              0.5555555555555556,
              "#d8576b"
             ],
             [
              0.6666666666666666,
              "#ed7953"
             ],
             [
              0.7777777777777778,
              "#fb9f3a"
             ],
             [
              0.8888888888888888,
              "#fdca26"
             ],
             [
              1,
              "#f0f921"
             ]
            ],
            "type": "contour"
           }
          ],
          "contourcarpet": [
           {
            "colorbar": {
             "outlinewidth": 0,
             "ticks": ""
            },
            "type": "contourcarpet"
           }
          ],
          "heatmap": [
           {
            "colorbar": {
             "outlinewidth": 0,
             "ticks": ""
            },
            "colorscale": [
             [
              0,
              "#0d0887"
             ],
             [
              0.1111111111111111,
              "#46039f"
             ],
             [
              0.2222222222222222,
              "#7201a8"
             ],
             [
              0.3333333333333333,
              "#9c179e"
             ],
             [
              0.4444444444444444,
              "#bd3786"
             ],
             [
              0.5555555555555556,
              "#d8576b"
             ],
             [
              0.6666666666666666,
              "#ed7953"
             ],
             [
              0.7777777777777778,
              "#fb9f3a"
             ],
             [
              0.8888888888888888,
              "#fdca26"
             ],
             [
              1,
              "#f0f921"
             ]
            ],
            "type": "heatmap"
           }
          ],
          "heatmapgl": [
           {
            "colorbar": {
             "outlinewidth": 0,
             "ticks": ""
            },
            "colorscale": [
             [
              0,
              "#0d0887"
             ],
             [
              0.1111111111111111,
              "#46039f"
             ],
             [
              0.2222222222222222,
              "#7201a8"
             ],
             [
              0.3333333333333333,
              "#9c179e"
             ],
             [
              0.4444444444444444,
              "#bd3786"
             ],
             [
              0.5555555555555556,
              "#d8576b"
             ],
             [
              0.6666666666666666,
              "#ed7953"
             ],
             [
              0.7777777777777778,
              "#fb9f3a"
             ],
             [
              0.8888888888888888,
              "#fdca26"
             ],
             [
              1,
              "#f0f921"
             ]
            ],
            "type": "heatmapgl"
           }
          ],
          "histogram": [
           {
            "marker": {
             "pattern": {
              "fillmode": "overlay",
              "size": 10,
              "solidity": 0.2
             }
            },
            "type": "histogram"
           }
          ],
          "histogram2d": [
           {
            "colorbar": {
             "outlinewidth": 0,
             "ticks": ""
            },
            "colorscale": [
             [
              0,
              "#0d0887"
             ],
             [
              0.1111111111111111,
              "#46039f"
             ],
             [
              0.2222222222222222,
              "#7201a8"
             ],
             [
              0.3333333333333333,
              "#9c179e"
             ],
             [
              0.4444444444444444,
              "#bd3786"
             ],
             [
              0.5555555555555556,
              "#d8576b"
             ],
             [
              0.6666666666666666,
              "#ed7953"
             ],
             [
              0.7777777777777778,
              "#fb9f3a"
             ],
             [
              0.8888888888888888,
              "#fdca26"
             ],
             [
              1,
              "#f0f921"
             ]
            ],
            "type": "histogram2d"
           }
          ],
          "histogram2dcontour": [
           {
            "colorbar": {
             "outlinewidth": 0,
             "ticks": ""
            },
            "colorscale": [
             [
              0,
              "#0d0887"
             ],
             [
              0.1111111111111111,
              "#46039f"
             ],
             [
              0.2222222222222222,
              "#7201a8"
             ],
             [
              0.3333333333333333,
              "#9c179e"
             ],
             [
              0.4444444444444444,
              "#bd3786"
             ],
             [
              0.5555555555555556,
              "#d8576b"
             ],
             [
              0.6666666666666666,
              "#ed7953"
             ],
             [
              0.7777777777777778,
              "#fb9f3a"
             ],
             [
              0.8888888888888888,
              "#fdca26"
             ],
             [
              1,
              "#f0f921"
             ]
            ],
            "type": "histogram2dcontour"
           }
          ],
          "mesh3d": [
           {
            "colorbar": {
             "outlinewidth": 0,
             "ticks": ""
            },
            "type": "mesh3d"
           }
          ],
          "parcoords": [
           {
            "line": {
             "colorbar": {
              "outlinewidth": 0,
              "ticks": ""
             }
            },
            "type": "parcoords"
           }
          ],
          "pie": [
           {
            "automargin": true,
            "type": "pie"
           }
          ],
          "scatter": [
           {
            "fillpattern": {
             "fillmode": "overlay",
             "size": 10,
             "solidity": 0.2
            },
            "type": "scatter"
           }
          ],
          "scatter3d": [
           {
            "line": {
             "colorbar": {
              "outlinewidth": 0,
              "ticks": ""
             }
            },
            "marker": {
             "colorbar": {
              "outlinewidth": 0,
              "ticks": ""
             }
            },
            "type": "scatter3d"
           }
          ],
          "scattercarpet": [
           {
            "marker": {
             "colorbar": {
              "outlinewidth": 0,
              "ticks": ""
             }
            },
            "type": "scattercarpet"
           }
          ],
          "scattergeo": [
           {
            "marker": {
             "colorbar": {
              "outlinewidth": 0,
              "ticks": ""
             }
            },
            "type": "scattergeo"
           }
          ],
          "scattergl": [
           {
            "marker": {
             "colorbar": {
              "outlinewidth": 0,
              "ticks": ""
             }
            },
            "type": "scattergl"
           }
          ],
          "scattermapbox": [
           {
            "marker": {
             "colorbar": {
              "outlinewidth": 0,
              "ticks": ""
             }
            },
            "type": "scattermapbox"
           }
          ],
          "scatterpolar": [
           {
            "marker": {
             "colorbar": {
              "outlinewidth": 0,
              "ticks": ""
             }
            },
            "type": "scatterpolar"
           }
          ],
          "scatterpolargl": [
           {
            "marker": {
             "colorbar": {
              "outlinewidth": 0,
              "ticks": ""
             }
            },
            "type": "scatterpolargl"
           }
          ],
          "scatterternary": [
           {
            "marker": {
             "colorbar": {
              "outlinewidth": 0,
              "ticks": ""
             }
            },
            "type": "scatterternary"
           }
          ],
          "surface": [
           {
            "colorbar": {
             "outlinewidth": 0,
             "ticks": ""
            },
            "colorscale": [
             [
              0,
              "#0d0887"
             ],
             [
              0.1111111111111111,
              "#46039f"
             ],
             [
              0.2222222222222222,
              "#7201a8"
             ],
             [
              0.3333333333333333,
              "#9c179e"
             ],
             [
              0.4444444444444444,
              "#bd3786"
             ],
             [
              0.5555555555555556,
              "#d8576b"
             ],
             [
              0.6666666666666666,
              "#ed7953"
             ],
             [
              0.7777777777777778,
              "#fb9f3a"
             ],
             [
              0.8888888888888888,
              "#fdca26"
             ],
             [
              1,
              "#f0f921"
             ]
            ],
            "type": "surface"
           }
          ],
          "table": [
           {
            "cells": {
             "fill": {
              "color": "#EBF0F8"
             },
             "line": {
              "color": "white"
             }
            },
            "header": {
             "fill": {
              "color": "#C8D4E3"
             },
             "line": {
              "color": "white"
             }
            },
            "type": "table"
           }
          ]
         },
         "layout": {
          "annotationdefaults": {
           "arrowcolor": "#2a3f5f",
           "arrowhead": 0,
           "arrowwidth": 1
          },
          "autotypenumbers": "strict",
          "coloraxis": {
           "colorbar": {
            "outlinewidth": 0,
            "ticks": ""
           }
          },
          "colorscale": {
           "diverging": [
            [
             0,
             "#8e0152"
            ],
            [
             0.1,
             "#c51b7d"
            ],
            [
             0.2,
             "#de77ae"
            ],
            [
             0.3,
             "#f1b6da"
            ],
            [
             0.4,
             "#fde0ef"
            ],
            [
             0.5,
             "#f7f7f7"
            ],
            [
             0.6,
             "#e6f5d0"
            ],
            [
             0.7,
             "#b8e186"
            ],
            [
             0.8,
             "#7fbc41"
            ],
            [
             0.9,
             "#4d9221"
            ],
            [
             1,
             "#276419"
            ]
           ],
           "sequential": [
            [
             0,
             "#0d0887"
            ],
            [
             0.1111111111111111,
             "#46039f"
            ],
            [
             0.2222222222222222,
             "#7201a8"
            ],
            [
             0.3333333333333333,
             "#9c179e"
            ],
            [
             0.4444444444444444,
             "#bd3786"
            ],
            [
             0.5555555555555556,
             "#d8576b"
            ],
            [
             0.6666666666666666,
             "#ed7953"
            ],
            [
             0.7777777777777778,
             "#fb9f3a"
            ],
            [
             0.8888888888888888,
             "#fdca26"
            ],
            [
             1,
             "#f0f921"
            ]
           ],
           "sequentialminus": [
            [
             0,
             "#0d0887"
            ],
            [
             0.1111111111111111,
             "#46039f"
            ],
            [
             0.2222222222222222,
             "#7201a8"
            ],
            [
             0.3333333333333333,
             "#9c179e"
            ],
            [
             0.4444444444444444,
             "#bd3786"
            ],
            [
             0.5555555555555556,
             "#d8576b"
            ],
            [
             0.6666666666666666,
             "#ed7953"
            ],
            [
             0.7777777777777778,
             "#fb9f3a"
            ],
            [
             0.8888888888888888,
             "#fdca26"
            ],
            [
             1,
             "#f0f921"
            ]
           ]
          },
          "colorway": [
           "#636efa",
           "#EF553B",
           "#00cc96",
           "#ab63fa",
           "#FFA15A",
           "#19d3f3",
           "#FF6692",
           "#B6E880",
           "#FF97FF",
           "#FECB52"
          ],
          "font": {
           "color": "#2a3f5f"
          },
          "geo": {
           "bgcolor": "white",
           "lakecolor": "white",
           "landcolor": "white",
           "showlakes": true,
           "showland": true,
           "subunitcolor": "#C8D4E3"
          },
          "hoverlabel": {
           "align": "left"
          },
          "hovermode": "closest",
          "mapbox": {
           "style": "light"
          },
          "paper_bgcolor": "white",
          "plot_bgcolor": "white",
          "polar": {
           "angularaxis": {
            "gridcolor": "#EBF0F8",
            "linecolor": "#EBF0F8",
            "ticks": ""
           },
           "bgcolor": "white",
           "radialaxis": {
            "gridcolor": "#EBF0F8",
            "linecolor": "#EBF0F8",
            "ticks": ""
           }
          },
          "scene": {
           "xaxis": {
            "backgroundcolor": "white",
            "gridcolor": "#DFE8F3",
            "gridwidth": 2,
            "linecolor": "#EBF0F8",
            "showbackground": true,
            "ticks": "",
            "zerolinecolor": "#EBF0F8"
           },
           "yaxis": {
            "backgroundcolor": "white",
            "gridcolor": "#DFE8F3",
            "gridwidth": 2,
            "linecolor": "#EBF0F8",
            "showbackground": true,
            "ticks": "",
            "zerolinecolor": "#EBF0F8"
           },
           "zaxis": {
            "backgroundcolor": "white",
            "gridcolor": "#DFE8F3",
            "gridwidth": 2,
            "linecolor": "#EBF0F8",
            "showbackground": true,
            "ticks": "",
            "zerolinecolor": "#EBF0F8"
           }
          },
          "shapedefaults": {
           "line": {
            "color": "#2a3f5f"
           }
          },
          "ternary": {
           "aaxis": {
            "gridcolor": "#DFE8F3",
            "linecolor": "#A2B1C6",
            "ticks": ""
           },
           "baxis": {
            "gridcolor": "#DFE8F3",
            "linecolor": "#A2B1C6",
            "ticks": ""
           },
           "bgcolor": "white",
           "caxis": {
            "gridcolor": "#DFE8F3",
            "linecolor": "#A2B1C6",
            "ticks": ""
           }
          },
          "title": {
           "x": 0.05
          },
          "xaxis": {
           "automargin": true,
           "gridcolor": "#EBF0F8",
           "linecolor": "#EBF0F8",
           "ticks": "",
           "title": {
            "standoff": 15
           },
           "zerolinecolor": "#EBF0F8",
           "zerolinewidth": 2
          },
          "yaxis": {
           "automargin": true,
           "gridcolor": "#EBF0F8",
           "linecolor": "#EBF0F8",
           "ticks": "",
           "title": {
            "standoff": 15
           },
           "zerolinecolor": "#EBF0F8",
           "zerolinewidth": 2
          }
         }
        },
        "title": {
         "font": {
          "size": 20
         },
         "text": "Crime Rate Over Time – Bottom 5 Municipalities (2008–2024)",
         "x": 0.5
        },
        "xaxis": {
         "title": {
          "text": "Year"
         }
        },
        "yaxis": {
         "title": {
          "text": "Crime Rate per 10,000"
         }
        }
       }
      }
     },
     "metadata": {},
     "output_type": "display_data"
    }
   ],
   "source": [
    "# Extract actual yearly data for the top and bottom 5\n",
    "top5_munis = top5[\"Municipality\"].tolist()\n",
    "bottom5_munis = bottom5[\"Municipality\"].tolist()\n",
    "\n",
    "# Filter from df_period (contains actual yearly crime rate per 10,000)\n",
    "top5_timeseries = df_period[df_period[\"Municipality\"].isin(top5_munis)]\n",
    "bottom5_timeseries = df_period[df_period[\"Municipality\"].isin(bottom5_munis)]\n",
    "\n",
    "# --- TOP 5 TIME SERIES PLOT ---\n",
    "fig_top = go.Figure()\n",
    "\n",
    "for muni in top5_munis:\n",
    "    muni_data = top5_timeseries[top5_timeseries[\"Municipality\"] == muni]\n",
    "    fig_top.add_trace(go.Scatter(\n",
    "        x=muni_data[\"Year\"],\n",
    "        y=muni_data[\"Crime_rate_per_10000\"],\n",
    "        mode=\"lines+markers\",\n",
    "        name=muni.title()\n",
    "    ))\n",
    "\n",
    "fig_top.update_layout(\n",
    "    title=\"Crime Rate Over Time – Top 5 Municipalities (2008–2024)\",\n",
    "    xaxis_title=\"Year\",\n",
    "    yaxis_title=\"Crime Rate per 10,000\",\n",
    "    legend_title=\"Municipality\",\n",
    "    template=\"plotly_white\",\n",
    "    font=dict(family=\"Arial\", size=14),\n",
    "    title_font_size=20,\n",
    "    title_x=0.5,\n",
    "    height=500\n",
    ")\n",
    "\n",
    "fig_top.write_html(r\"C:\\Users\\Baxe\\Documents\\SocialDataanalyseVisulisation\\signedue.github.io\\crime_timeseries_top5.html\")\n",
    "fig_top.show()\n",
    "\n",
    "\n",
    "# --- BOTTOM 5 TIME SERIES PLOT ---\n",
    "fig_bottom = go.Figure()\n",
    "\n",
    "for muni in bottom5_munis:\n",
    "    muni_data = bottom5_timeseries[bottom5_timeseries[\"Municipality\"] == muni]\n",
    "    fig_bottom.add_trace(go.Scatter(\n",
    "        x=muni_data[\"Year\"],\n",
    "        y=muni_data[\"Crime_rate_per_10000\"],\n",
    "        mode=\"lines+markers\",\n",
    "        name=muni.title()\n",
    "    ))\n",
    "\n",
    "fig_bottom.update_layout(\n",
    "    title=\"Crime Rate Over Time – Bottom 5 Municipalities (2008–2024)\",\n",
    "    xaxis_title=\"Year\",\n",
    "    yaxis_title=\"Crime Rate per 10,000\",\n",
    "    legend_title=\"Municipality\",\n",
    "    template=\"plotly_white\",\n",
    "    font=dict(family=\"Arial\", size=14),\n",
    "    title_font_size=20,\n",
    "    title_x=0.5,\n",
    "    height=500\n",
    ")\n",
    "\n",
    "fig_bottom.write_html(r\"C:\\Users\\Baxe\\Documents\\SocialDataanalyseVisulisation\\signedue.github.io\\crime_timeseries_bottom5.html\")\n",
    "fig_bottom.show()\n"
   ]
  },
  {
   "cell_type": "markdown",
   "id": "62777a0b",
   "metadata": {},
   "source": [
    "## Crime votality top and bottom 5"
   ]
  },
  {
   "cell_type": "code",
   "execution_count": null,
   "id": "a398373d",
   "metadata": {},
   "outputs": [
    {
     "data": {
      "application/vnd.plotly.v1+json": {
       "config": {
        "plotlyServerURL": "https://plot.ly"
       },
       "data": [
        {
         "alignmentgroup": "True",
         "hovertemplate": "Group=Top 5<br>Municipality=%{x}<br>CrimeRateVolatility=%{text}<extra></extra>",
         "legendgroup": "Top 5",
         "marker": {
          "color": "#D62728",
          "pattern": {
           "shape": ""
          }
         },
         "name": "Top 5",
         "offsetgroup": "Top 5",
         "orientation": "v",
         "showlegend": true,
         "text": [
          6.893682775276345,
          6.183007236553177,
          4.463408426540378,
          3.9539098551995426,
          3.7076630495667477
         ],
         "textposition": "outside",
         "texttemplate": "%{text:.2f}",
         "type": "bar",
         "x": [
          "Odense",
          "Ishøj",
          "Brøndby",
          "Guldborgsund",
          "Lolland"
         ],
         "xaxis": "x",
         "y": [
          6.893682775276345,
          6.183007236553177,
          4.463408426540378,
          3.9539098551995426,
          3.7076630495667477
         ],
         "yaxis": "y"
        },
        {
         "alignmentgroup": "True",
         "hovertemplate": "Group=Bottom 5<br>Municipality=%{x}<br>CrimeRateVolatility=%{text}<extra></extra>",
         "legendgroup": "Bottom 5",
         "marker": {
          "color": "#2CA02C",
          "pattern": {
           "shape": ""
          }
         },
         "name": "Bottom 5",
         "offsetgroup": "Bottom 5",
         "orientation": "v",
         "showlegend": true,
         "text": [
          3.6175084981106114,
          2.269082819186106,
          1.7064659658924521,
          1.6358733157331449,
          0
         ],
         "textposition": "outside",
         "texttemplate": "%{text:.2f}",
         "type": "bar",
         "x": [
          "Fanø",
          "Odder",
          "Skanderborg",
          "Hørsholm",
          "Christiansø"
         ],
         "xaxis": "x",
         "y": [
          3.6175084981106114,
          2.269082819186106,
          1.7064659658924521,
          1.6358733157331449,
          0
         ],
         "yaxis": "y"
        }
       ],
       "layout": {
        "barmode": "relative",
        "font": {
         "family": "Arial",
         "size": 14
        },
        "height": 500,
        "legend": {
         "title": {
          "text": "Group"
         },
         "tracegroupgap": 0
        },
        "plot_bgcolor": "white",
        "template": {
         "data": {
          "bar": [
           {
            "error_x": {
             "color": "#2a3f5f"
            },
            "error_y": {
             "color": "#2a3f5f"
            },
            "marker": {
             "line": {
              "color": "#E5ECF6",
              "width": 0.5
             },
             "pattern": {
              "fillmode": "overlay",
              "size": 10,
              "solidity": 0.2
             }
            },
            "type": "bar"
           }
          ],
          "barpolar": [
           {
            "marker": {
             "line": {
              "color": "#E5ECF6",
              "width": 0.5
             },
             "pattern": {
              "fillmode": "overlay",
              "size": 10,
              "solidity": 0.2
             }
            },
            "type": "barpolar"
           }
          ],
          "carpet": [
           {
            "aaxis": {
             "endlinecolor": "#2a3f5f",
             "gridcolor": "white",
             "linecolor": "white",
             "minorgridcolor": "white",
             "startlinecolor": "#2a3f5f"
            },
            "baxis": {
             "endlinecolor": "#2a3f5f",
             "gridcolor": "white",
             "linecolor": "white",
             "minorgridcolor": "white",
             "startlinecolor": "#2a3f5f"
            },
            "type": "carpet"
           }
          ],
          "choropleth": [
           {
            "colorbar": {
             "outlinewidth": 0,
             "ticks": ""
            },
            "type": "choropleth"
           }
          ],
          "contour": [
           {
            "colorbar": {
             "outlinewidth": 0,
             "ticks": ""
            },
            "colorscale": [
             [
              0,
              "#0d0887"
             ],
             [
              0.1111111111111111,
              "#46039f"
             ],
             [
              0.2222222222222222,
              "#7201a8"
             ],
             [
              0.3333333333333333,
              "#9c179e"
             ],
             [
              0.4444444444444444,
              "#bd3786"
             ],
             [
              0.5555555555555556,
              "#d8576b"
             ],
             [
              0.6666666666666666,
              "#ed7953"
             ],
             [
              0.7777777777777778,
              "#fb9f3a"
             ],
             [
              0.8888888888888888,
              "#fdca26"
             ],
             [
              1,
              "#f0f921"
             ]
            ],
            "type": "contour"
           }
          ],
          "contourcarpet": [
           {
            "colorbar": {
             "outlinewidth": 0,
             "ticks": ""
            },
            "type": "contourcarpet"
           }
          ],
          "heatmap": [
           {
            "colorbar": {
             "outlinewidth": 0,
             "ticks": ""
            },
            "colorscale": [
             [
              0,
              "#0d0887"
             ],
             [
              0.1111111111111111,
              "#46039f"
             ],
             [
              0.2222222222222222,
              "#7201a8"
             ],
             [
              0.3333333333333333,
              "#9c179e"
             ],
             [
              0.4444444444444444,
              "#bd3786"
             ],
             [
              0.5555555555555556,
              "#d8576b"
             ],
             [
              0.6666666666666666,
              "#ed7953"
             ],
             [
              0.7777777777777778,
              "#fb9f3a"
             ],
             [
              0.8888888888888888,
              "#fdca26"
             ],
             [
              1,
              "#f0f921"
             ]
            ],
            "type": "heatmap"
           }
          ],
          "heatmapgl": [
           {
            "colorbar": {
             "outlinewidth": 0,
             "ticks": ""
            },
            "colorscale": [
             [
              0,
              "#0d0887"
             ],
             [
              0.1111111111111111,
              "#46039f"
             ],
             [
              0.2222222222222222,
              "#7201a8"
             ],
             [
              0.3333333333333333,
              "#9c179e"
             ],
             [
              0.4444444444444444,
              "#bd3786"
             ],
             [
              0.5555555555555556,
              "#d8576b"
             ],
             [
              0.6666666666666666,
              "#ed7953"
             ],
             [
              0.7777777777777778,
              "#fb9f3a"
             ],
             [
              0.8888888888888888,
              "#fdca26"
             ],
             [
              1,
              "#f0f921"
             ]
            ],
            "type": "heatmapgl"
           }
          ],
          "histogram": [
           {
            "marker": {
             "pattern": {
              "fillmode": "overlay",
              "size": 10,
              "solidity": 0.2
             }
            },
            "type": "histogram"
           }
          ],
          "histogram2d": [
           {
            "colorbar": {
             "outlinewidth": 0,
             "ticks": ""
            },
            "colorscale": [
             [
              0,
              "#0d0887"
             ],
             [
              0.1111111111111111,
              "#46039f"
             ],
             [
              0.2222222222222222,
              "#7201a8"
             ],
             [
              0.3333333333333333,
              "#9c179e"
             ],
             [
              0.4444444444444444,
              "#bd3786"
             ],
             [
              0.5555555555555556,
              "#d8576b"
             ],
             [
              0.6666666666666666,
              "#ed7953"
             ],
             [
              0.7777777777777778,
              "#fb9f3a"
             ],
             [
              0.8888888888888888,
              "#fdca26"
             ],
             [
              1,
              "#f0f921"
             ]
            ],
            "type": "histogram2d"
           }
          ],
          "histogram2dcontour": [
           {
            "colorbar": {
             "outlinewidth": 0,
             "ticks": ""
            },
            "colorscale": [
             [
              0,
              "#0d0887"
             ],
             [
              0.1111111111111111,
              "#46039f"
             ],
             [
              0.2222222222222222,
              "#7201a8"
             ],
             [
              0.3333333333333333,
              "#9c179e"
             ],
             [
              0.4444444444444444,
              "#bd3786"
             ],
             [
              0.5555555555555556,
              "#d8576b"
             ],
             [
              0.6666666666666666,
              "#ed7953"
             ],
             [
              0.7777777777777778,
              "#fb9f3a"
             ],
             [
              0.8888888888888888,
              "#fdca26"
             ],
             [
              1,
              "#f0f921"
             ]
            ],
            "type": "histogram2dcontour"
           }
          ],
          "mesh3d": [
           {
            "colorbar": {
             "outlinewidth": 0,
             "ticks": ""
            },
            "type": "mesh3d"
           }
          ],
          "parcoords": [
           {
            "line": {
             "colorbar": {
              "outlinewidth": 0,
              "ticks": ""
             }
            },
            "type": "parcoords"
           }
          ],
          "pie": [
           {
            "automargin": true,
            "type": "pie"
           }
          ],
          "scatter": [
           {
            "fillpattern": {
             "fillmode": "overlay",
             "size": 10,
             "solidity": 0.2
            },
            "type": "scatter"
           }
          ],
          "scatter3d": [
           {
            "line": {
             "colorbar": {
              "outlinewidth": 0,
              "ticks": ""
             }
            },
            "marker": {
             "colorbar": {
              "outlinewidth": 0,
              "ticks": ""
             }
            },
            "type": "scatter3d"
           }
          ],
          "scattercarpet": [
           {
            "marker": {
             "colorbar": {
              "outlinewidth": 0,
              "ticks": ""
             }
            },
            "type": "scattercarpet"
           }
          ],
          "scattergeo": [
           {
            "marker": {
             "colorbar": {
              "outlinewidth": 0,
              "ticks": ""
             }
            },
            "type": "scattergeo"
           }
          ],
          "scattergl": [
           {
            "marker": {
             "colorbar": {
              "outlinewidth": 0,
              "ticks": ""
             }
            },
            "type": "scattergl"
           }
          ],
          "scattermapbox": [
           {
            "marker": {
             "colorbar": {
              "outlinewidth": 0,
              "ticks": ""
             }
            },
            "type": "scattermapbox"
           }
          ],
          "scatterpolar": [
           {
            "marker": {
             "colorbar": {
              "outlinewidth": 0,
              "ticks": ""
             }
            },
            "type": "scatterpolar"
           }
          ],
          "scatterpolargl": [
           {
            "marker": {
             "colorbar": {
              "outlinewidth": 0,
              "ticks": ""
             }
            },
            "type": "scatterpolargl"
           }
          ],
          "scatterternary": [
           {
            "marker": {
             "colorbar": {
              "outlinewidth": 0,
              "ticks": ""
             }
            },
            "type": "scatterternary"
           }
          ],
          "surface": [
           {
            "colorbar": {
             "outlinewidth": 0,
             "ticks": ""
            },
            "colorscale": [
             [
              0,
              "#0d0887"
             ],
             [
              0.1111111111111111,
              "#46039f"
             ],
             [
              0.2222222222222222,
              "#7201a8"
             ],
             [
              0.3333333333333333,
              "#9c179e"
             ],
             [
              0.4444444444444444,
              "#bd3786"
             ],
             [
              0.5555555555555556,
              "#d8576b"
             ],
             [
              0.6666666666666666,
              "#ed7953"
             ],
             [
              0.7777777777777778,
              "#fb9f3a"
             ],
             [
              0.8888888888888888,
              "#fdca26"
             ],
             [
              1,
              "#f0f921"
             ]
            ],
            "type": "surface"
           }
          ],
          "table": [
           {
            "cells": {
             "fill": {
              "color": "#EBF0F8"
             },
             "line": {
              "color": "white"
             }
            },
            "header": {
             "fill": {
              "color": "#C8D4E3"
             },
             "line": {
              "color": "white"
             }
            },
            "type": "table"
           }
          ]
         },
         "layout": {
          "annotationdefaults": {
           "arrowcolor": "#2a3f5f",
           "arrowhead": 0,
           "arrowwidth": 1
          },
          "autotypenumbers": "strict",
          "coloraxis": {
           "colorbar": {
            "outlinewidth": 0,
            "ticks": ""
           }
          },
          "colorscale": {
           "diverging": [
            [
             0,
             "#8e0152"
            ],
            [
             0.1,
             "#c51b7d"
            ],
            [
             0.2,
             "#de77ae"
            ],
            [
             0.3,
             "#f1b6da"
            ],
            [
             0.4,
             "#fde0ef"
            ],
            [
             0.5,
             "#f7f7f7"
            ],
            [
             0.6,
             "#e6f5d0"
            ],
            [
             0.7,
             "#b8e186"
            ],
            [
             0.8,
             "#7fbc41"
            ],
            [
             0.9,
             "#4d9221"
            ],
            [
             1,
             "#276419"
            ]
           ],
           "sequential": [
            [
             0,
             "#0d0887"
            ],
            [
             0.1111111111111111,
             "#46039f"
            ],
            [
             0.2222222222222222,
             "#7201a8"
            ],
            [
             0.3333333333333333,
             "#9c179e"
            ],
            [
             0.4444444444444444,
             "#bd3786"
            ],
            [
             0.5555555555555556,
             "#d8576b"
            ],
            [
             0.6666666666666666,
             "#ed7953"
            ],
            [
             0.7777777777777778,
             "#fb9f3a"
            ],
            [
             0.8888888888888888,
             "#fdca26"
            ],
            [
             1,
             "#f0f921"
            ]
           ],
           "sequentialminus": [
            [
             0,
             "#0d0887"
            ],
            [
             0.1111111111111111,
             "#46039f"
            ],
            [
             0.2222222222222222,
             "#7201a8"
            ],
            [
             0.3333333333333333,
             "#9c179e"
            ],
            [
             0.4444444444444444,
             "#bd3786"
            ],
            [
             0.5555555555555556,
             "#d8576b"
            ],
            [
             0.6666666666666666,
             "#ed7953"
            ],
            [
             0.7777777777777778,
             "#fb9f3a"
            ],
            [
             0.8888888888888888,
             "#fdca26"
            ],
            [
             1,
             "#f0f921"
            ]
           ]
          },
          "colorway": [
           "#636efa",
           "#EF553B",
           "#00cc96",
           "#ab63fa",
           "#FFA15A",
           "#19d3f3",
           "#FF6692",
           "#B6E880",
           "#FF97FF",
           "#FECB52"
          ],
          "font": {
           "color": "#2a3f5f"
          },
          "geo": {
           "bgcolor": "white",
           "lakecolor": "white",
           "landcolor": "#E5ECF6",
           "showlakes": true,
           "showland": true,
           "subunitcolor": "white"
          },
          "hoverlabel": {
           "align": "left"
          },
          "hovermode": "closest",
          "mapbox": {
           "style": "light"
          },
          "paper_bgcolor": "white",
          "plot_bgcolor": "#E5ECF6",
          "polar": {
           "angularaxis": {
            "gridcolor": "white",
            "linecolor": "white",
            "ticks": ""
           },
           "bgcolor": "#E5ECF6",
           "radialaxis": {
            "gridcolor": "white",
            "linecolor": "white",
            "ticks": ""
           }
          },
          "scene": {
           "xaxis": {
            "backgroundcolor": "#E5ECF6",
            "gridcolor": "white",
            "gridwidth": 2,
            "linecolor": "white",
            "showbackground": true,
            "ticks": "",
            "zerolinecolor": "white"
           },
           "yaxis": {
            "backgroundcolor": "#E5ECF6",
            "gridcolor": "white",
            "gridwidth": 2,
            "linecolor": "white",
            "showbackground": true,
            "ticks": "",
            "zerolinecolor": "white"
           },
           "zaxis": {
            "backgroundcolor": "#E5ECF6",
            "gridcolor": "white",
            "gridwidth": 2,
            "linecolor": "white",
            "showbackground": true,
            "ticks": "",
            "zerolinecolor": "white"
           }
          },
          "shapedefaults": {
           "line": {
            "color": "#2a3f5f"
           }
          },
          "ternary": {
           "aaxis": {
            "gridcolor": "white",
            "linecolor": "white",
            "ticks": ""
           },
           "baxis": {
            "gridcolor": "white",
            "linecolor": "white",
            "ticks": ""
           },
           "bgcolor": "#E5ECF6",
           "caxis": {
            "gridcolor": "white",
            "linecolor": "white",
            "ticks": ""
           }
          },
          "title": {
           "x": 0.05
          },
          "xaxis": {
           "automargin": true,
           "gridcolor": "white",
           "linecolor": "white",
           "ticks": "",
           "title": {
            "standoff": 15
           },
           "zerolinecolor": "white",
           "zerolinewidth": 2
          },
          "yaxis": {
           "automargin": true,
           "gridcolor": "white",
           "linecolor": "white",
           "ticks": "",
           "title": {
            "standoff": 15
           },
           "zerolinecolor": "white",
           "zerolinewidth": 2
          }
         }
        },
        "title": {
         "text": "Crime Rate Volatility (Standard Deviation)<br><sup>Top 5 vs Bottom 5 Municipalities</sup>",
         "x": 0.5
        },
        "xaxis": {
         "anchor": "y",
         "domain": [
          0,
          1
         ],
         "tickangle": -30,
         "title": {
          "text": "Municipality"
         }
        },
        "yaxis": {
         "anchor": "x",
         "domain": [
          0,
          1
         ],
         "title": {
          "text": "Standard Deviation per 10,000 Residents"
         }
        }
       }
      }
     },
     "metadata": {},
     "output_type": "display_data"
    }
   ],
   "source": [
    "# top5[\"Municipality\"] and bottom5[\"Municipality\"]\n",
    "selected_munis = top5[\"Municipality\"].tolist() + bottom5[\"Municipality\"].tolist()\n",
    "\n",
    "# Filter to relevant municipalities\n",
    "subset = df_period[df_period[\"Municipality\"].isin(selected_munis)]\n",
    "\n",
    "# Compute volatility (standard deviation of crime rate)\n",
    "volatility = (\n",
    "    subset\n",
    "    .groupby(\"Municipality\")[\"Crime_rate_per_10000\"]\n",
    "    .std()\n",
    "    .reset_index()\n",
    "    .rename(columns={\"Crime_rate_per_10000\": \"CrimeRateVolatility\"})\n",
    ")\n",
    "\n",
    "# Format\n",
    "volatility[\"Municipality\"] = volatility[\"Municipality\"].str.title()\n",
    "volatility[\"Group\"] = volatility[\"Municipality\"].str.lower().apply(\n",
    "    lambda m: \"Top 5\" if m in top5[\"Municipality\"].str.lower().tolist() else \"Bottom 5\"\n",
    ")\n",
    "\n",
    "volatility = volatility.sort_values(\"CrimeRateVolatility\", ascending=False)\n",
    "\n",
    "# Plot\n",
    "fig = px.bar(\n",
    "    volatility,\n",
    "    x=\"Municipality\",\n",
    "    y=\"CrimeRateVolatility\",\n",
    "    color=\"Group\",\n",
    "    color_discrete_map={\"Top 5\": \"#D62728\", \"Bottom 5\": \"#2CA02C\"},\n",
    "    title=\"Crime Rate Volatility (Standard Deviation)<br><sup>Top 5 vs Bottom 5 Municipalities</sup>\",\n",
    "    text=\"CrimeRateVolatility\"\n",
    ")\n",
    "\n",
    "fig.update_traces(texttemplate='%{text:.2f}', textposition='outside')\n",
    "fig.update_layout(\n",
    "    title_x=0.5,\n",
    "    yaxis_title=\"Standard Deviation per 10,000 Residents\",\n",
    "    font=dict(family=\"Arial\", size=14),\n",
    "    xaxis_tickangle=-30,\n",
    "    height=500,\n",
    "    plot_bgcolor=\"white\"\n",
    ")\n",
    "\n",
    "# Save to HTML\n",
    "fig.write_html(r\"C:\\Users\\Baxe\\Documents\\SocialDataanalyseVisulisation\\signedue.github.io\\crime_volatility_top_bottom.html\")\n",
    "fig.show()\n"
   ]
  },
  {
   "cell_type": "markdown",
   "id": "2e26caf3",
   "metadata": {},
   "source": [
    "## Specific offences done by the top and bottom 5"
   ]
  },
  {
   "cell_type": "markdown",
   "id": "3a92f993",
   "metadata": {},
   "source": [
    "#### Preparing the dataset\n",
    "Only the 5 bottom and top municipalities and copenhagen were fetched. \n",
    "The totals of each offence type were extracted to get a total picture of the crime rate and which yype of crime was comitted."
   ]
  },
  {
   "cell_type": "code",
   "execution_count": null,
   "id": "5acf352a",
   "metadata": {},
   "outputs": [
    {
     "name": "stdout",
     "output_type": "stream",
     "text": [
      "       Group Municipality                              Offence  Total\n",
      "0   Bottom 5  Christiansø  Andre straffelovsforbrydelser i alt      0\n",
      "1   Bottom 5  Christiansø           Ejendomsforbrydelser i alt      0\n",
      "2   Bottom 5  Christiansø                    Færdselslov i alt      0\n",
      "3   Bottom 5  Christiansø            Seksualforbrydelser i alt      0\n",
      "4   Bottom 5  Christiansø                        Særlove i alt      0\n",
      "5   Bottom 5  Christiansø              Voldsforbrydelser i alt      0\n",
      "11  Bottom 5         Fanø              Voldsforbrydelser i alt     22\n",
      "7   Bottom 5         Fanø           Ejendomsforbrydelser i alt     12\n",
      "8   Bottom 5         Fanø                    Færdselslov i alt      8\n",
      "9   Bottom 5         Fanø            Seksualforbrydelser i alt      6\n"
     ]
    }
   ],
   "source": [
    "\n",
    "# Load the data\n",
    "df = pd.read_excel(r\"C:/Users/Baxe/Documents/SocialDataanalyseVisulisation/Assignment3/topBottomOffenceGender.xlsx\")\n",
    "\n",
    "# Strip column names\n",
    "df.columns = df.columns.str.strip()\n",
    "\n",
    "# Sum across all years\n",
    "df['Total'] = df.loc[:, '2007':'2024'].sum(axis=1)\n",
    "\n",
    "# Define top and bottom municipalities\n",
    "top_munis = ['lolland', 'brøndby', 'guldborgsund', 'ishøj', 'odense']\n",
    "bottom_munis = ['odder', 'skanderborg', 'hørsholm', 'fanø', 'christiansø']\n",
    "\n",
    "# Assign group\n",
    "df['Group'] = df['Municipality'].fillna('').str.lower().apply(\n",
    "    lambda m: 'Top 5' if m in top_munis else 'Bottom 5' if m in bottom_munis else 'Other'\n",
    ")\n",
    "\n",
    "# Filter only Top 5 and Bottom 5 rows\n",
    "df_filtered = df[df['Group'].isin(['Top 5', 'Bottom 5'])]\n",
    "\n",
    "# Final summarized DataFrame\n",
    "crime_by_muni = (\n",
    "    df_filtered.groupby(['Group', 'Municipality', 'Offence'])['Total']\n",
    "    .sum()\n",
    "    .reset_index()\n",
    "    .sort_values(['Group', 'Municipality', 'Total'], ascending=[True, True, False])\n",
    ")\n",
    "\n",
    "print(crime_by_muni.head(10))\n"
   ]
  },
  {
   "cell_type": "markdown",
   "id": "fa099242",
   "metadata": {},
   "source": [
    "### Including population data"
   ]
  },
  {
   "cell_type": "code",
   "execution_count": 106,
   "id": "d7494d52",
   "metadata": {},
   "outputs": [
    {
     "name": "stdout",
     "output_type": "stream",
     "text": [
      "      Group Municipality                              Offence  Total  \\\n",
      "0  Bottom 5  christiansø  Andre straffelovsforbrydelser i alt      0   \n",
      "1  Bottom 5  christiansø           Ejendomsforbrydelser i alt      0   \n",
      "2  Bottom 5  christiansø                    Færdselslov i alt      0   \n",
      "3  Bottom 5  christiansø            Seksualforbrydelser i alt      0   \n",
      "4  Bottom 5  christiansø                        Særlove i alt      0   \n",
      "5  Bottom 5  christiansø              Voldsforbrydelser i alt      0   \n",
      "6  Bottom 5         fanø              Voldsforbrydelser i alt     22   \n",
      "7  Bottom 5         fanø           Ejendomsforbrydelser i alt     12   \n",
      "8  Bottom 5         fanø                    Færdselslov i alt      8   \n",
      "9  Bottom 5         fanø            Seksualforbrydelser i alt      6   \n",
      "\n",
      "   TotalPopulation  CrimePer10k  \n",
      "0             1556     0.000000  \n",
      "1             1556     0.000000  \n",
      "2             1556     0.000000  \n",
      "3             1556     0.000000  \n",
      "4             1556     0.000000  \n",
      "5             1556     0.000000  \n",
      "6            56440     3.897945  \n",
      "7            56440     2.126152  \n",
      "8            56440     1.417434  \n",
      "9            56440     1.063076  \n"
     ]
    }
   ],
   "source": [
    "# First, ensure municipality names in df_pop match (lowercase)\n",
    "df_pop['Municipality'] = df_pop['Municipality'].str.lower()\n",
    "\n",
    "# Filter population for only the municipalities of interest\n",
    "relevant_munis = top_munis + bottom_munis\n",
    "df_pop_filtered = df_pop[df_pop['Municipality'].isin(relevant_munis)]\n",
    "\n",
    "# Sum population from 2007 to 2024 for each municipality\n",
    "pop_total = (\n",
    "    df_pop_filtered[df_pop_filtered['Year'].between(2007, 2024)]\n",
    "    .groupby(\"Municipality\")[\"Population\"]\n",
    "    .sum()\n",
    "    .reset_index()\n",
    "    .rename(columns={\"Population\": \"TotalPopulation\"})\n",
    ")\n",
    "\n",
    "# Merge with crime data\n",
    "crime_pop_offence = crime_by_muni.copy()\n",
    "crime_pop_offence['Municipality'] = crime_pop_offence['Municipality'].str.lower()  # ensure match\n",
    "crime_pop_offence = crime_pop_offence.merge(pop_total, on=\"Municipality\", how=\"left\")\n",
    "\n",
    "# Calculate normalized crime rate\n",
    "crime_pop_offence[\"CrimePer10k\"] = crime_pop_offence[\"Total\"] / crime_pop_offence[\"TotalPopulation\"] * 10000\n",
    "\n",
    "# Final sorting (optional)\n",
    "crime_pop_offence = crime_pop_offence.sort_values([\"Group\", \"Municipality\", \"CrimePer10k\"], ascending=[True, True, False])\n",
    "\n",
    "# View result\n",
    "print(crime_pop_offence.head(10))\n"
   ]
  },
  {
   "cell_type": "markdown",
   "id": "ad5bf20f",
   "metadata": {},
   "source": [
    "### Plotting the 5 bottom and top municipalities"
   ]
  },
  {
   "cell_type": "code",
   "execution_count": 114,
   "id": "e2fe2110",
   "metadata": {},
   "outputs": [
    {
     "data": {
      "application/vnd.plotly.v1+json": {
       "config": {
        "plotlyServerURL": "https://plot.ly"
       },
       "data": [
        {
         "alignmentgroup": "True",
         "hovertemplate": "Municipality=Brøndby<br>Offence=%{x}<br>CrimePer10k=%{y}<extra></extra>",
         "legendgroup": "Brøndby",
         "marker": {
          "color": "#d62728",
          "pattern": {
           "shape": ""
          }
         },
         "name": "Brøndby",
         "offsetgroup": "Brøndby",
         "orientation": "v",
         "showlegend": true,
         "textposition": "auto",
         "type": "bar",
         "x": [
          "Crimes of violence, total",
          "Offences against property, total",
          "Andre straffelovsforbrydelser i alt",
          "Special acts, total",
          "The Road Traffic Act, total",
          "Sexual offenses, total"
         ],
         "xaxis": "x",
         "y": [
          15.46826661666823,
          12.622373407973859,
          8.872490591811863,
          6.060078479690366,
          4.218618168182244,
          1.2722816697692483
         ],
         "yaxis": "y"
        },
        {
         "alignmentgroup": "True",
         "hovertemplate": "Municipality=Guldborgsund<br>Offence=%{x}<br>CrimePer10k=%{y}<extra></extra>",
         "legendgroup": "Guldborgsund",
         "marker": {
          "color": "#2ca02c",
          "pattern": {
           "shape": ""
          }
         },
         "name": "Guldborgsund",
         "offsetgroup": "Guldborgsund",
         "orientation": "v",
         "showlegend": true,
         "textposition": "auto",
         "type": "bar",
         "x": [
          "Crimes of violence, total",
          "Offences against property, total",
          "The Road Traffic Act, total",
          "Andre straffelovsforbrydelser i alt",
          "Special acts, total",
          "Sexual offenses, total"
         ],
         "xaxis": "x",
         "y": [
          17.564582438485612,
          11.313431919985273,
          7.13321470209241,
          5.215683868196601,
          3.106399950911211,
          1.4573234337608147
         ],
         "yaxis": "y"
        },
        {
         "alignmentgroup": "True",
         "hovertemplate": "Municipality=Ishøj<br>Offence=%{x}<br>CrimePer10k=%{y}<extra></extra>",
         "legendgroup": "Ishøj",
         "marker": {
          "color": "#9467bd",
          "pattern": {
           "shape": ""
          }
         },
         "name": "Ishøj",
         "offsetgroup": "Ishøj",
         "orientation": "v",
         "showlegend": true,
         "textposition": "auto",
         "type": "bar",
         "x": [
          "Crimes of violence, total",
          "Offences against property, total",
          "Andre straffelovsforbrydelser i alt",
          "Special acts, total",
          "The Road Traffic Act, total",
          "Sexual offenses, total"
         ],
         "xaxis": "x",
         "y": [
          15.261411494448462,
          11.592291657804058,
          8.135874420385417,
          4.413578933934573,
          3.084187688773557,
          1.169864295741694
         ],
         "yaxis": "y"
        },
        {
         "alignmentgroup": "True",
         "hovertemplate": "Municipality=Lolland<br>Offence=%{x}<br>CrimePer10k=%{y}<extra></extra>",
         "legendgroup": "Lolland",
         "marker": {
          "color": "#1f77b4",
          "pattern": {
           "shape": ""
          }
         },
         "name": "Lolland",
         "offsetgroup": "Lolland",
         "orientation": "v",
         "showlegend": true,
         "textposition": "auto",
         "type": "bar",
         "x": [
          "Crimes of violence, total",
          "Offences against property, total",
          "The Road Traffic Act, total",
          "Andre straffelovsforbrydelser i alt",
          "Special acts, total",
          "Sexual offenses, total"
         ],
         "xaxis": "x",
         "y": [
          19.697357180557294,
          14.038447935314313,
          7.998650567795366,
          6.692748434277754,
          3.564024572725146,
          1.713996550241864
         ],
         "yaxis": "y"
        },
        {
         "alignmentgroup": "True",
         "hovertemplate": "Municipality=Odense<br>Offence=%{x}<br>CrimePer10k=%{y}<extra></extra>",
         "legendgroup": "Odense",
         "marker": {
          "color": "#ff7f0e",
          "pattern": {
           "shape": ""
          }
         },
         "name": "Odense",
         "offsetgroup": "Odense",
         "orientation": "v",
         "showlegend": true,
         "textposition": "auto",
         "type": "bar",
         "x": [
          "Offences against property, total",
          "Crimes of violence, total",
          "Andre straffelovsforbrydelser i alt",
          "The Road Traffic Act, total",
          "Special acts, total",
          "Sexual offenses, total"
         ],
         "xaxis": "x",
         "y": [
          13.596616506897524,
          12.671192346742197,
          5.333053333202825,
          4.698307274634747,
          4.455086822286231,
          1.044068283252166
         ],
         "yaxis": "y"
        }
       ],
       "layout": {
        "bargap": 0.3,
        "barmode": "group",
        "font": {
         "family": "Arial",
         "size": 13
        },
        "height": 500,
        "legend": {
         "title": {
          "text": "Municipality"
         },
         "tracegroupgap": 0
        },
        "plot_bgcolor": "white",
        "template": {
         "data": {
          "bar": [
           {
            "error_x": {
             "color": "#2a3f5f"
            },
            "error_y": {
             "color": "#2a3f5f"
            },
            "marker": {
             "line": {
              "color": "#E5ECF6",
              "width": 0.5
             },
             "pattern": {
              "fillmode": "overlay",
              "size": 10,
              "solidity": 0.2
             }
            },
            "type": "bar"
           }
          ],
          "barpolar": [
           {
            "marker": {
             "line": {
              "color": "#E5ECF6",
              "width": 0.5
             },
             "pattern": {
              "fillmode": "overlay",
              "size": 10,
              "solidity": 0.2
             }
            },
            "type": "barpolar"
           }
          ],
          "carpet": [
           {
            "aaxis": {
             "endlinecolor": "#2a3f5f",
             "gridcolor": "white",
             "linecolor": "white",
             "minorgridcolor": "white",
             "startlinecolor": "#2a3f5f"
            },
            "baxis": {
             "endlinecolor": "#2a3f5f",
             "gridcolor": "white",
             "linecolor": "white",
             "minorgridcolor": "white",
             "startlinecolor": "#2a3f5f"
            },
            "type": "carpet"
           }
          ],
          "choropleth": [
           {
            "colorbar": {
             "outlinewidth": 0,
             "ticks": ""
            },
            "type": "choropleth"
           }
          ],
          "contour": [
           {
            "colorbar": {
             "outlinewidth": 0,
             "ticks": ""
            },
            "colorscale": [
             [
              0,
              "#0d0887"
             ],
             [
              0.1111111111111111,
              "#46039f"
             ],
             [
              0.2222222222222222,
              "#7201a8"
             ],
             [
              0.3333333333333333,
              "#9c179e"
             ],
             [
              0.4444444444444444,
              "#bd3786"
             ],
             [
              0.5555555555555556,
              "#d8576b"
             ],
             [
              0.6666666666666666,
              "#ed7953"
             ],
             [
              0.7777777777777778,
              "#fb9f3a"
             ],
             [
              0.8888888888888888,
              "#fdca26"
             ],
             [
              1,
              "#f0f921"
             ]
            ],
            "type": "contour"
           }
          ],
          "contourcarpet": [
           {
            "colorbar": {
             "outlinewidth": 0,
             "ticks": ""
            },
            "type": "contourcarpet"
           }
          ],
          "heatmap": [
           {
            "colorbar": {
             "outlinewidth": 0,
             "ticks": ""
            },
            "colorscale": [
             [
              0,
              "#0d0887"
             ],
             [
              0.1111111111111111,
              "#46039f"
             ],
             [
              0.2222222222222222,
              "#7201a8"
             ],
             [
              0.3333333333333333,
              "#9c179e"
             ],
             [
              0.4444444444444444,
              "#bd3786"
             ],
             [
              0.5555555555555556,
              "#d8576b"
             ],
             [
              0.6666666666666666,
              "#ed7953"
             ],
             [
              0.7777777777777778,
              "#fb9f3a"
             ],
             [
              0.8888888888888888,
              "#fdca26"
             ],
             [
              1,
              "#f0f921"
             ]
            ],
            "type": "heatmap"
           }
          ],
          "heatmapgl": [
           {
            "colorbar": {
             "outlinewidth": 0,
             "ticks": ""
            },
            "colorscale": [
             [
              0,
              "#0d0887"
             ],
             [
              0.1111111111111111,
              "#46039f"
             ],
             [
              0.2222222222222222,
              "#7201a8"
             ],
             [
              0.3333333333333333,
              "#9c179e"
             ],
             [
              0.4444444444444444,
              "#bd3786"
             ],
             [
              0.5555555555555556,
              "#d8576b"
             ],
             [
              0.6666666666666666,
              "#ed7953"
             ],
             [
              0.7777777777777778,
              "#fb9f3a"
             ],
             [
              0.8888888888888888,
              "#fdca26"
             ],
             [
              1,
              "#f0f921"
             ]
            ],
            "type": "heatmapgl"
           }
          ],
          "histogram": [
           {
            "marker": {
             "pattern": {
              "fillmode": "overlay",
              "size": 10,
              "solidity": 0.2
             }
            },
            "type": "histogram"
           }
          ],
          "histogram2d": [
           {
            "colorbar": {
             "outlinewidth": 0,
             "ticks": ""
            },
            "colorscale": [
             [
              0,
              "#0d0887"
             ],
             [
              0.1111111111111111,
              "#46039f"
             ],
             [
              0.2222222222222222,
              "#7201a8"
             ],
             [
              0.3333333333333333,
              "#9c179e"
             ],
             [
              0.4444444444444444,
              "#bd3786"
             ],
             [
              0.5555555555555556,
              "#d8576b"
             ],
             [
              0.6666666666666666,
              "#ed7953"
             ],
             [
              0.7777777777777778,
              "#fb9f3a"
             ],
             [
              0.8888888888888888,
              "#fdca26"
             ],
             [
              1,
              "#f0f921"
             ]
            ],
            "type": "histogram2d"
           }
          ],
          "histogram2dcontour": [
           {
            "colorbar": {
             "outlinewidth": 0,
             "ticks": ""
            },
            "colorscale": [
             [
              0,
              "#0d0887"
             ],
             [
              0.1111111111111111,
              "#46039f"
             ],
             [
              0.2222222222222222,
              "#7201a8"
             ],
             [
              0.3333333333333333,
              "#9c179e"
             ],
             [
              0.4444444444444444,
              "#bd3786"
             ],
             [
              0.5555555555555556,
              "#d8576b"
             ],
             [
              0.6666666666666666,
              "#ed7953"
             ],
             [
              0.7777777777777778,
              "#fb9f3a"
             ],
             [
              0.8888888888888888,
              "#fdca26"
             ],
             [
              1,
              "#f0f921"
             ]
            ],
            "type": "histogram2dcontour"
           }
          ],
          "mesh3d": [
           {
            "colorbar": {
             "outlinewidth": 0,
             "ticks": ""
            },
            "type": "mesh3d"
           }
          ],
          "parcoords": [
           {
            "line": {
             "colorbar": {
              "outlinewidth": 0,
              "ticks": ""
             }
            },
            "type": "parcoords"
           }
          ],
          "pie": [
           {
            "automargin": true,
            "type": "pie"
           }
          ],
          "scatter": [
           {
            "fillpattern": {
             "fillmode": "overlay",
             "size": 10,
             "solidity": 0.2
            },
            "type": "scatter"
           }
          ],
          "scatter3d": [
           {
            "line": {
             "colorbar": {
              "outlinewidth": 0,
              "ticks": ""
             }
            },
            "marker": {
             "colorbar": {
              "outlinewidth": 0,
              "ticks": ""
             }
            },
            "type": "scatter3d"
           }
          ],
          "scattercarpet": [
           {
            "marker": {
             "colorbar": {
              "outlinewidth": 0,
              "ticks": ""
             }
            },
            "type": "scattercarpet"
           }
          ],
          "scattergeo": [
           {
            "marker": {
             "colorbar": {
              "outlinewidth": 0,
              "ticks": ""
             }
            },
            "type": "scattergeo"
           }
          ],
          "scattergl": [
           {
            "marker": {
             "colorbar": {
              "outlinewidth": 0,
              "ticks": ""
             }
            },
            "type": "scattergl"
           }
          ],
          "scattermapbox": [
           {
            "marker": {
             "colorbar": {
              "outlinewidth": 0,
              "ticks": ""
             }
            },
            "type": "scattermapbox"
           }
          ],
          "scatterpolar": [
           {
            "marker": {
             "colorbar": {
              "outlinewidth": 0,
              "ticks": ""
             }
            },
            "type": "scatterpolar"
           }
          ],
          "scatterpolargl": [
           {
            "marker": {
             "colorbar": {
              "outlinewidth": 0,
              "ticks": ""
             }
            },
            "type": "scatterpolargl"
           }
          ],
          "scatterternary": [
           {
            "marker": {
             "colorbar": {
              "outlinewidth": 0,
              "ticks": ""
             }
            },
            "type": "scatterternary"
           }
          ],
          "surface": [
           {
            "colorbar": {
             "outlinewidth": 0,
             "ticks": ""
            },
            "colorscale": [
             [
              0,
              "#0d0887"
             ],
             [
              0.1111111111111111,
              "#46039f"
             ],
             [
              0.2222222222222222,
              "#7201a8"
             ],
             [
              0.3333333333333333,
              "#9c179e"
             ],
             [
              0.4444444444444444,
              "#bd3786"
             ],
             [
              0.5555555555555556,
              "#d8576b"
             ],
             [
              0.6666666666666666,
              "#ed7953"
             ],
             [
              0.7777777777777778,
              "#fb9f3a"
             ],
             [
              0.8888888888888888,
              "#fdca26"
             ],
             [
              1,
              "#f0f921"
             ]
            ],
            "type": "surface"
           }
          ],
          "table": [
           {
            "cells": {
             "fill": {
              "color": "#EBF0F8"
             },
             "line": {
              "color": "white"
             }
            },
            "header": {
             "fill": {
              "color": "#C8D4E3"
             },
             "line": {
              "color": "white"
             }
            },
            "type": "table"
           }
          ]
         },
         "layout": {
          "annotationdefaults": {
           "arrowcolor": "#2a3f5f",
           "arrowhead": 0,
           "arrowwidth": 1
          },
          "autotypenumbers": "strict",
          "coloraxis": {
           "colorbar": {
            "outlinewidth": 0,
            "ticks": ""
           }
          },
          "colorscale": {
           "diverging": [
            [
             0,
             "#8e0152"
            ],
            [
             0.1,
             "#c51b7d"
            ],
            [
             0.2,
             "#de77ae"
            ],
            [
             0.3,
             "#f1b6da"
            ],
            [
             0.4,
             "#fde0ef"
            ],
            [
             0.5,
             "#f7f7f7"
            ],
            [
             0.6,
             "#e6f5d0"
            ],
            [
             0.7,
             "#b8e186"
            ],
            [
             0.8,
             "#7fbc41"
            ],
            [
             0.9,
             "#4d9221"
            ],
            [
             1,
             "#276419"
            ]
           ],
           "sequential": [
            [
             0,
             "#0d0887"
            ],
            [
             0.1111111111111111,
             "#46039f"
            ],
            [
             0.2222222222222222,
             "#7201a8"
            ],
            [
             0.3333333333333333,
             "#9c179e"
            ],
            [
             0.4444444444444444,
             "#bd3786"
            ],
            [
             0.5555555555555556,
             "#d8576b"
            ],
            [
             0.6666666666666666,
             "#ed7953"
            ],
            [
             0.7777777777777778,
             "#fb9f3a"
            ],
            [
             0.8888888888888888,
             "#fdca26"
            ],
            [
             1,
             "#f0f921"
            ]
           ],
           "sequentialminus": [
            [
             0,
             "#0d0887"
            ],
            [
             0.1111111111111111,
             "#46039f"
            ],
            [
             0.2222222222222222,
             "#7201a8"
            ],
            [
             0.3333333333333333,
             "#9c179e"
            ],
            [
             0.4444444444444444,
             "#bd3786"
            ],
            [
             0.5555555555555556,
             "#d8576b"
            ],
            [
             0.6666666666666666,
             "#ed7953"
            ],
            [
             0.7777777777777778,
             "#fb9f3a"
            ],
            [
             0.8888888888888888,
             "#fdca26"
            ],
            [
             1,
             "#f0f921"
            ]
           ]
          },
          "colorway": [
           "#636efa",
           "#EF553B",
           "#00cc96",
           "#ab63fa",
           "#FFA15A",
           "#19d3f3",
           "#FF6692",
           "#B6E880",
           "#FF97FF",
           "#FECB52"
          ],
          "font": {
           "color": "#2a3f5f"
          },
          "geo": {
           "bgcolor": "white",
           "lakecolor": "white",
           "landcolor": "#E5ECF6",
           "showlakes": true,
           "showland": true,
           "subunitcolor": "white"
          },
          "hoverlabel": {
           "align": "left"
          },
          "hovermode": "closest",
          "mapbox": {
           "style": "light"
          },
          "paper_bgcolor": "white",
          "plot_bgcolor": "#E5ECF6",
          "polar": {
           "angularaxis": {
            "gridcolor": "white",
            "linecolor": "white",
            "ticks": ""
           },
           "bgcolor": "#E5ECF6",
           "radialaxis": {
            "gridcolor": "white",
            "linecolor": "white",
            "ticks": ""
           }
          },
          "scene": {
           "xaxis": {
            "backgroundcolor": "#E5ECF6",
            "gridcolor": "white",
            "gridwidth": 2,
            "linecolor": "white",
            "showbackground": true,
            "ticks": "",
            "zerolinecolor": "white"
           },
           "yaxis": {
            "backgroundcolor": "#E5ECF6",
            "gridcolor": "white",
            "gridwidth": 2,
            "linecolor": "white",
            "showbackground": true,
            "ticks": "",
            "zerolinecolor": "white"
           },
           "zaxis": {
            "backgroundcolor": "#E5ECF6",
            "gridcolor": "white",
            "gridwidth": 2,
            "linecolor": "white",
            "showbackground": true,
            "ticks": "",
            "zerolinecolor": "white"
           }
          },
          "shapedefaults": {
           "line": {
            "color": "#2a3f5f"
           }
          },
          "ternary": {
           "aaxis": {
            "gridcolor": "white",
            "linecolor": "white",
            "ticks": ""
           },
           "baxis": {
            "gridcolor": "white",
            "linecolor": "white",
            "ticks": ""
           },
           "bgcolor": "#E5ECF6",
           "caxis": {
            "gridcolor": "white",
            "linecolor": "white",
            "ticks": ""
           }
          },
          "title": {
           "x": 0.05
          },
          "xaxis": {
           "automargin": true,
           "gridcolor": "white",
           "linecolor": "white",
           "ticks": "",
           "title": {
            "standoff": 15
           },
           "zerolinecolor": "white",
           "zerolinewidth": 2
          },
          "yaxis": {
           "automargin": true,
           "gridcolor": "white",
           "linecolor": "white",
           "ticks": "",
           "title": {
            "standoff": 15
           },
           "zerolinecolor": "white",
           "zerolinewidth": 2
          }
         }
        },
        "title": {
         "text": "Crime per 10,000 Residents by Type – Top 5 Municipalities"
        },
        "xaxis": {
         "anchor": "y",
         "domain": [
          0,
          1
         ],
         "tickangle": -45,
         "title": {
          "text": "Type of Crime"
         }
        },
        "yaxis": {
         "anchor": "x",
         "domain": [
          0,
          1
         ],
         "title": {
          "text": "Crimes per 10,000 Residents (2007–2024)"
         }
        }
       }
      }
     },
     "metadata": {},
     "output_type": "display_data"
    },
    {
     "data": {
      "application/vnd.plotly.v1+json": {
       "config": {
        "plotlyServerURL": "https://plot.ly"
       },
       "data": [
        {
         "alignmentgroup": "True",
         "hovertemplate": "Municipality=Christiansø<br>Offence=%{x}<br>CrimePer10k=%{y}<extra></extra>",
         "legendgroup": "Christiansø",
         "marker": {
          "color": "#ff7f0e",
          "pattern": {
           "shape": ""
          }
         },
         "name": "Christiansø",
         "offsetgroup": "Christiansø",
         "orientation": "v",
         "showlegend": true,
         "textposition": "auto",
         "type": "bar",
         "x": [
          "Andre straffelovsforbrydelser i alt",
          "Offences against property, total",
          "The Road Traffic Act, total",
          "Sexual offenses, total",
          "Special acts, total",
          "Crimes of violence, total"
         ],
         "xaxis": "x",
         "y": [
          0,
          0,
          0,
          0,
          0,
          0
         ],
         "yaxis": "y"
        },
        {
         "alignmentgroup": "True",
         "hovertemplate": "Municipality=Fanø<br>Offence=%{x}<br>CrimePer10k=%{y}<extra></extra>",
         "legendgroup": "Fanø",
         "marker": {
          "color": "#9467bd",
          "pattern": {
           "shape": ""
          }
         },
         "name": "Fanø",
         "offsetgroup": "Fanø",
         "orientation": "v",
         "showlegend": true,
         "textposition": "auto",
         "type": "bar",
         "x": [
          "Crimes of violence, total",
          "Offences against property, total",
          "The Road Traffic Act, total",
          "Sexual offenses, total",
          "Andre straffelovsforbrydelser i alt",
          "Special acts, total"
         ],
         "xaxis": "x",
         "y": [
          3.8979447200566972,
          2.1261516654854713,
          1.4174344436569808,
          1.0630758327427356,
          0.7087172218284904,
          0.3543586109142452
         ],
         "yaxis": "y"
        },
        {
         "alignmentgroup": "True",
         "hovertemplate": "Municipality=Hørsholm<br>Offence=%{x}<br>CrimePer10k=%{y}<extra></extra>",
         "legendgroup": "Hørsholm",
         "marker": {
          "color": "#2ca02c",
          "pattern": {
           "shape": ""
          }
         },
         "name": "Hørsholm",
         "offsetgroup": "Hørsholm",
         "orientation": "v",
         "showlegend": true,
         "textposition": "auto",
         "type": "bar",
         "x": [
          "Crimes of violence, total",
          "Offences against property, total",
          "Andre straffelovsforbrydelser i alt",
          "The Road Traffic Act, total",
          "Special acts, total",
          "Sexual offenses, total"
         ],
         "xaxis": "x",
         "y": [
          3.334778403975056,
          2.5249036487239707,
          1.476830436046096,
          0.7145953722803692,
          0.7145953722803692,
          0.47639691485357943
         ],
         "yaxis": "y"
        },
        {
         "alignmentgroup": "True",
         "hovertemplate": "Municipality=Odder<br>Offence=%{x}<br>CrimePer10k=%{y}<extra></extra>",
         "legendgroup": "Odder",
         "marker": {
          "color": "#1f77b4",
          "pattern": {
           "shape": ""
          }
         },
         "name": "Odder",
         "offsetgroup": "Odder",
         "orientation": "v",
         "showlegend": true,
         "textposition": "auto",
         "type": "bar",
         "x": [
          "Crimes of violence, total",
          "Offences against property, total",
          "Andre straffelovsforbrydelser i alt",
          "The Road Traffic Act, total",
          "Special acts, total",
          "Sexual offenses, total"
         ],
         "xaxis": "x",
         "y": [
          3.154657062488499,
          2.365992796866374,
          1.5247509135361077,
          1.472173295827966,
          0.7886642656221248,
          0.5257761770814164
         ],
         "yaxis": "y"
        },
        {
         "alignmentgroup": "True",
         "hovertemplate": "Municipality=Skanderborg<br>Offence=%{x}<br>CrimePer10k=%{y}<extra></extra>",
         "legendgroup": "Skanderborg",
         "marker": {
          "color": "#d62728",
          "pattern": {
           "shape": ""
          }
         },
         "name": "Skanderborg",
         "offsetgroup": "Skanderborg",
         "orientation": "v",
         "showlegend": true,
         "textposition": "auto",
         "type": "bar",
         "x": [
          "Crimes of violence, total",
          "The Road Traffic Act, total",
          "Offences against property, total",
          "Andre straffelovsforbrydelser i alt",
          "Special acts, total",
          "Sexual offenses, total"
         ],
         "xaxis": "x",
         "y": [
          3.5334205951568713,
          2.2840343073665963,
          1.8545577709386893,
          1.3274729307771669,
          0.5270848401615222,
          0.429476536427907
         ],
         "yaxis": "y"
        }
       ],
       "layout": {
        "bargap": 0.3,
        "barmode": "group",
        "font": {
         "family": "Arial",
         "size": 13
        },
        "height": 500,
        "legend": {
         "title": {
          "text": "Municipality"
         },
         "tracegroupgap": 0
        },
        "plot_bgcolor": "white",
        "template": {
         "data": {
          "bar": [
           {
            "error_x": {
             "color": "#2a3f5f"
            },
            "error_y": {
             "color": "#2a3f5f"
            },
            "marker": {
             "line": {
              "color": "#E5ECF6",
              "width": 0.5
             },
             "pattern": {
              "fillmode": "overlay",
              "size": 10,
              "solidity": 0.2
             }
            },
            "type": "bar"
           }
          ],
          "barpolar": [
           {
            "marker": {
             "line": {
              "color": "#E5ECF6",
              "width": 0.5
             },
             "pattern": {
              "fillmode": "overlay",
              "size": 10,
              "solidity": 0.2
             }
            },
            "type": "barpolar"
           }
          ],
          "carpet": [
           {
            "aaxis": {
             "endlinecolor": "#2a3f5f",
             "gridcolor": "white",
             "linecolor": "white",
             "minorgridcolor": "white",
             "startlinecolor": "#2a3f5f"
            },
            "baxis": {
             "endlinecolor": "#2a3f5f",
             "gridcolor": "white",
             "linecolor": "white",
             "minorgridcolor": "white",
             "startlinecolor": "#2a3f5f"
            },
            "type": "carpet"
           }
          ],
          "choropleth": [
           {
            "colorbar": {
             "outlinewidth": 0,
             "ticks": ""
            },
            "type": "choropleth"
           }
          ],
          "contour": [
           {
            "colorbar": {
             "outlinewidth": 0,
             "ticks": ""
            },
            "colorscale": [
             [
              0,
              "#0d0887"
             ],
             [
              0.1111111111111111,
              "#46039f"
             ],
             [
              0.2222222222222222,
              "#7201a8"
             ],
             [
              0.3333333333333333,
              "#9c179e"
             ],
             [
              0.4444444444444444,
              "#bd3786"
             ],
             [
              0.5555555555555556,
              "#d8576b"
             ],
             [
              0.6666666666666666,
              "#ed7953"
             ],
             [
              0.7777777777777778,
              "#fb9f3a"
             ],
             [
              0.8888888888888888,
              "#fdca26"
             ],
             [
              1,
              "#f0f921"
             ]
            ],
            "type": "contour"
           }
          ],
          "contourcarpet": [
           {
            "colorbar": {
             "outlinewidth": 0,
             "ticks": ""
            },
            "type": "contourcarpet"
           }
          ],
          "heatmap": [
           {
            "colorbar": {
             "outlinewidth": 0,
             "ticks": ""
            },
            "colorscale": [
             [
              0,
              "#0d0887"
             ],
             [
              0.1111111111111111,
              "#46039f"
             ],
             [
              0.2222222222222222,
              "#7201a8"
             ],
             [
              0.3333333333333333,
              "#9c179e"
             ],
             [
              0.4444444444444444,
              "#bd3786"
             ],
             [
              0.5555555555555556,
              "#d8576b"
             ],
             [
              0.6666666666666666,
              "#ed7953"
             ],
             [
              0.7777777777777778,
              "#fb9f3a"
             ],
             [
              0.8888888888888888,
              "#fdca26"
             ],
             [
              1,
              "#f0f921"
             ]
            ],
            "type": "heatmap"
           }
          ],
          "heatmapgl": [
           {
            "colorbar": {
             "outlinewidth": 0,
             "ticks": ""
            },
            "colorscale": [
             [
              0,
              "#0d0887"
             ],
             [
              0.1111111111111111,
              "#46039f"
             ],
             [
              0.2222222222222222,
              "#7201a8"
             ],
             [
              0.3333333333333333,
              "#9c179e"
             ],
             [
              0.4444444444444444,
              "#bd3786"
             ],
             [
              0.5555555555555556,
              "#d8576b"
             ],
             [
              0.6666666666666666,
              "#ed7953"
             ],
             [
              0.7777777777777778,
              "#fb9f3a"
             ],
             [
              0.8888888888888888,
              "#fdca26"
             ],
             [
              1,
              "#f0f921"
             ]
            ],
            "type": "heatmapgl"
           }
          ],
          "histogram": [
           {
            "marker": {
             "pattern": {
              "fillmode": "overlay",
              "size": 10,
              "solidity": 0.2
             }
            },
            "type": "histogram"
           }
          ],
          "histogram2d": [
           {
            "colorbar": {
             "outlinewidth": 0,
             "ticks": ""
            },
            "colorscale": [
             [
              0,
              "#0d0887"
             ],
             [
              0.1111111111111111,
              "#46039f"
             ],
             [
              0.2222222222222222,
              "#7201a8"
             ],
             [
              0.3333333333333333,
              "#9c179e"
             ],
             [
              0.4444444444444444,
              "#bd3786"
             ],
             [
              0.5555555555555556,
              "#d8576b"
             ],
             [
              0.6666666666666666,
              "#ed7953"
             ],
             [
              0.7777777777777778,
              "#fb9f3a"
             ],
             [
              0.8888888888888888,
              "#fdca26"
             ],
             [
              1,
              "#f0f921"
             ]
            ],
            "type": "histogram2d"
           }
          ],
          "histogram2dcontour": [
           {
            "colorbar": {
             "outlinewidth": 0,
             "ticks": ""
            },
            "colorscale": [
             [
              0,
              "#0d0887"
             ],
             [
              0.1111111111111111,
              "#46039f"
             ],
             [
              0.2222222222222222,
              "#7201a8"
             ],
             [
              0.3333333333333333,
              "#9c179e"
             ],
             [
              0.4444444444444444,
              "#bd3786"
             ],
             [
              0.5555555555555556,
              "#d8576b"
             ],
             [
              0.6666666666666666,
              "#ed7953"
             ],
             [
              0.7777777777777778,
              "#fb9f3a"
             ],
             [
              0.8888888888888888,
              "#fdca26"
             ],
             [
              1,
              "#f0f921"
             ]
            ],
            "type": "histogram2dcontour"
           }
          ],
          "mesh3d": [
           {
            "colorbar": {
             "outlinewidth": 0,
             "ticks": ""
            },
            "type": "mesh3d"
           }
          ],
          "parcoords": [
           {
            "line": {
             "colorbar": {
              "outlinewidth": 0,
              "ticks": ""
             }
            },
            "type": "parcoords"
           }
          ],
          "pie": [
           {
            "automargin": true,
            "type": "pie"
           }
          ],
          "scatter": [
           {
            "fillpattern": {
             "fillmode": "overlay",
             "size": 10,
             "solidity": 0.2
            },
            "type": "scatter"
           }
          ],
          "scatter3d": [
           {
            "line": {
             "colorbar": {
              "outlinewidth": 0,
              "ticks": ""
             }
            },
            "marker": {
             "colorbar": {
              "outlinewidth": 0,
              "ticks": ""
             }
            },
            "type": "scatter3d"
           }
          ],
          "scattercarpet": [
           {
            "marker": {
             "colorbar": {
              "outlinewidth": 0,
              "ticks": ""
             }
            },
            "type": "scattercarpet"
           }
          ],
          "scattergeo": [
           {
            "marker": {
             "colorbar": {
              "outlinewidth": 0,
              "ticks": ""
             }
            },
            "type": "scattergeo"
           }
          ],
          "scattergl": [
           {
            "marker": {
             "colorbar": {
              "outlinewidth": 0,
              "ticks": ""
             }
            },
            "type": "scattergl"
           }
          ],
          "scattermapbox": [
           {
            "marker": {
             "colorbar": {
              "outlinewidth": 0,
              "ticks": ""
             }
            },
            "type": "scattermapbox"
           }
          ],
          "scatterpolar": [
           {
            "marker": {
             "colorbar": {
              "outlinewidth": 0,
              "ticks": ""
             }
            },
            "type": "scatterpolar"
           }
          ],
          "scatterpolargl": [
           {
            "marker": {
             "colorbar": {
              "outlinewidth": 0,
              "ticks": ""
             }
            },
            "type": "scatterpolargl"
           }
          ],
          "scatterternary": [
           {
            "marker": {
             "colorbar": {
              "outlinewidth": 0,
              "ticks": ""
             }
            },
            "type": "scatterternary"
           }
          ],
          "surface": [
           {
            "colorbar": {
             "outlinewidth": 0,
             "ticks": ""
            },
            "colorscale": [
             [
              0,
              "#0d0887"
             ],
             [
              0.1111111111111111,
              "#46039f"
             ],
             [
              0.2222222222222222,
              "#7201a8"
             ],
             [
              0.3333333333333333,
              "#9c179e"
             ],
             [
              0.4444444444444444,
              "#bd3786"
             ],
             [
              0.5555555555555556,
              "#d8576b"
             ],
             [
              0.6666666666666666,
              "#ed7953"
             ],
             [
              0.7777777777777778,
              "#fb9f3a"
             ],
             [
              0.8888888888888888,
              "#fdca26"
             ],
             [
              1,
              "#f0f921"
             ]
            ],
            "type": "surface"
           }
          ],
          "table": [
           {
            "cells": {
             "fill": {
              "color": "#EBF0F8"
             },
             "line": {
              "color": "white"
             }
            },
            "header": {
             "fill": {
              "color": "#C8D4E3"
             },
             "line": {
              "color": "white"
             }
            },
            "type": "table"
           }
          ]
         },
         "layout": {
          "annotationdefaults": {
           "arrowcolor": "#2a3f5f",
           "arrowhead": 0,
           "arrowwidth": 1
          },
          "autotypenumbers": "strict",
          "coloraxis": {
           "colorbar": {
            "outlinewidth": 0,
            "ticks": ""
           }
          },
          "colorscale": {
           "diverging": [
            [
             0,
             "#8e0152"
            ],
            [
             0.1,
             "#c51b7d"
            ],
            [
             0.2,
             "#de77ae"
            ],
            [
             0.3,
             "#f1b6da"
            ],
            [
             0.4,
             "#fde0ef"
            ],
            [
             0.5,
             "#f7f7f7"
            ],
            [
             0.6,
             "#e6f5d0"
            ],
            [
             0.7,
             "#b8e186"
            ],
            [
             0.8,
             "#7fbc41"
            ],
            [
             0.9,
             "#4d9221"
            ],
            [
             1,
             "#276419"
            ]
           ],
           "sequential": [
            [
             0,
             "#0d0887"
            ],
            [
             0.1111111111111111,
             "#46039f"
            ],
            [
             0.2222222222222222,
             "#7201a8"
            ],
            [
             0.3333333333333333,
             "#9c179e"
            ],
            [
             0.4444444444444444,
             "#bd3786"
            ],
            [
             0.5555555555555556,
             "#d8576b"
            ],
            [
             0.6666666666666666,
             "#ed7953"
            ],
            [
             0.7777777777777778,
             "#fb9f3a"
            ],
            [
             0.8888888888888888,
             "#fdca26"
            ],
            [
             1,
             "#f0f921"
            ]
           ],
           "sequentialminus": [
            [
             0,
             "#0d0887"
            ],
            [
             0.1111111111111111,
             "#46039f"
            ],
            [
             0.2222222222222222,
             "#7201a8"
            ],
            [
             0.3333333333333333,
             "#9c179e"
            ],
            [
             0.4444444444444444,
             "#bd3786"
            ],
            [
             0.5555555555555556,
             "#d8576b"
            ],
            [
             0.6666666666666666,
             "#ed7953"
            ],
            [
             0.7777777777777778,
             "#fb9f3a"
            ],
            [
             0.8888888888888888,
             "#fdca26"
            ],
            [
             1,
             "#f0f921"
            ]
           ]
          },
          "colorway": [
           "#636efa",
           "#EF553B",
           "#00cc96",
           "#ab63fa",
           "#FFA15A",
           "#19d3f3",
           "#FF6692",
           "#B6E880",
           "#FF97FF",
           "#FECB52"
          ],
          "font": {
           "color": "#2a3f5f"
          },
          "geo": {
           "bgcolor": "white",
           "lakecolor": "white",
           "landcolor": "#E5ECF6",
           "showlakes": true,
           "showland": true,
           "subunitcolor": "white"
          },
          "hoverlabel": {
           "align": "left"
          },
          "hovermode": "closest",
          "mapbox": {
           "style": "light"
          },
          "paper_bgcolor": "white",
          "plot_bgcolor": "#E5ECF6",
          "polar": {
           "angularaxis": {
            "gridcolor": "white",
            "linecolor": "white",
            "ticks": ""
           },
           "bgcolor": "#E5ECF6",
           "radialaxis": {
            "gridcolor": "white",
            "linecolor": "white",
            "ticks": ""
           }
          },
          "scene": {
           "xaxis": {
            "backgroundcolor": "#E5ECF6",
            "gridcolor": "white",
            "gridwidth": 2,
            "linecolor": "white",
            "showbackground": true,
            "ticks": "",
            "zerolinecolor": "white"
           },
           "yaxis": {
            "backgroundcolor": "#E5ECF6",
            "gridcolor": "white",
            "gridwidth": 2,
            "linecolor": "white",
            "showbackground": true,
            "ticks": "",
            "zerolinecolor": "white"
           },
           "zaxis": {
            "backgroundcolor": "#E5ECF6",
            "gridcolor": "white",
            "gridwidth": 2,
            "linecolor": "white",
            "showbackground": true,
            "ticks": "",
            "zerolinecolor": "white"
           }
          },
          "shapedefaults": {
           "line": {
            "color": "#2a3f5f"
           }
          },
          "ternary": {
           "aaxis": {
            "gridcolor": "white",
            "linecolor": "white",
            "ticks": ""
           },
           "baxis": {
            "gridcolor": "white",
            "linecolor": "white",
            "ticks": ""
           },
           "bgcolor": "#E5ECF6",
           "caxis": {
            "gridcolor": "white",
            "linecolor": "white",
            "ticks": ""
           }
          },
          "title": {
           "x": 0.05
          },
          "xaxis": {
           "automargin": true,
           "gridcolor": "white",
           "linecolor": "white",
           "ticks": "",
           "title": {
            "standoff": 15
           },
           "zerolinecolor": "white",
           "zerolinewidth": 2
          },
          "yaxis": {
           "automargin": true,
           "gridcolor": "white",
           "linecolor": "white",
           "ticks": "",
           "title": {
            "standoff": 15
           },
           "zerolinecolor": "white",
           "zerolinewidth": 2
          }
         }
        },
        "title": {
         "text": "Crime per 10,000 Residents by Type – Bottom 5 Municipalities"
        },
        "xaxis": {
         "anchor": "y",
         "domain": [
          0,
          1
         ],
         "tickangle": -45,
         "title": {
          "text": "Type of Crime"
         }
        },
        "yaxis": {
         "anchor": "x",
         "domain": [
          0,
          1
         ],
         "title": {
          "text": "Crimes per 10,000 Residents (2007–2024)"
         }
        }
       }
      }
     },
     "metadata": {},
     "output_type": "display_data"
    }
   ],
   "source": [
    "import plotly.express as px\n",
    "\n",
    "# Copy and clean\n",
    "plot_df = crime_pop_offence.copy()  # <- use the version with population and crime per 10k\n",
    "# Map Danish offence labels to English\n",
    "offence_translation = {\n",
    "    \"Seksualforbrydelser i alt\": \"Sexual offenses, total\",\n",
    "    \"Voldsforbrydelser i alt\": \"Crimes of violence, total\",\n",
    "    \"Ejendomsforbrydelser i alt\": \"Offences against property, total\",\n",
    "    \"Andre Straffelovsforbrydelser i alt\": \"Other offences, total\",\n",
    "    \"Færdselslov i alt\": \"The Road Traffic Act, total\",\n",
    "    \"Særlove i alt\": \"Special acts, total\"\n",
    "}\n",
    "\n",
    "# Apply to your offence labels\n",
    "plot_df[\"Offence\"] = plot_df[\"Offence\"].replace(offence_translation)\n",
    "\n",
    "plot_df['Municipality'] = plot_df['Municipality'].str.title()  # for color matching\n",
    "\n",
    "# --- Top 5 plot ---\n",
    "top_df_offence = plot_df[plot_df['Group'] == 'Top 5']\n",
    "\n",
    "fig_top_offence = px.bar(\n",
    "    top_df_offence,\n",
    "    x=\"Offence\",\n",
    "    y=\"CrimePer10k\",\n",
    "    color=\"Municipality\",\n",
    "    color_discrete_map=color_map,\n",
    "    barmode=\"group\",\n",
    "    title=\"Crime per 10,000 Residents by Type – Top 5 Municipalities\",\n",
    "    height=500\n",
    ")\n",
    "\n",
    "fig_top_offence.update_layout(\n",
    "    xaxis_title=\"Type of Crime\",\n",
    "    yaxis_title=\"Crimes per 10,000 Residents (2007–2024)\",\n",
    "    font=dict(family=\"Arial\", size=13),\n",
    "    xaxis_tickangle=-45,\n",
    "    plot_bgcolor=\"white\",\n",
    "    bargap=0.3,\n",
    ")\n",
    "\n",
    "fig_top_offence.write_html(r\"C:\\Users\\Baxe\\Documents\\SocialDataanalyseVisulisation\\signedue.github.io\\crime_offence_top.html\")\n",
    "\n",
    "fig_top_offence.show()\n",
    "\n",
    "\n",
    "# --- Bottom 5 plot ---\n",
    "bottom_df_offence = plot_df[plot_df['Group'] == 'Bottom 5']\n",
    "\n",
    "fig_bottom_offence = px.bar(\n",
    "    bottom_df_offence,\n",
    "    x=\"Offence\",\n",
    "    y=\"CrimePer10k\",\n",
    "    color=\"Municipality\",\n",
    "    color_discrete_map=color_map,\n",
    "    barmode=\"group\",\n",
    "    title=\"Crime per 10,000 Residents by Type – Bottom 5 Municipalities\",\n",
    "    height=500\n",
    ")\n",
    "\n",
    "fig_bottom_offence.update_layout(\n",
    "    xaxis_title=\"Type of Crime\",\n",
    "    yaxis_title=\"Crimes per 10,000 Residents (2007–2024)\",\n",
    "    font=dict(family=\"Arial\", size=13),\n",
    "    xaxis_tickangle=-45,\n",
    "    plot_bgcolor=\"white\",\n",
    "    bargap=0.3,\n",
    ")\n",
    "\n",
    "fig_top_offence.write_html(r\"C:\\Users\\Baxe\\Documents\\SocialDataanalyseVisulisation\\signedue.github.io\\crime_offence_bottom.html\")\n",
    "fig_bottom_offence.show()\n"
   ]
  },
  {
   "cell_type": "markdown",
   "id": "7b2b3416",
   "metadata": {},
   "source": [
    "### For male and female"
   ]
  },
  {
   "cell_type": "code",
   "execution_count": null,
   "id": "d155c639",
   "metadata": {},
   "outputs": [
    {
     "name": "stdout",
     "output_type": "stream",
     "text": [
      "      Group Municipality gender/total                              Offence  \\\n",
      "0  Bottom 5  christiansø      Kvinder  Andre straffelovsforbrydelser i alt   \n",
      "1  Bottom 5  christiansø      Kvinder           Ejendomsforbrydelser i alt   \n",
      "2  Bottom 5  christiansø      Kvinder                    Færdselslov i alt   \n",
      "3  Bottom 5  christiansø      Kvinder            Seksualforbrydelser i alt   \n",
      "4  Bottom 5  christiansø      Kvinder                        Særlove i alt   \n",
      "5  Bottom 5  christiansø      Kvinder              Voldsforbrydelser i alt   \n",
      "6  Bottom 5  christiansø         Mænd  Andre straffelovsforbrydelser i alt   \n",
      "7  Bottom 5  christiansø         Mænd           Ejendomsforbrydelser i alt   \n",
      "8  Bottom 5  christiansø         Mænd                    Færdselslov i alt   \n",
      "9  Bottom 5  christiansø         Mænd            Seksualforbrydelser i alt   \n",
      "\n",
      "   Total  \n",
      "0      0  \n",
      "1      0  \n",
      "2      0  \n",
      "3      0  \n",
      "4      0  \n",
      "5      0  \n",
      "6      0  \n",
      "7      0  \n",
      "8      0  \n",
      "9      0  \n"
     ]
    }
   ],
   "source": [
    "# Load the Excel data\n",
    "df = pd.read_excel(r\"C:/Users/Baxe/Documents/SocialDataanalyseVisulisation/Assignment3/topBottomOffenceGender.xlsx\")\n",
    "df.columns = df.columns.str.strip()\n",
    "\n",
    "# Keep only 'Mænd' and 'Kvinder'\n",
    "df = df[df['gender/total'].str.strip().isin(['Mænd', 'Kvinder'])]\n",
    "\n",
    "# Sum across years\n",
    "df['Total'] = df.loc[:, '2007':'2024'].sum(axis=1)\n",
    "\n",
    "# Assign group: Top 5, Bottom 5, or Other\n",
    "top_munis = ['lolland', 'brøndby', 'guldborgsund', 'ishøj', 'odense']\n",
    "bottom_munis = ['odder', 'skanderborg', 'hørsholm', 'fanø', 'christiansø']\n",
    "df['Municipality'] = df['Municipality'].str.lower().str.strip()\n",
    "df['Group'] = df['Municipality'].apply(\n",
    "    lambda m: 'Top 5' if m in top_munis else 'Bottom 5' if m in bottom_munis else 'Other'\n",
    ")\n",
    "\n",
    "# Filter only relevant municipalities\n",
    "df_filtered = df[df['Group'].isin(['Top 5', 'Bottom 5'])]\n",
    "\n",
    "# Group by gender\n",
    "crime_gender_muni = (\n",
    "    df_filtered.groupby(['Group', 'Municipality', 'gender/total', 'Offence'])['Total']\n",
    "    .sum()\n",
    "    .reset_index()\n",
    ")\n",
    "\n",
    "print(crime_gender_muni.head(10))\n"
   ]
  },
  {
   "cell_type": "code",
   "execution_count": 116,
   "id": "f01d9623",
   "metadata": {},
   "outputs": [
    {
     "name": "stdout",
     "output_type": "stream",
     "text": [
      "      Group Municipality gender/total                              Offence  \\\n",
      "0  Bottom 5  christiansø      Kvinder  Andre straffelovsforbrydelser i alt   \n",
      "1  Bottom 5  christiansø      Kvinder           Ejendomsforbrydelser i alt   \n",
      "2  Bottom 5  christiansø      Kvinder                    Færdselslov i alt   \n",
      "3  Bottom 5  christiansø      Kvinder            Seksualforbrydelser i alt   \n",
      "4  Bottom 5  christiansø      Kvinder                        Særlove i alt   \n",
      "5  Bottom 5  christiansø      Kvinder              Voldsforbrydelser i alt   \n",
      "6  Bottom 5  christiansø         Mænd  Andre straffelovsforbrydelser i alt   \n",
      "7  Bottom 5  christiansø         Mænd           Ejendomsforbrydelser i alt   \n",
      "8  Bottom 5  christiansø         Mænd                    Færdselslov i alt   \n",
      "9  Bottom 5  christiansø         Mænd            Seksualforbrydelser i alt   \n",
      "\n",
      "   Total  TotalPopulation  CrimePer10k  \n",
      "0      0             1556          0.0  \n",
      "1      0             1556          0.0  \n",
      "2      0             1556          0.0  \n",
      "3      0             1556          0.0  \n",
      "4      0             1556          0.0  \n",
      "5      0             1556          0.0  \n",
      "6      0             1556          0.0  \n",
      "7      0             1556          0.0  \n",
      "8      0             1556          0.0  \n",
      "9      0             1556          0.0  \n"
     ]
    }
   ],
   "source": [
    "# Ensure 'Municipality' is lowercase in both dataframes\n",
    "df_pop['Municipality'] = df_pop['Municipality'].str.lower()\n",
    "crime_gender_muni['Municipality'] = crime_gender_muni['Municipality'].str.lower()\n",
    "\n",
    "# Filter population to only relevant municipalities and years\n",
    "relevant_munis = top_munis + bottom_munis\n",
    "df_pop_filtered = df_pop[df_pop['Municipality'].isin(relevant_munis)]\n",
    "df_pop_filtered = df_pop_filtered[df_pop_filtered['Year'].between(2007, 2024)]\n",
    "\n",
    "# Aggregate population by municipality and gender (same column name as in crime data)\n",
    "# If your population data has gender information, you'll need to melt and match it accordingly.\n",
    "# For now, we assume total population (without gender split):\n",
    "pop_total = (\n",
    "    df_pop_filtered\n",
    "    .groupby(\"Municipality\")[\"Population\"]\n",
    "    .sum()\n",
    "    .reset_index()\n",
    "    .rename(columns={\"Population\": \"TotalPopulation\"})\n",
    ")\n",
    "\n",
    "# Merge total population into crime + gender dataframe\n",
    "crime_gender_pop = crime_gender_muni.merge(pop_total, on=\"Municipality\", how=\"left\")\n",
    "\n",
    "# Normalize to crimes per 10,000 residents\n",
    "crime_gender_pop[\"CrimePer10k\"] = crime_gender_pop[\"Total\"] / crime_gender_pop[\"TotalPopulation\"] * 10000\n",
    "\n",
    "# Sort result\n",
    "crime_gender_pop = crime_gender_pop.sort_values(\n",
    "    [\"Group\", \"Municipality\", \"gender/total\", \"CrimePer10k\"],\n",
    "    ascending=[True, True, True, False]\n",
    ")\n",
    "\n",
    "# View top rows\n",
    "print(crime_gender_pop.head(10))\n"
   ]
  },
  {
   "cell_type": "code",
   "execution_count": 120,
   "id": "105b5f02",
   "metadata": {},
   "outputs": [
    {
     "data": {
      "application/vnd.plotly.v1+json": {
       "config": {
        "plotlyServerURL": "https://plot.ly"
       },
       "data": [
        {
         "alignmentgroup": "True",
         "hovertemplate": "MuniGender=Brøndby (Female)<br>Offence=%{x}<br>CrimePer10k=%{y}<extra></extra>",
         "legendgroup": "Brøndby (Female)",
         "marker": {
          "color": "#636efa",
          "pattern": {
           "shape": ""
          }
         },
         "name": "Brøndby (Female)",
         "offsetgroup": "Brøndby (Female)",
         "orientation": "v",
         "showlegend": true,
         "textposition": "auto",
         "type": "bar",
         "x": [
          "Crimes of violence",
          "Offences against property",
          "Andre straffelovsforbrydelser i alt",
          "Special acts",
          "The Road Traffic Act",
          "Sexual offenses"
         ],
         "xaxis": "x",
         "y": [
          0.21762712772368722,
          0.20088657943724972,
          0.16740548286437476,
          0.08370274143218738,
          0,
          0
         ],
         "yaxis": "y"
        },
        {
         "alignmentgroup": "True",
         "hovertemplate": "MuniGender=Brøndby (Male)<br>Offence=%{x}<br>CrimePer10k=%{y}<extra></extra>",
         "legendgroup": "Brøndby (Male)",
         "marker": {
          "color": "#EF553B",
          "pattern": {
           "shape": ""
          }
         },
         "name": "Brøndby (Male)",
         "offsetgroup": "Brøndby (Male)",
         "orientation": "v",
         "showlegend": true,
         "textposition": "auto",
         "type": "bar",
         "x": [
          "Crimes of violence",
          "Offences against property",
          "Andre straffelovsforbrydelser i alt",
          "Special acts",
          "The Road Traffic Act",
          "Sexual offenses"
         ],
         "xaxis": "x",
         "y": [
          7.516506180610428,
          6.1103001245496795,
          4.268839813041557,
          2.9463364984129963,
          2.109309084091122,
          0.6361408348846241
         ],
         "yaxis": "y"
        },
        {
         "alignmentgroup": "True",
         "hovertemplate": "MuniGender=Guldborgsund (Female)<br>Offence=%{x}<br>CrimePer10k=%{y}<extra></extra>",
         "legendgroup": "Guldborgsund (Female)",
         "marker": {
          "color": "#00cc96",
          "pattern": {
           "shape": ""
          }
         },
         "name": "Guldborgsund (Female)",
         "offsetgroup": "Guldborgsund (Female)",
         "orientation": "v",
         "showlegend": true,
         "textposition": "auto",
         "type": "bar",
         "x": [
          "Crimes of violence",
          "Offences against property",
          "Andre straffelovsforbrydelser i alt",
          "The Road Traffic Act",
          "Special acts",
          "Sexual offenses"
         ],
         "xaxis": "x",
         "y": [
          0.642372829355096,
          0.3068049334233295,
          0.18216542922010184,
          0.18216542922010184,
          0.07670123335583237,
          0.019175308338958093
         ],
         "yaxis": "y"
        },
        {
         "alignmentgroup": "True",
         "hovertemplate": "MuniGender=Guldborgsund (Male)<br>Offence=%{x}<br>CrimePer10k=%{y}<extra></extra>",
         "legendgroup": "Guldborgsund (Male)",
         "marker": {
          "color": "#ab63fa",
          "pattern": {
           "shape": ""
          }
         },
         "name": "Guldborgsund (Male)",
         "offsetgroup": "Guldborgsund (Male)",
         "orientation": "v",
         "showlegend": true,
         "textposition": "auto",
         "type": "bar",
         "x": [
          "Crimes of violence",
          "Offences against property",
          "The Road Traffic Act",
          "Andre straffelovsforbrydelser i alt",
          "Special acts",
          "Sexual offenses"
         ],
         "xaxis": "x",
         "y": [
          8.13991838988771,
          5.349911026569307,
          3.384441921826103,
          2.4256765048781985,
          1.476498742099773,
          0.7094864085414494
         ],
         "yaxis": "y"
        },
        {
         "alignmentgroup": "True",
         "hovertemplate": "MuniGender=Ishøj (Female)<br>Offence=%{x}<br>CrimePer10k=%{y}<extra></extra>",
         "legendgroup": "Ishøj (Female)",
         "marker": {
          "color": "#FFA15A",
          "pattern": {
           "shape": ""
          }
         },
         "name": "Ishøj (Female)",
         "offsetgroup": "Ishøj (Female)",
         "orientation": "v",
         "showlegend": true,
         "textposition": "auto",
         "type": "bar",
         "x": [
          "Crimes of violence",
          "Offences against property",
          "Andre straffelovsforbrydelser i alt",
          "Special acts",
          "The Road Traffic Act",
          "Sexual offenses"
         ],
         "xaxis": "x",
         "y": [
          0.3988173735483047,
          0.21270259922576254,
          0.1329391245161016,
          0.026587824903220317,
          0,
          0
         ],
         "yaxis": "y"
        },
        {
         "alignmentgroup": "True",
         "hovertemplate": "MuniGender=Ishøj (Male)<br>Offence=%{x}<br>CrimePer10k=%{y}<extra></extra>",
         "legendgroup": "Ishøj (Male)",
         "marker": {
          "color": "#19d3f3",
          "pattern": {
           "shape": ""
          }
         },
         "name": "Ishøj (Male)",
         "offsetgroup": "Ishøj (Male)",
         "orientation": "v",
         "showlegend": true,
         "textposition": "auto",
         "type": "bar",
         "x": [
          "Crimes of violence",
          "Offences against property",
          "Andre straffelovsforbrydelser i alt",
          "Special acts",
          "The Road Traffic Act",
          "Sexual offenses"
         ],
         "xaxis": "x",
         "y": [
          7.231888373675926,
          5.583443229676267,
          3.934998085676607,
          2.180201642064066,
          1.5420938443867784,
          0.584932147870847
         ],
         "yaxis": "y"
        },
        {
         "alignmentgroup": "True",
         "hovertemplate": "MuniGender=Lolland (Female)<br>Offence=%{x}<br>CrimePer10k=%{y}<extra></extra>",
         "legendgroup": "Lolland (Female)",
         "marker": {
          "color": "#FF6692",
          "pattern": {
           "shape": ""
          }
         },
         "name": "Lolland (Female)",
         "offsetgroup": "Lolland (Female)",
         "orientation": "v",
         "showlegend": true,
         "textposition": "auto",
         "type": "bar",
         "x": [
          "Crimes of violence",
          "Offences against property",
          "Andre straffelovsforbrydelser i alt",
          "The Road Traffic Act",
          "Special acts",
          "Sexual offenses"
         ],
         "xaxis": "x",
         "y": [
          0.7073636556553724,
          0.32647553337940266,
          0.2856660917069773,
          0.1904440611379849,
          0.04080944167242533,
          0.013603147224141778
         ],
         "yaxis": "y"
        },
        {
         "alignmentgroup": "True",
         "hovertemplate": "MuniGender=Lolland (Male)<br>Offence=%{x}<br>CrimePer10k=%{y}<extra></extra>",
         "legendgroup": "Lolland (Male)",
         "marker": {
          "color": "#B6E880",
          "pattern": {
           "shape": ""
          }
         },
         "name": "Lolland (Male)",
         "offsetgroup": "Lolland (Male)",
         "orientation": "v",
         "showlegend": true,
         "textposition": "auto",
         "type": "bar",
         "x": [
          "Crimes of violence",
          "Offences against property",
          "The Road Traffic Act",
          "Andre straffelovsforbrydelser i alt",
          "Special acts",
          "Sexual offenses"
         ],
         "xaxis": "x",
         "y": [
          9.141314934623274,
          6.692748434277754,
          3.8088812227596973,
          3.0607081254319,
          1.7412028446901475,
          0.8433951278967903
         ],
         "yaxis": "y"
        },
        {
         "alignmentgroup": "True",
         "hovertemplate": "MuniGender=Odense (Female)<br>Offence=%{x}<br>CrimePer10k=%{y}<extra></extra>",
         "legendgroup": "Odense (Female)",
         "marker": {
          "color": "#FF97FF",
          "pattern": {
           "shape": ""
          }
         },
         "name": "Odense (Female)",
         "offsetgroup": "Odense (Female)",
         "orientation": "v",
         "showlegend": true,
         "textposition": "auto",
         "type": "bar",
         "x": [
          "Offences against property",
          "Crimes of violence",
          "Andre straffelovsforbrydelser i alt",
          "Special acts",
          "The Road Traffic Act",
          "Sexual offenses"
         ],
         "xaxis": "x",
         "y": [
          0.4389832554582971,
          0.41822053391635056,
          0.15127125694846721,
          0.10677971078715333,
          0.06228816462583945,
          0.011864412309683705
         ],
         "yaxis": "y"
        },
        {
         "alignmentgroup": "True",
         "hovertemplate": "MuniGender=Odense (Male)<br>Offence=%{x}<br>CrimePer10k=%{y}<extra></extra>",
         "legendgroup": "Odense (Male)",
         "marker": {
          "color": "#FECB52",
          "pattern": {
           "shape": ""
          }
         },
         "name": "Odense (Male)",
         "offsetgroup": "Odense (Male)",
         "orientation": "v",
         "showlegend": true,
         "textposition": "auto",
         "type": "bar",
         "x": [
          "Offences against property",
          "Crimes of violence",
          "Andre straffelovsforbrydelser i alt",
          "The Road Traffic Act",
          "Special acts",
          "Sexual offenses"
         ],
         "xaxis": "x",
         "y": [
          6.359324997990465,
          5.917375639454747,
          2.515255409652945,
          2.286865472691534,
          2.120763700355962,
          0.5101697293163993
         ],
         "yaxis": "y"
        }
       ],
       "layout": {
        "bargap": 0.3,
        "barmode": "group",
        "font": {
         "family": "Arial",
         "size": 13
        },
        "height": 500,
        "legend": {
         "title": {
          "text": "MuniGender"
         },
         "tracegroupgap": 0
        },
        "plot_bgcolor": "white",
        "template": {
         "data": {
          "bar": [
           {
            "error_x": {
             "color": "#2a3f5f"
            },
            "error_y": {
             "color": "#2a3f5f"
            },
            "marker": {
             "line": {
              "color": "#E5ECF6",
              "width": 0.5
             },
             "pattern": {
              "fillmode": "overlay",
              "size": 10,
              "solidity": 0.2
             }
            },
            "type": "bar"
           }
          ],
          "barpolar": [
           {
            "marker": {
             "line": {
              "color": "#E5ECF6",
              "width": 0.5
             },
             "pattern": {
              "fillmode": "overlay",
              "size": 10,
              "solidity": 0.2
             }
            },
            "type": "barpolar"
           }
          ],
          "carpet": [
           {
            "aaxis": {
             "endlinecolor": "#2a3f5f",
             "gridcolor": "white",
             "linecolor": "white",
             "minorgridcolor": "white",
             "startlinecolor": "#2a3f5f"
            },
            "baxis": {
             "endlinecolor": "#2a3f5f",
             "gridcolor": "white",
             "linecolor": "white",
             "minorgridcolor": "white",
             "startlinecolor": "#2a3f5f"
            },
            "type": "carpet"
           }
          ],
          "choropleth": [
           {
            "colorbar": {
             "outlinewidth": 0,
             "ticks": ""
            },
            "type": "choropleth"
           }
          ],
          "contour": [
           {
            "colorbar": {
             "outlinewidth": 0,
             "ticks": ""
            },
            "colorscale": [
             [
              0,
              "#0d0887"
             ],
             [
              0.1111111111111111,
              "#46039f"
             ],
             [
              0.2222222222222222,
              "#7201a8"
             ],
             [
              0.3333333333333333,
              "#9c179e"
             ],
             [
              0.4444444444444444,
              "#bd3786"
             ],
             [
              0.5555555555555556,
              "#d8576b"
             ],
             [
              0.6666666666666666,
              "#ed7953"
             ],
             [
              0.7777777777777778,
              "#fb9f3a"
             ],
             [
              0.8888888888888888,
              "#fdca26"
             ],
             [
              1,
              "#f0f921"
             ]
            ],
            "type": "contour"
           }
          ],
          "contourcarpet": [
           {
            "colorbar": {
             "outlinewidth": 0,
             "ticks": ""
            },
            "type": "contourcarpet"
           }
          ],
          "heatmap": [
           {
            "colorbar": {
             "outlinewidth": 0,
             "ticks": ""
            },
            "colorscale": [
             [
              0,
              "#0d0887"
             ],
             [
              0.1111111111111111,
              "#46039f"
             ],
             [
              0.2222222222222222,
              "#7201a8"
             ],
             [
              0.3333333333333333,
              "#9c179e"
             ],
             [
              0.4444444444444444,
              "#bd3786"
             ],
             [
              0.5555555555555556,
              "#d8576b"
             ],
             [
              0.6666666666666666,
              "#ed7953"
             ],
             [
              0.7777777777777778,
              "#fb9f3a"
             ],
             [
              0.8888888888888888,
              "#fdca26"
             ],
             [
              1,
              "#f0f921"
             ]
            ],
            "type": "heatmap"
           }
          ],
          "heatmapgl": [
           {
            "colorbar": {
             "outlinewidth": 0,
             "ticks": ""
            },
            "colorscale": [
             [
              0,
              "#0d0887"
             ],
             [
              0.1111111111111111,
              "#46039f"
             ],
             [
              0.2222222222222222,
              "#7201a8"
             ],
             [
              0.3333333333333333,
              "#9c179e"
             ],
             [
              0.4444444444444444,
              "#bd3786"
             ],
             [
              0.5555555555555556,
              "#d8576b"
             ],
             [
              0.6666666666666666,
              "#ed7953"
             ],
             [
              0.7777777777777778,
              "#fb9f3a"
             ],
             [
              0.8888888888888888,
              "#fdca26"
             ],
             [
              1,
              "#f0f921"
             ]
            ],
            "type": "heatmapgl"
           }
          ],
          "histogram": [
           {
            "marker": {
             "pattern": {
              "fillmode": "overlay",
              "size": 10,
              "solidity": 0.2
             }
            },
            "type": "histogram"
           }
          ],
          "histogram2d": [
           {
            "colorbar": {
             "outlinewidth": 0,
             "ticks": ""
            },
            "colorscale": [
             [
              0,
              "#0d0887"
             ],
             [
              0.1111111111111111,
              "#46039f"
             ],
             [
              0.2222222222222222,
              "#7201a8"
             ],
             [
              0.3333333333333333,
              "#9c179e"
             ],
             [
              0.4444444444444444,
              "#bd3786"
             ],
             [
              0.5555555555555556,
              "#d8576b"
             ],
             [
              0.6666666666666666,
              "#ed7953"
             ],
             [
              0.7777777777777778,
              "#fb9f3a"
             ],
             [
              0.8888888888888888,
              "#fdca26"
             ],
             [
              1,
              "#f0f921"
             ]
            ],
            "type": "histogram2d"
           }
          ],
          "histogram2dcontour": [
           {
            "colorbar": {
             "outlinewidth": 0,
             "ticks": ""
            },
            "colorscale": [
             [
              0,
              "#0d0887"
             ],
             [
              0.1111111111111111,
              "#46039f"
             ],
             [
              0.2222222222222222,
              "#7201a8"
             ],
             [
              0.3333333333333333,
              "#9c179e"
             ],
             [
              0.4444444444444444,
              "#bd3786"
             ],
             [
              0.5555555555555556,
              "#d8576b"
             ],
             [
              0.6666666666666666,
              "#ed7953"
             ],
             [
              0.7777777777777778,
              "#fb9f3a"
             ],
             [
              0.8888888888888888,
              "#fdca26"
             ],
             [
              1,
              "#f0f921"
             ]
            ],
            "type": "histogram2dcontour"
           }
          ],
          "mesh3d": [
           {
            "colorbar": {
             "outlinewidth": 0,
             "ticks": ""
            },
            "type": "mesh3d"
           }
          ],
          "parcoords": [
           {
            "line": {
             "colorbar": {
              "outlinewidth": 0,
              "ticks": ""
             }
            },
            "type": "parcoords"
           }
          ],
          "pie": [
           {
            "automargin": true,
            "type": "pie"
           }
          ],
          "scatter": [
           {
            "fillpattern": {
             "fillmode": "overlay",
             "size": 10,
             "solidity": 0.2
            },
            "type": "scatter"
           }
          ],
          "scatter3d": [
           {
            "line": {
             "colorbar": {
              "outlinewidth": 0,
              "ticks": ""
             }
            },
            "marker": {
             "colorbar": {
              "outlinewidth": 0,
              "ticks": ""
             }
            },
            "type": "scatter3d"
           }
          ],
          "scattercarpet": [
           {
            "marker": {
             "colorbar": {
              "outlinewidth": 0,
              "ticks": ""
             }
            },
            "type": "scattercarpet"
           }
          ],
          "scattergeo": [
           {
            "marker": {
             "colorbar": {
              "outlinewidth": 0,
              "ticks": ""
             }
            },
            "type": "scattergeo"
           }
          ],
          "scattergl": [
           {
            "marker": {
             "colorbar": {
              "outlinewidth": 0,
              "ticks": ""
             }
            },
            "type": "scattergl"
           }
          ],
          "scattermapbox": [
           {
            "marker": {
             "colorbar": {
              "outlinewidth": 0,
              "ticks": ""
             }
            },
            "type": "scattermapbox"
           }
          ],
          "scatterpolar": [
           {
            "marker": {
             "colorbar": {
              "outlinewidth": 0,
              "ticks": ""
             }
            },
            "type": "scatterpolar"
           }
          ],
          "scatterpolargl": [
           {
            "marker": {
             "colorbar": {
              "outlinewidth": 0,
              "ticks": ""
             }
            },
            "type": "scatterpolargl"
           }
          ],
          "scatterternary": [
           {
            "marker": {
             "colorbar": {
              "outlinewidth": 0,
              "ticks": ""
             }
            },
            "type": "scatterternary"
           }
          ],
          "surface": [
           {
            "colorbar": {
             "outlinewidth": 0,
             "ticks": ""
            },
            "colorscale": [
             [
              0,
              "#0d0887"
             ],
             [
              0.1111111111111111,
              "#46039f"
             ],
             [
              0.2222222222222222,
              "#7201a8"
             ],
             [
              0.3333333333333333,
              "#9c179e"
             ],
             [
              0.4444444444444444,
              "#bd3786"
             ],
             [
              0.5555555555555556,
              "#d8576b"
             ],
             [
              0.6666666666666666,
              "#ed7953"
             ],
             [
              0.7777777777777778,
              "#fb9f3a"
             ],
             [
              0.8888888888888888,
              "#fdca26"
             ],
             [
              1,
              "#f0f921"
             ]
            ],
            "type": "surface"
           }
          ],
          "table": [
           {
            "cells": {
             "fill": {
              "color": "#EBF0F8"
             },
             "line": {
              "color": "white"
             }
            },
            "header": {
             "fill": {
              "color": "#C8D4E3"
             },
             "line": {
              "color": "white"
             }
            },
            "type": "table"
           }
          ]
         },
         "layout": {
          "annotationdefaults": {
           "arrowcolor": "#2a3f5f",
           "arrowhead": 0,
           "arrowwidth": 1
          },
          "autotypenumbers": "strict",
          "coloraxis": {
           "colorbar": {
            "outlinewidth": 0,
            "ticks": ""
           }
          },
          "colorscale": {
           "diverging": [
            [
             0,
             "#8e0152"
            ],
            [
             0.1,
             "#c51b7d"
            ],
            [
             0.2,
             "#de77ae"
            ],
            [
             0.3,
             "#f1b6da"
            ],
            [
             0.4,
             "#fde0ef"
            ],
            [
             0.5,
             "#f7f7f7"
            ],
            [
             0.6,
             "#e6f5d0"
            ],
            [
             0.7,
             "#b8e186"
            ],
            [
             0.8,
             "#7fbc41"
            ],
            [
             0.9,
             "#4d9221"
            ],
            [
             1,
             "#276419"
            ]
           ],
           "sequential": [
            [
             0,
             "#0d0887"
            ],
            [
             0.1111111111111111,
             "#46039f"
            ],
            [
             0.2222222222222222,
             "#7201a8"
            ],
            [
             0.3333333333333333,
             "#9c179e"
            ],
            [
             0.4444444444444444,
             "#bd3786"
            ],
            [
             0.5555555555555556,
             "#d8576b"
            ],
            [
             0.6666666666666666,
             "#ed7953"
            ],
            [
             0.7777777777777778,
             "#fb9f3a"
            ],
            [
             0.8888888888888888,
             "#fdca26"
            ],
            [
             1,
             "#f0f921"
            ]
           ],
           "sequentialminus": [
            [
             0,
             "#0d0887"
            ],
            [
             0.1111111111111111,
             "#46039f"
            ],
            [
             0.2222222222222222,
             "#7201a8"
            ],
            [
             0.3333333333333333,
             "#9c179e"
            ],
            [
             0.4444444444444444,
             "#bd3786"
            ],
            [
             0.5555555555555556,
             "#d8576b"
            ],
            [
             0.6666666666666666,
             "#ed7953"
            ],
            [
             0.7777777777777778,
             "#fb9f3a"
            ],
            [
             0.8888888888888888,
             "#fdca26"
            ],
            [
             1,
             "#f0f921"
            ]
           ]
          },
          "colorway": [
           "#636efa",
           "#EF553B",
           "#00cc96",
           "#ab63fa",
           "#FFA15A",
           "#19d3f3",
           "#FF6692",
           "#B6E880",
           "#FF97FF",
           "#FECB52"
          ],
          "font": {
           "color": "#2a3f5f"
          },
          "geo": {
           "bgcolor": "white",
           "lakecolor": "white",
           "landcolor": "#E5ECF6",
           "showlakes": true,
           "showland": true,
           "subunitcolor": "white"
          },
          "hoverlabel": {
           "align": "left"
          },
          "hovermode": "closest",
          "mapbox": {
           "style": "light"
          },
          "paper_bgcolor": "white",
          "plot_bgcolor": "#E5ECF6",
          "polar": {
           "angularaxis": {
            "gridcolor": "white",
            "linecolor": "white",
            "ticks": ""
           },
           "bgcolor": "#E5ECF6",
           "radialaxis": {
            "gridcolor": "white",
            "linecolor": "white",
            "ticks": ""
           }
          },
          "scene": {
           "xaxis": {
            "backgroundcolor": "#E5ECF6",
            "gridcolor": "white",
            "gridwidth": 2,
            "linecolor": "white",
            "showbackground": true,
            "ticks": "",
            "zerolinecolor": "white"
           },
           "yaxis": {
            "backgroundcolor": "#E5ECF6",
            "gridcolor": "white",
            "gridwidth": 2,
            "linecolor": "white",
            "showbackground": true,
            "ticks": "",
            "zerolinecolor": "white"
           },
           "zaxis": {
            "backgroundcolor": "#E5ECF6",
            "gridcolor": "white",
            "gridwidth": 2,
            "linecolor": "white",
            "showbackground": true,
            "ticks": "",
            "zerolinecolor": "white"
           }
          },
          "shapedefaults": {
           "line": {
            "color": "#2a3f5f"
           }
          },
          "ternary": {
           "aaxis": {
            "gridcolor": "white",
            "linecolor": "white",
            "ticks": ""
           },
           "baxis": {
            "gridcolor": "white",
            "linecolor": "white",
            "ticks": ""
           },
           "bgcolor": "#E5ECF6",
           "caxis": {
            "gridcolor": "white",
            "linecolor": "white",
            "ticks": ""
           }
          },
          "title": {
           "x": 0.05
          },
          "xaxis": {
           "automargin": true,
           "gridcolor": "white",
           "linecolor": "white",
           "ticks": "",
           "title": {
            "standoff": 15
           },
           "zerolinecolor": "white",
           "zerolinewidth": 2
          },
          "yaxis": {
           "automargin": true,
           "gridcolor": "white",
           "linecolor": "white",
           "ticks": "",
           "title": {
            "standoff": 15
           },
           "zerolinecolor": "white",
           "zerolinewidth": 2
          }
         }
        },
        "title": {
         "text": "Crime per 10,000 by Offence Type – Top 5 Municipalities (by Gender)"
        },
        "xaxis": {
         "anchor": "y",
         "domain": [
          0,
          1
         ],
         "tickangle": -45,
         "title": {
          "text": "Type of Crime"
         }
        },
        "yaxis": {
         "anchor": "x",
         "domain": [
          0,
          1
         ],
         "title": {
          "text": "Crimes per 10,000 Residents"
         }
        }
       }
      }
     },
     "metadata": {},
     "output_type": "display_data"
    },
    {
     "data": {
      "application/vnd.plotly.v1+json": {
       "config": {
        "plotlyServerURL": "https://plot.ly"
       },
       "data": [
        {
         "alignmentgroup": "True",
         "hovertemplate": "MuniGender=Christiansø (Female)<br>Offence=%{x}<br>CrimePer10k=%{y}<extra></extra>",
         "legendgroup": "Christiansø (Female)",
         "marker": {
          "color": "#636efa",
          "pattern": {
           "shape": ""
          }
         },
         "name": "Christiansø (Female)",
         "offsetgroup": "Christiansø (Female)",
         "orientation": "v",
         "showlegend": true,
         "textposition": "auto",
         "type": "bar",
         "x": [
          "Andre straffelovsforbrydelser i alt",
          "Offences against property",
          "The Road Traffic Act",
          "Sexual offenses",
          "Special acts",
          "Crimes of violence"
         ],
         "xaxis": "x",
         "y": [
          0,
          0,
          0,
          0,
          0,
          0
         ],
         "yaxis": "y"
        },
        {
         "alignmentgroup": "True",
         "hovertemplate": "MuniGender=Christiansø (Male)<br>Offence=%{x}<br>CrimePer10k=%{y}<extra></extra>",
         "legendgroup": "Christiansø (Male)",
         "marker": {
          "color": "#EF553B",
          "pattern": {
           "shape": ""
          }
         },
         "name": "Christiansø (Male)",
         "offsetgroup": "Christiansø (Male)",
         "orientation": "v",
         "showlegend": true,
         "textposition": "auto",
         "type": "bar",
         "x": [
          "Andre straffelovsforbrydelser i alt",
          "Offences against property",
          "The Road Traffic Act",
          "Sexual offenses",
          "Special acts",
          "Crimes of violence"
         ],
         "xaxis": "x",
         "y": [
          0,
          0,
          0,
          0,
          0,
          0
         ],
         "yaxis": "y"
        },
        {
         "alignmentgroup": "True",
         "hovertemplate": "MuniGender=Fanø (Female)<br>Offence=%{x}<br>CrimePer10k=%{y}<extra></extra>",
         "legendgroup": "Fanø (Female)",
         "marker": {
          "color": "#00cc96",
          "pattern": {
           "shape": ""
          }
         },
         "name": "Fanø (Female)",
         "offsetgroup": "Fanø (Female)",
         "orientation": "v",
         "showlegend": true,
         "textposition": "auto",
         "type": "bar",
         "x": [
          "Crimes of violence",
          "Andre straffelovsforbrydelser i alt",
          "Offences against property",
          "The Road Traffic Act",
          "Sexual offenses",
          "Special acts"
         ],
         "xaxis": "x",
         "y": [
          0.1771793054571226,
          0,
          0,
          0,
          0,
          0
         ],
         "yaxis": "y"
        },
        {
         "alignmentgroup": "True",
         "hovertemplate": "MuniGender=Fanø (Male)<br>Offence=%{x}<br>CrimePer10k=%{y}<extra></extra>",
         "legendgroup": "Fanø (Male)",
         "marker": {
          "color": "#ab63fa",
          "pattern": {
           "shape": ""
          }
         },
         "name": "Fanø (Male)",
         "offsetgroup": "Fanø (Male)",
         "orientation": "v",
         "showlegend": true,
         "textposition": "auto",
         "type": "bar",
         "x": [
          "Crimes of violence",
          "Offences against property",
          "The Road Traffic Act",
          "Sexual offenses",
          "Andre straffelovsforbrydelser i alt",
          "Special acts"
         ],
         "xaxis": "x",
         "y": [
          1.7717930545712262,
          1.0630758327427356,
          0.7087172218284904,
          0.5315379163713678,
          0.3543586109142452,
          0.1771793054571226
         ],
         "yaxis": "y"
        },
        {
         "alignmentgroup": "True",
         "hovertemplate": "MuniGender=Hørsholm (Female)<br>Offence=%{x}<br>CrimePer10k=%{y}<extra></extra>",
         "legendgroup": "Hørsholm (Female)",
         "marker": {
          "color": "#FFA15A",
          "pattern": {
           "shape": ""
          }
         },
         "name": "Hørsholm (Female)",
         "offsetgroup": "Hørsholm (Female)",
         "orientation": "v",
         "showlegend": true,
         "textposition": "auto",
         "type": "bar",
         "x": [
          "Offences against property",
          "Crimes of violence",
          "Andre straffelovsforbrydelser i alt",
          "The Road Traffic Act",
          "Sexual offenses",
          "Special acts"
         ],
         "xaxis": "x",
         "y": [
          0.04763969148535794,
          0.04763969148535794,
          0.02381984574267897,
          0.02381984574267897,
          0,
          0
         ],
         "yaxis": "y"
        },
        {
         "alignmentgroup": "True",
         "hovertemplate": "MuniGender=Hørsholm (Male)<br>Offence=%{x}<br>CrimePer10k=%{y}<extra></extra>",
         "legendgroup": "Hørsholm (Male)",
         "marker": {
          "color": "#19d3f3",
          "pattern": {
           "shape": ""
          }
         },
         "name": "Hørsholm (Male)",
         "offsetgroup": "Hørsholm (Male)",
         "orientation": "v",
         "showlegend": true,
         "textposition": "auto",
         "type": "bar",
         "x": [
          "Crimes of violence",
          "Offences against property",
          "Andre straffelovsforbrydelser i alt",
          "Special acts",
          "The Road Traffic Act",
          "Sexual offenses"
         ],
         "xaxis": "x",
         "y": [
          1.61974951050217,
          1.2148121328766275,
          0.7145953722803692,
          0.3572976861401846,
          0.3334778403975056,
          0.23819845742678972
         ],
         "yaxis": "y"
        },
        {
         "alignmentgroup": "True",
         "hovertemplate": "MuniGender=Odder (Female)<br>Offence=%{x}<br>CrimePer10k=%{y}<extra></extra>",
         "legendgroup": "Odder (Female)",
         "marker": {
          "color": "#FF6692",
          "pattern": {
           "shape": ""
          }
         },
         "name": "Odder (Female)",
         "offsetgroup": "Odder (Female)",
         "orientation": "v",
         "showlegend": true,
         "textposition": "auto",
         "type": "bar",
         "x": [
          "Andre straffelovsforbrydelser i alt",
          "Offences against property",
          "The Road Traffic Act",
          "Sexual offenses",
          "Special acts",
          "Crimes of violence"
         ],
         "xaxis": "x",
         "y": [
          0.07886642656221247,
          0.05257761770814164,
          0.02628880885407082,
          0.02628880885407082,
          0.02628880885407082,
          0
         ],
         "yaxis": "y"
        },
        {
         "alignmentgroup": "True",
         "hovertemplate": "MuniGender=Odder (Male)<br>Offence=%{x}<br>CrimePer10k=%{y}<extra></extra>",
         "legendgroup": "Odder (Male)",
         "marker": {
          "color": "#B6E880",
          "pattern": {
           "shape": ""
          }
         },
         "name": "Odder (Male)",
         "offsetgroup": "Odder (Male)",
         "orientation": "v",
         "showlegend": true,
         "textposition": "auto",
         "type": "bar",
         "x": [
          "Crimes of violence",
          "Offences against property",
          "The Road Traffic Act",
          "Andre straffelovsforbrydelser i alt",
          "Special acts",
          "Sexual offenses"
         ],
         "xaxis": "x",
         "y": [
          1.5773285312442495,
          1.1304187807250454,
          0.7097978390599122,
          0.6835090302058414,
          0.3680433239569915,
          0.23659927968663738
         ],
         "yaxis": "y"
        },
        {
         "alignmentgroup": "True",
         "hovertemplate": "MuniGender=Skanderborg (Female)<br>Offence=%{x}<br>CrimePer10k=%{y}<extra></extra>",
         "legendgroup": "Skanderborg (Female)",
         "marker": {
          "color": "#FF97FF",
          "pattern": {
           "shape": ""
          }
         },
         "name": "Skanderborg (Female)",
         "offsetgroup": "Skanderborg (Female)",
         "orientation": "v",
         "showlegend": true,
         "textposition": "auto",
         "type": "bar",
         "x": [
          "Crimes of violence",
          "Andre straffelovsforbrydelser i alt",
          "Offences against property",
          "The Road Traffic Act",
          "Special acts",
          "Sexual offenses"
         ],
         "xaxis": "x",
         "y": [
          0.03904332149344609,
          0.029282491120084568,
          0.019521660746723044,
          0.019521660746723044,
          0.009760830373361522,
          0
         ],
         "yaxis": "y"
        },
        {
         "alignmentgroup": "True",
         "hovertemplate": "MuniGender=Skanderborg (Male)<br>Offence=%{x}<br>CrimePer10k=%{y}<extra></extra>",
         "legendgroup": "Skanderborg (Male)",
         "marker": {
          "color": "#FECB52",
          "pattern": {
           "shape": ""
          }
         },
         "name": "Skanderborg (Male)",
         "offsetgroup": "Skanderborg (Male)",
         "orientation": "v",
         "showlegend": true,
         "textposition": "auto",
         "type": "bar",
         "x": [
          "Crimes of violence",
          "The Road Traffic Act",
          "Offences against property",
          "Andre straffelovsforbrydelser i alt",
          "Special acts",
          "Sexual offenses"
         ],
         "xaxis": "x",
         "y": [
          1.7276669760849894,
          1.1224954929365751,
          0.9077572247226217,
          0.6344539742684989,
          0.2537815897073996,
          0.2147382682139535
         ],
         "yaxis": "y"
        }
       ],
       "layout": {
        "bargap": 0.3,
        "barmode": "group",
        "font": {
         "family": "Arial",
         "size": 13
        },
        "height": 500,
        "legend": {
         "title": {
          "text": "MuniGender"
         },
         "tracegroupgap": 0
        },
        "plot_bgcolor": "white",
        "template": {
         "data": {
          "bar": [
           {
            "error_x": {
             "color": "#2a3f5f"
            },
            "error_y": {
             "color": "#2a3f5f"
            },
            "marker": {
             "line": {
              "color": "#E5ECF6",
              "width": 0.5
             },
             "pattern": {
              "fillmode": "overlay",
              "size": 10,
              "solidity": 0.2
             }
            },
            "type": "bar"
           }
          ],
          "barpolar": [
           {
            "marker": {
             "line": {
              "color": "#E5ECF6",
              "width": 0.5
             },
             "pattern": {
              "fillmode": "overlay",
              "size": 10,
              "solidity": 0.2
             }
            },
            "type": "barpolar"
           }
          ],
          "carpet": [
           {
            "aaxis": {
             "endlinecolor": "#2a3f5f",
             "gridcolor": "white",
             "linecolor": "white",
             "minorgridcolor": "white",
             "startlinecolor": "#2a3f5f"
            },
            "baxis": {
             "endlinecolor": "#2a3f5f",
             "gridcolor": "white",
             "linecolor": "white",
             "minorgridcolor": "white",
             "startlinecolor": "#2a3f5f"
            },
            "type": "carpet"
           }
          ],
          "choropleth": [
           {
            "colorbar": {
             "outlinewidth": 0,
             "ticks": ""
            },
            "type": "choropleth"
           }
          ],
          "contour": [
           {
            "colorbar": {
             "outlinewidth": 0,
             "ticks": ""
            },
            "colorscale": [
             [
              0,
              "#0d0887"
             ],
             [
              0.1111111111111111,
              "#46039f"
             ],
             [
              0.2222222222222222,
              "#7201a8"
             ],
             [
              0.3333333333333333,
              "#9c179e"
             ],
             [
              0.4444444444444444,
              "#bd3786"
             ],
             [
              0.5555555555555556,
              "#d8576b"
             ],
             [
              0.6666666666666666,
              "#ed7953"
             ],
             [
              0.7777777777777778,
              "#fb9f3a"
             ],
             [
              0.8888888888888888,
              "#fdca26"
             ],
             [
              1,
              "#f0f921"
             ]
            ],
            "type": "contour"
           }
          ],
          "contourcarpet": [
           {
            "colorbar": {
             "outlinewidth": 0,
             "ticks": ""
            },
            "type": "contourcarpet"
           }
          ],
          "heatmap": [
           {
            "colorbar": {
             "outlinewidth": 0,
             "ticks": ""
            },
            "colorscale": [
             [
              0,
              "#0d0887"
             ],
             [
              0.1111111111111111,
              "#46039f"
             ],
             [
              0.2222222222222222,
              "#7201a8"
             ],
             [
              0.3333333333333333,
              "#9c179e"
             ],
             [
              0.4444444444444444,
              "#bd3786"
             ],
             [
              0.5555555555555556,
              "#d8576b"
             ],
             [
              0.6666666666666666,
              "#ed7953"
             ],
             [
              0.7777777777777778,
              "#fb9f3a"
             ],
             [
              0.8888888888888888,
              "#fdca26"
             ],
             [
              1,
              "#f0f921"
             ]
            ],
            "type": "heatmap"
           }
          ],
          "heatmapgl": [
           {
            "colorbar": {
             "outlinewidth": 0,
             "ticks": ""
            },
            "colorscale": [
             [
              0,
              "#0d0887"
             ],
             [
              0.1111111111111111,
              "#46039f"
             ],
             [
              0.2222222222222222,
              "#7201a8"
             ],
             [
              0.3333333333333333,
              "#9c179e"
             ],
             [
              0.4444444444444444,
              "#bd3786"
             ],
             [
              0.5555555555555556,
              "#d8576b"
             ],
             [
              0.6666666666666666,
              "#ed7953"
             ],
             [
              0.7777777777777778,
              "#fb9f3a"
             ],
             [
              0.8888888888888888,
              "#fdca26"
             ],
             [
              1,
              "#f0f921"
             ]
            ],
            "type": "heatmapgl"
           }
          ],
          "histogram": [
           {
            "marker": {
             "pattern": {
              "fillmode": "overlay",
              "size": 10,
              "solidity": 0.2
             }
            },
            "type": "histogram"
           }
          ],
          "histogram2d": [
           {
            "colorbar": {
             "outlinewidth": 0,
             "ticks": ""
            },
            "colorscale": [
             [
              0,
              "#0d0887"
             ],
             [
              0.1111111111111111,
              "#46039f"
             ],
             [
              0.2222222222222222,
              "#7201a8"
             ],
             [
              0.3333333333333333,
              "#9c179e"
             ],
             [
              0.4444444444444444,
              "#bd3786"
             ],
             [
              0.5555555555555556,
              "#d8576b"
             ],
             [
              0.6666666666666666,
              "#ed7953"
             ],
             [
              0.7777777777777778,
              "#fb9f3a"
             ],
             [
              0.8888888888888888,
              "#fdca26"
             ],
             [
              1,
              "#f0f921"
             ]
            ],
            "type": "histogram2d"
           }
          ],
          "histogram2dcontour": [
           {
            "colorbar": {
             "outlinewidth": 0,
             "ticks": ""
            },
            "colorscale": [
             [
              0,
              "#0d0887"
             ],
             [
              0.1111111111111111,
              "#46039f"
             ],
             [
              0.2222222222222222,
              "#7201a8"
             ],
             [
              0.3333333333333333,
              "#9c179e"
             ],
             [
              0.4444444444444444,
              "#bd3786"
             ],
             [
              0.5555555555555556,
              "#d8576b"
             ],
             [
              0.6666666666666666,
              "#ed7953"
             ],
             [
              0.7777777777777778,
              "#fb9f3a"
             ],
             [
              0.8888888888888888,
              "#fdca26"
             ],
             [
              1,
              "#f0f921"
             ]
            ],
            "type": "histogram2dcontour"
           }
          ],
          "mesh3d": [
           {
            "colorbar": {
             "outlinewidth": 0,
             "ticks": ""
            },
            "type": "mesh3d"
           }
          ],
          "parcoords": [
           {
            "line": {
             "colorbar": {
              "outlinewidth": 0,
              "ticks": ""
             }
            },
            "type": "parcoords"
           }
          ],
          "pie": [
           {
            "automargin": true,
            "type": "pie"
           }
          ],
          "scatter": [
           {
            "fillpattern": {
             "fillmode": "overlay",
             "size": 10,
             "solidity": 0.2
            },
            "type": "scatter"
           }
          ],
          "scatter3d": [
           {
            "line": {
             "colorbar": {
              "outlinewidth": 0,
              "ticks": ""
             }
            },
            "marker": {
             "colorbar": {
              "outlinewidth": 0,
              "ticks": ""
             }
            },
            "type": "scatter3d"
           }
          ],
          "scattercarpet": [
           {
            "marker": {
             "colorbar": {
              "outlinewidth": 0,
              "ticks": ""
             }
            },
            "type": "scattercarpet"
           }
          ],
          "scattergeo": [
           {
            "marker": {
             "colorbar": {
              "outlinewidth": 0,
              "ticks": ""
             }
            },
            "type": "scattergeo"
           }
          ],
          "scattergl": [
           {
            "marker": {
             "colorbar": {
              "outlinewidth": 0,
              "ticks": ""
             }
            },
            "type": "scattergl"
           }
          ],
          "scattermapbox": [
           {
            "marker": {
             "colorbar": {
              "outlinewidth": 0,
              "ticks": ""
             }
            },
            "type": "scattermapbox"
           }
          ],
          "scatterpolar": [
           {
            "marker": {
             "colorbar": {
              "outlinewidth": 0,
              "ticks": ""
             }
            },
            "type": "scatterpolar"
           }
          ],
          "scatterpolargl": [
           {
            "marker": {
             "colorbar": {
              "outlinewidth": 0,
              "ticks": ""
             }
            },
            "type": "scatterpolargl"
           }
          ],
          "scatterternary": [
           {
            "marker": {
             "colorbar": {
              "outlinewidth": 0,
              "ticks": ""
             }
            },
            "type": "scatterternary"
           }
          ],
          "surface": [
           {
            "colorbar": {
             "outlinewidth": 0,
             "ticks": ""
            },
            "colorscale": [
             [
              0,
              "#0d0887"
             ],
             [
              0.1111111111111111,
              "#46039f"
             ],
             [
              0.2222222222222222,
              "#7201a8"
             ],
             [
              0.3333333333333333,
              "#9c179e"
             ],
             [
              0.4444444444444444,
              "#bd3786"
             ],
             [
              0.5555555555555556,
              "#d8576b"
             ],
             [
              0.6666666666666666,
              "#ed7953"
             ],
             [
              0.7777777777777778,
              "#fb9f3a"
             ],
             [
              0.8888888888888888,
              "#fdca26"
             ],
             [
              1,
              "#f0f921"
             ]
            ],
            "type": "surface"
           }
          ],
          "table": [
           {
            "cells": {
             "fill": {
              "color": "#EBF0F8"
             },
             "line": {
              "color": "white"
             }
            },
            "header": {
             "fill": {
              "color": "#C8D4E3"
             },
             "line": {
              "color": "white"
             }
            },
            "type": "table"
           }
          ]
         },
         "layout": {
          "annotationdefaults": {
           "arrowcolor": "#2a3f5f",
           "arrowhead": 0,
           "arrowwidth": 1
          },
          "autotypenumbers": "strict",
          "coloraxis": {
           "colorbar": {
            "outlinewidth": 0,
            "ticks": ""
           }
          },
          "colorscale": {
           "diverging": [
            [
             0,
             "#8e0152"
            ],
            [
             0.1,
             "#c51b7d"
            ],
            [
             0.2,
             "#de77ae"
            ],
            [
             0.3,
             "#f1b6da"
            ],
            [
             0.4,
             "#fde0ef"
            ],
            [
             0.5,
             "#f7f7f7"
            ],
            [
             0.6,
             "#e6f5d0"
            ],
            [
             0.7,
             "#b8e186"
            ],
            [
             0.8,
             "#7fbc41"
            ],
            [
             0.9,
             "#4d9221"
            ],
            [
             1,
             "#276419"
            ]
           ],
           "sequential": [
            [
             0,
             "#0d0887"
            ],
            [
             0.1111111111111111,
             "#46039f"
            ],
            [
             0.2222222222222222,
             "#7201a8"
            ],
            [
             0.3333333333333333,
             "#9c179e"
            ],
            [
             0.4444444444444444,
             "#bd3786"
            ],
            [
             0.5555555555555556,
             "#d8576b"
            ],
            [
             0.6666666666666666,
             "#ed7953"
            ],
            [
             0.7777777777777778,
             "#fb9f3a"
            ],
            [
             0.8888888888888888,
             "#fdca26"
            ],
            [
             1,
             "#f0f921"
            ]
           ],
           "sequentialminus": [
            [
             0,
             "#0d0887"
            ],
            [
             0.1111111111111111,
             "#46039f"
            ],
            [
             0.2222222222222222,
             "#7201a8"
            ],
            [
             0.3333333333333333,
             "#9c179e"
            ],
            [
             0.4444444444444444,
             "#bd3786"
            ],
            [
             0.5555555555555556,
             "#d8576b"
            ],
            [
             0.6666666666666666,
             "#ed7953"
            ],
            [
             0.7777777777777778,
             "#fb9f3a"
            ],
            [
             0.8888888888888888,
             "#fdca26"
            ],
            [
             1,
             "#f0f921"
            ]
           ]
          },
          "colorway": [
           "#636efa",
           "#EF553B",
           "#00cc96",
           "#ab63fa",
           "#FFA15A",
           "#19d3f3",
           "#FF6692",
           "#B6E880",
           "#FF97FF",
           "#FECB52"
          ],
          "font": {
           "color": "#2a3f5f"
          },
          "geo": {
           "bgcolor": "white",
           "lakecolor": "white",
           "landcolor": "#E5ECF6",
           "showlakes": true,
           "showland": true,
           "subunitcolor": "white"
          },
          "hoverlabel": {
           "align": "left"
          },
          "hovermode": "closest",
          "mapbox": {
           "style": "light"
          },
          "paper_bgcolor": "white",
          "plot_bgcolor": "#E5ECF6",
          "polar": {
           "angularaxis": {
            "gridcolor": "white",
            "linecolor": "white",
            "ticks": ""
           },
           "bgcolor": "#E5ECF6",
           "radialaxis": {
            "gridcolor": "white",
            "linecolor": "white",
            "ticks": ""
           }
          },
          "scene": {
           "xaxis": {
            "backgroundcolor": "#E5ECF6",
            "gridcolor": "white",
            "gridwidth": 2,
            "linecolor": "white",
            "showbackground": true,
            "ticks": "",
            "zerolinecolor": "white"
           },
           "yaxis": {
            "backgroundcolor": "#E5ECF6",
            "gridcolor": "white",
            "gridwidth": 2,
            "linecolor": "white",
            "showbackground": true,
            "ticks": "",
            "zerolinecolor": "white"
           },
           "zaxis": {
            "backgroundcolor": "#E5ECF6",
            "gridcolor": "white",
            "gridwidth": 2,
            "linecolor": "white",
            "showbackground": true,
            "ticks": "",
            "zerolinecolor": "white"
           }
          },
          "shapedefaults": {
           "line": {
            "color": "#2a3f5f"
           }
          },
          "ternary": {
           "aaxis": {
            "gridcolor": "white",
            "linecolor": "white",
            "ticks": ""
           },
           "baxis": {
            "gridcolor": "white",
            "linecolor": "white",
            "ticks": ""
           },
           "bgcolor": "#E5ECF6",
           "caxis": {
            "gridcolor": "white",
            "linecolor": "white",
            "ticks": ""
           }
          },
          "title": {
           "x": 0.05
          },
          "xaxis": {
           "automargin": true,
           "gridcolor": "white",
           "linecolor": "white",
           "ticks": "",
           "title": {
            "standoff": 15
           },
           "zerolinecolor": "white",
           "zerolinewidth": 2
          },
          "yaxis": {
           "automargin": true,
           "gridcolor": "white",
           "linecolor": "white",
           "ticks": "",
           "title": {
            "standoff": 15
           },
           "zerolinecolor": "white",
           "zerolinewidth": 2
          }
         }
        },
        "title": {
         "text": "Crime per 10,000 by Offence Type – Bottom 5 Municipalities (by Gender)"
        },
        "xaxis": {
         "anchor": "y",
         "domain": [
          0,
          1
         ],
         "tickangle": -45,
         "title": {
          "text": "Type of Crime"
         }
        },
        "yaxis": {
         "anchor": "x",
         "domain": [
          0,
          1
         ],
         "title": {
          "text": "Crimes per 10,000 Residents"
         }
        }
       }
      }
     },
     "metadata": {},
     "output_type": "display_data"
    }
   ],
   "source": [
    "# Copy and clean gender-based crime data\n",
    "plot_df = crime_gender_pop.copy()\n",
    "\n",
    "# Translate offence labels to English\n",
    "offence_translation = {\n",
    "    \"Seksualforbrydelser i alt\": \"Sexual offenses\",\n",
    "    \"Voldsforbrydelser i alt\": \"Crimes of violence\",\n",
    "    \"Ejendomsforbrydelser i alt\": \"Offences against property\",\n",
    "    \"Andre Straffelovsforbrydelser i alt\": \"Other offences\",\n",
    "    \"Færdselslov i alt\": \"The Road Traffic Act\",\n",
    "    \"Særlove i alt\": \"Special acts\"\n",
    "}\n",
    "# Translate offence and gender labels to English\n",
    "plot_df[\"Offence\"] = plot_df[\"Offence\"].replace(offence_translation)\n",
    "plot_df[\"gender/total\"] = plot_df[\"gender/total\"].replace({\"Mænd\": \"Male\", \"Kvinder\": \"Female\"})\n",
    "plot_df[\"Municipality\"] = plot_df[\"Municipality\"].str.title()\n",
    "plot_df[\"MuniGender\"] = plot_df[\"Municipality\"] + \" (\" + plot_df[\"gender/total\"] + \")\"\n",
    "\n",
    "# --- Top 5 plot ---\n",
    "top_df = plot_df[plot_df[\"Group\"] == \"Top 5\"]\n",
    "\n",
    "fig_top = px.bar(\n",
    "    top_df,\n",
    "    x=\"Offence\",\n",
    "    y=\"CrimePer10k\",\n",
    "    color=\"MuniGender\",\n",
    "    barmode=\"group\",\n",
    "    title=\"Crime per 10,000 by Offence Type – Top 5 Municipalities (by Gender)\",\n",
    "    height=500\n",
    ")\n",
    "\n",
    "fig_top.update_layout(\n",
    "    xaxis_title=\"Type of Crime\",\n",
    "    yaxis_title=\"Crimes per 10,000 Residents\",\n",
    "    xaxis_tickangle=-45,\n",
    "    font=dict(family=\"Arial\", size=13),\n",
    "    plot_bgcolor=\"white\",\n",
    "    bargap=0.3,\n",
    ")\n",
    "\n",
    "fig_top.write_html(r\"C:\\Users\\Baxe\\Documents\\SocialDataanalyseVisulisation\\signedue.github.io\\crime_offence_gender_top.html\")\n",
    "fig_top.show()\n",
    "\n",
    "\n",
    "# --- Bottom 5 plot ---\n",
    "bottom_df = plot_df[plot_df[\"Group\"] == \"Bottom 5\"]\n",
    "\n",
    "fig_bottom = px.bar(\n",
    "    bottom_df,\n",
    "    x=\"Offence\",\n",
    "    y=\"CrimePer10k\",\n",
    "    color=\"MuniGender\",\n",
    "    barmode=\"group\",\n",
    "    title=\"Crime per 10,000 by Offence Type – Bottom 5 Municipalities (by Gender)\",\n",
    "    height=500\n",
    ")\n",
    "\n",
    "fig_bottom.update_layout(\n",
    "    xaxis_title=\"Type of Crime\",\n",
    "    yaxis_title=\"Crimes per 10,000 Residents\",\n",
    "    xaxis_tickangle=-45,\n",
    "    font=dict(family=\"Arial\", size=13),\n",
    "    plot_bgcolor=\"white\",\n",
    "    bargap=0.3,\n",
    ")\n",
    "\n",
    "fig_bottom.write_html(r\"C:\\Users\\Baxe\\Documents\\SocialDataanalyseVisulisation\\signedue.github.io\\crime_offence_gender_bottom.html\")\n",
    "fig_bottom.show()\n"
   ]
  },
  {
   "cell_type": "markdown",
   "id": "1c81c66a",
   "metadata": {},
   "source": [
    "## Predictive model"
   ]
  },
  {
   "cell_type": "code",
   "execution_count": 168,
   "id": "bb8de094",
   "metadata": {},
   "outputs": [
    {
     "name": "stdout",
     "output_type": "stream",
     "text": [
      "R² score: 0.781\n",
      "RMSE: 2.55\n"
     ]
    }
   ],
   "source": [
    "import pandas as pd\n",
    "import numpy as np\n",
    "from sklearn.model_selection import train_test_split\n",
    "from sklearn.preprocessing import OneHotEncoder\n",
    "from sklearn.ensemble import RandomForestRegressor\n",
    "from sklearn.metrics import mean_squared_error, r2_score\n",
    "from sklearn.pipeline import Pipeline\n",
    "from sklearn.compose import ColumnTransformer\n",
    "\n",
    "# --- Prepare data ---\n",
    "df_model = df_merged.copy()\n",
    "\n",
    "# Filter only rows for Men and the total offence category\n",
    "df_model = df_model[\n",
    "    (df_model[\"Gender\"].str.lower() == \"men\") &\n",
    "    (df_model[\"Offence\"].str.lower().str.strip() == \"nature of the offence, total\") &\n",
    "    df_model[\"Population\"].notna() &\n",
    "    df_model[\"Count\"].notna()\n",
    "].copy()\n",
    "\n",
    "# Calculate crime rate per 10,000 residents\n",
    "df_model[\"CrimeRatePer10k\"] = df_model[\"Count\"] / df_model[\"Population\"] * 10_000\n",
    "\n",
    "# --- Define features and target ---\n",
    "X = df_model[[\"Municipality\", \"Year\", \"Population\"]]\n",
    "y = df_model[\"CrimeRatePer10k\"]\n",
    "\n",
    "# --- Preprocessing ---\n",
    "categorical_features = [\"Municipality\"]\n",
    "numeric_features = [\"Year\", \"Population\"]\n",
    "\n",
    "preprocessor = ColumnTransformer([\n",
    "    (\"cat\", OneHotEncoder(handle_unknown=\"ignore\"), categorical_features)\n",
    "], remainder=\"passthrough\")\n",
    "\n",
    "# --- Model pipeline ---\n",
    "model = Pipeline([\n",
    "    (\"preprocess\", preprocessor),\n",
    "    (\"regressor\", RandomForestRegressor(random_state=42))\n",
    "])\n",
    "\n",
    "# --- Train/test split ---\n",
    "X_train, X_test, y_train, y_test = train_test_split(\n",
    "    X, y, test_size=0.2, random_state=42\n",
    ")\n",
    "\n",
    "# --- Fit model ---\n",
    "model.fit(X_train, y_train)\n",
    "\n",
    "# --- Predict and evaluate ---\n",
    "y_pred = model.predict(X_test)\n",
    "\n",
    "print(f\"R² score: {r2_score(y_test, y_pred):.3f}\")\n",
    "print(f\"RMSE: {mean_squared_error(y_test, y_pred, squared=False):.2f}\")\n"
   ]
  },
  {
   "cell_type": "code",
   "execution_count": 174,
   "id": "c2702253",
   "metadata": {},
   "outputs": [
    {
     "data": {
      "image/png": "[encoded data removed]",
      "text/plain": [
       "<Figure size 800x600 with 1 Axes>"
      ]
     },
     "metadata": {},
     "output_type": "display_data"
    }
   ],
   "source": [
    "import matplotlib.pyplot as plt\n",
    "\n",
    "# --- Predicted vs Actual Scatter Plot ---\n",
    "plt.figure(figsize=(8, 6))\n",
    "plt.scatter(y_test, y_pred, alpha=0.6, edgecolors='k')\n",
    "plt.plot([y_test.min(), y_test.max()], [y_test.min(), y_test.max()], 'r--', lw=2)\n",
    "plt.xlabel(\"Actual Crime Rate per 10,000 (Men)\")\n",
    "plt.ylabel(\"Predicted Crime Rate per 10,000 (Men)\")\n",
    "plt.title(\"Predicted vs Actual Crime Rates (Men)\")\n",
    "plt.grid(True)\n",
    "plt.tight_layout()\n",
    "\n",
    "# Save as PNG\n",
    "plt.savefig(r\"C:\\Users\\Baxe\\Documents\\SocialDataanalyseVisulisation\\signedue.github.io\\crime_predicted1.png\")\n",
    "\n",
    "# Show plot\n",
    "plt.show()\n"
   ]
  },
  {
   "cell_type": "markdown",
   "id": "3fa64a91",
   "metadata": {},
   "source": [
    "# Genre\n",
    "\n",
    "The genre of data story we used is a **“Magazine Style” narrative** — combining structured text with visualizations to guide the reader through a series of insights. We structured the story around a series of visual blocks (charts, maps, tables), each supported by concise explanatory text that builds a coherent and informative flow. This format is ideal for audiences who want both visual exploration and clear interpretation.\n",
    "\n",
    "---\n",
    "\n",
    "### Visual Narrative Tools (Segal & Heer – Figure 7)\n",
    "\n",
    "We used tools from all three categories of visual narrative to support engagement and comprehension:\n",
    "\n",
    "* **Visual Structuring**\n",
    "\n",
    "  * *Consistent Color*: We used fixed color palettes (e.g., consistent municipality colors) to help the user visually track patterns across plots.\n",
    "  * *Small Multiples / Facets*: For comparing top 5 vs bottom 5 municipalities or male vs female, we used facet plots or side-by-side bar charts.\n",
    "  * *Annotations / Labels*: Tooltips and axis titles help interpret the values in each chart.\n",
    "\n",
    "* **Highlighting**\n",
    "\n",
    "  * *Emphasis with Color*: Important groups (e.g., Top 5 vs Bottom 5) were highlighted in contrasting colors (e.g., red and green).\n",
    "  * *Ordering / Sorting*: Bars were sorted to emphasize differences in crime rates.\n",
    "\n",
    "* **Transitions**\n",
    "\n",
    "  * *Progressive Disclosure*: We gradually revealed insights — starting with overall crime, then gender breakdowns, and finally predictive modeling.\n",
    "  * *Zooming In*: After identifying high-crime areas, we zoomed into specific types of crime and gender patterns.\n",
    "\n",
    "---\n",
    "\n",
    "### Narrative Structure Tools (Segal & Heer – Figure 7)\n",
    "\n",
    "We also applied tools from each narrative structure category:\n",
    "\n",
    "* **Ordering**\n",
    "\n",
    "  * *Chronological*: Crime trends over time were presented using line plots across years.\n",
    "  * *Thematic Blocks*: The story is divided into sections like “Gender Differences,” “Crime Types,” and “Prediction.”\n",
    "\n",
    "* **Interactivity / Control**\n",
    "\n",
    "  * *Interactive Plots*: Users can hover to explore individual municipalities or years, using Plotly to allow dynamic exploration.\n",
    "\n",
    "* **Messaging**\n",
    "\n",
    "  * *Text Blocks*: Each chart is introduced with clear narrative text to guide interpretation.\n",
    "  * *Headings & Captions*: Every visualization is accompanied by a meaningful title and explanation of what the user should take away.\n",
    "\n"
   ]
  },
  {
   "cell_type": "markdown",
   "id": "a9bc4fbf",
   "metadata": {},
   "source": [
    "# Visualisations\n",
    "\n",
    "We carefully selected visualizations that support both exploration and storytelling. Each chart was designed to highlight key findings while allowing users to compare municipalities, crime types, and demographic patterns effectively.\n",
    "\n",
    "* **Bar charts** were used to compare average crime rates across municipalities. This allowed us to clearly show the contrast between the top 5 and bottom 5 municipalities, and to break down the differences by gender and crime category.\n",
    "\n",
    "* **Line plots** were used to visualize how crime rates changed over time in each municipality. These helped us identify trends such as spikes in 2012–2013 or the steady decline in some regions like Odense.\n",
    "\n",
    "* **Grouped bar charts by gender** allowed us to compare male and female crime rates side by side. Since gender was a major factor in the data, this helped illustrate the magnitude of the gap.\n",
    "\n",
    "* **Scatter plot of predicted vs actual crime rates** was used to evaluate our machine learning model. This made it easy to see how closely the model aligned with real-world crime rates, showing the effectiveness of our approach.\n",
    "\n",
    "All visualizations were made interactive using Plotly, enabling users to hover and explore specific values — an important feature for public-facing data storytelling. Together, these plots build a coherent visual narrative from historical patterns to predictive insights."
   ]
  },
  {
   "cell_type": "markdown",
   "id": "5f03591a",
   "metadata": {},
   "source": [
    "# Discussion\n",
    "\n",
    "Several aspects of our project worked well. The decision to focus on municipality-level data allowed us to create clear, interpretable visualizations and identify consistent geographical patterns in crime rates. By combining crime and population datasets, we were able to normalize offences per 10,000 residents — a crucial step for making meaningful comparisons across municipalities of very different sizes. The gender-based breakdowns revealed stark differences in crime involvement, and using interactive visualizations gave users a powerful way to explore those differences.\n",
    "\n",
    "A key success was our machine learning model trained on male crime data. With an R² score of 0.78 and a low RMSE, it performed well in predicting crime rates based on demographic and temporal features. \n",
    "\n",
    "However, several limitations remain. First, the datasets only connect via municipality, which restricts how deeply we can analyze the relationships between crime, education, income, and other factors. Without individual-level or even household-level data, we cannot control for variables like age, education, or income directly. Second, the dataset contains only reported crimes — not necessarily all crimes committed — and changes in reporting behavior over time could distort observed trends.\n",
    "\n",
    "Additionally, the crime categories are quite broad, especially in the \"Special Acts\" and \"Other Offences\" groups. A more granular breakdown would allow deeper insight into what types of crime are most common or increasing. On the technical side, while our model performs well, it could potentially be improved with more advanced models like XGBoost or temporal models like LSTM.\n",
    "\n",
    "Finally, from a design standpoint, while the notebook contains thorough visualizations, integrating them into a narrative flow for a public audience required balancing simplicity and depth. Some complex findings may benefit from additional contextual explanation or interactivity in a full web app format.\n"
   ]
  },
  {
   "cell_type": "markdown",
   "id": "6261411f",
   "metadata": {},
   "source": [
    "# Contributions\n",
    "Signe Dueholm Nielsen found and extracted the data. The group aggreed on the directions. Then Signe did everything in this notebook."
   ]
  }
 ],
 "metadata": {
  "kernelspec": {
   "display_name": "base",
   "language": "python",
   "name": "python3"
  },
  "language_info": {
   "codemirror_mode": {
    "name": "ipython",
    "version": 3
   },
   "file_extension": ".py",
   "mimetype": "text/x-python",
   "name": "python",
   "nbconvert_exporter": "python",
   "pygments_lexer": "ipython3",
   "version": "3.9.13"
  }
 },
 "nbformat": 4,
 "nbformat_minor": 5
}
