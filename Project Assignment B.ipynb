{
 "cells": [
  {
   "cell_type": "markdown",
   "id": "2157d81d",
   "metadata": {},
   "source": [
    "## Motivation\n",
    "\n",
    "This group project explores **regional inequality in Denmark** by analyzing three core pillars of societal well-being: **education**, **income**, and **crime**. Using datasets from **Statistics Denmark**, we investigate how geography and gender shape opportunity, safety, and economic outcomes across the country between **2007 and 2024**.\n",
    "\n",
    "Each member of the group focused on one domain:\n",
    "\n",
    "- **Education**: Examining national and regional trends in educational attainment from 2008 to 2023, broken down by gender and education type. Education is a key driver of social mobility and a predictor of both income and crime involvement.\n",
    "  \n",
    "- **Income**: Analyzing regional disposable income from 2007 to 2023, disaggregated by gender. This section highlights how economic inequality reflects broader structural patterns tied to education and access to opportunity.\n",
    "\n",
    "- **Crime**: Investigating crime trends at the municipal level using combined data on convictions and population demographics. The analysis focuses on gender differences and temporal patterns from 2008 to 2024.\n",
    "\n",
    "Together, these three perspectives provide a **comprehensive view of inequality in Denmark**, allowing us to uncover where disparities lie, how they evolve over time, and how different dimensions of society intersect. That's why we merged the key findings of these 3 pages together into a shared one called **Combined Overview** on the Main Page on our GitHub Website\n",
    "\n",
    "Our goal was to build a set of **clean, interactive, and data-driven visualizations** that are both informative and intuitive. Each section of the website presents its own story, while this notebook documents the technical process and analytical rigor behind them."
   ]
  },
  {
   "cell_type": "markdown",
   "id": "2c9d3113",
   "metadata": {},
   "source": [
    "## Categorizing Jupyter Notebooks\n",
    "\n",
    "We created 3 different Jupyter Notebooks each one handlin the differnt datasets, one for \"education\", one for \"crime\" and one for \"income\". You can find how we handled the datasets and our approach on the task in each one of the notebooks.\n",
    "\n",
    "# Contributions\n",
    "**Signe Dueholm Nielsen** found and extracted the data. The group aggreed on the directions. Then Signe did everything in the \"Crime\" Notebook.\n",
    "\n",
    "**Arham Aziz Noman** found and extracted the data. The group aggreed on the directions. Then Arham Aziz did everything in the \"Income\" Notebook.\n",
    "\n",
    "**Konstantinos Lykostratis** found and extracted the data. The group aggreed on the directions. Then Konstantinos did everything in the \"Education\" Notebook.\n",
    "\n",
    "\n",
    "We were each responsible for:\n",
    "\n",
    "- Cleaning and merging raw income datasets  \n",
    "- Designing all interactive Plotly visualizations  \n",
    "- Writing narrative content for the web-based story  \n",
    "- Integrating gender comparisons and top/bottom region analysis  \n"
   ]
  },
  {
   "cell_type": "markdown",
   "id": "08bd7398",
   "metadata": {},
   "source": [
    "## Genre and Visual Narrative\n",
    "\n",
    "We designed our project using a **linear, magazine-style narrative structure**, where each section builds upon the previous one. The goal was to make the data insights clear and accessible for a general audience, without requiring prior technical knowledge.\n",
    "\n",
    "Each story begins with a **national overview** and progressively narrows focus — diving into **gender, regional patterns, and trends over time**. We used a consistent layout to guide readers through this journey, pairing visualizations with short explanatory blocks.\n",
    "\n",
    "Our approach combined **descriptive analysis** and **exploratory interaction**, balancing narrative clarity with opportunities for the user to engage with the data more deeply.\n",
    "\n",
    "### Visual Narrative Tools (Segel & Heer – Figure 7)\n",
    "\n",
    "We applied tools from all three categories:\n",
    "\n",
    "- **Visual Structuring**: We used consistent color schemes and layouts to align gender, region, and time dimensions across charts.\n",
    "- **Highlighting**: We emphasized key comparisons through color contrasts, sorted bars, and grouping.\n",
    "- **Progressive Disclosure**: We introduced high-level insights first and only revealed deeper detail once context had been established.\n",
    "\n",
    "\n",
    "### Narrative Structure Tools\n",
    "\n",
    "- **Ordered Flow**: Each page moves from general to specific insights — mirroring a traditional article or scroll-based narrative.\n",
    "- **Context + Detail**: Every visualization is introduced by a brief narrative and followed by commentary explaining what the user is seeing.\n",
    "- **Interactivity**: Many visualizations allow the user to hover, filter, or zoom — supporting both passive reading and active exploration.\n",
    "\n",
    "This format allowed us to communicate complex trends in education, income, and crime in a way that is **intuitive, engaging, and analytically sound**.\n"
   ]
  },
  {
   "cell_type": "markdown",
   "id": "c1ab7598",
   "metadata": {},
   "source": [
    "## Visualizations\n",
    "\n",
    "Our visualizations were carefully chosen to balance **clarity**, **exploration**, and **storytelling**. Across the three domains — education, income, and crime — we used charts that highlighted key comparisons, revealed trends, and supported user interaction.\n",
    "\n",
    "All visualizations were created using **Plotly** (with some support from Matplotlib), allowing for full interactivity: hover tooltips, zooming, and filtering by region or gender.\n",
    "\n",
    "We used:\n",
    "\n",
    "- **Line charts** to show long-term trends over time (2008–2023/24), enabling comparison across years and between groups\n",
    "- **Bar charts** for comparing categorical variables like region, gender, and program type\n",
    "- **Grouped and side-by-side bar charts** to show male/female contrasts or top/bottom differences\n",
    "- **Interactive mapbox plots** to highlight regional disparities across Denmark\n",
    "- **Scatter plots** to visualize prediction accuracy from our machine learning models\n",
    "\n",
    "Each visualization was embedded in a structured narrative block, with titles and captions that interpret the data for non-technical users. This ensured that every visual not only presented the data, but also contributed to the story we aimed to tell."
   ]
  },
  {
   "cell_type": "markdown",
   "id": "9b13eac8",
   "metadata": {},
   "source": [
    "##  Discussion\n",
    "\n",
    "**What worked well:**\n",
    "- The decision to analyze data at the municipality level enabled clearer visual contrasts and regional insights\n",
    "- Plotly allowed for highly interactive and accessible visualizations across all three domains\n",
    "- Gender comparisons were consistently visualized using matched formats, aiding interpretation\n",
    "- The machine learning models (especially in education and crime) provided predictive insights with strong performance and interpretability\n",
    "- Our structured narrative — linear and segmented — made the complex datasets understandable for non-technical audiences\n",
    "\n",
    "**What could be improved:**\n",
    "- We did not control for population size, cost of living, or demographic differences across regions (e.g. age, education level)\n",
    "- Bubble maps relied on approximate coordinates for smaller municipalities\n",
    "- Crime data was based on reported incidents, which may underrepresent certain offence types or locations\n",
    "- Additional explanatory variables (e.g. employment type, migration, policy changes) could deepen insights, especially in income and crime\n",
    "- More advanced ML models (e.g. XGBoost, LSTM) and multi-domain integrations (e.g. linking income + crime + education) would elevate the analytical depth\n",
    "\n",
    "Overall, the project successfully reveals important patterns in Danish inequality, but could be enhanced further by incorporating richer data and deeper modeling in future work."
   ]
  },
  {
   "cell_type": "markdown",
   "id": "7aa92929",
   "metadata": {},
   "source": [
    "## References\n",
    "\n",
    "- Statistics Denmark education dataset (2008–2023)\n",
    "- Segel, E., & Heer, J. (2010). Narrative Visualization: Telling Stories with Data. IEEE Trans. on Visualization and Computer Graphics\n",
    "- Plotly Python documentation"
   ]
  }
 ],
 "metadata": {
  "kernelspec": {
   "display_name": "Python (venv)",
   "language": "python",
   "name": "venv"
  },
  "language_info": {
   "codemirror_mode": {
    "name": "ipython",
    "version": 3
   },
   "file_extension": ".py",
   "mimetype": "text/x-python",
   "name": "python",
   "nbconvert_exporter": "python",
   "pygments_lexer": "ipython3",
   "version": "3.13.2"
  }
 },
 "nbformat": 4,
 "nbformat_minor": 5
}
